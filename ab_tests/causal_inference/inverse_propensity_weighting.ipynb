{
 "cells": [
  {
   "cell_type": "markdown",
   "metadata": {
    "toc": true
   },
   "source": [
    "<h1>Table of Contents<span class=\"tocSkip\"></span></h1>\n",
    "<div class=\"toc\"><ul class=\"toc-item\"><li><span><a href=\"#Inverse-Propensity-Weighting\" data-toc-modified-id=\"Inverse-Propensity-Weighting-1\"><span class=\"toc-item-num\">1&nbsp;&nbsp;</span>Inverse Propensity Weighting</a></span><ul class=\"toc-item\"><li><span><a href=\"#Data-Preprocessing\" data-toc-modified-id=\"Data-Preprocessing-1.1\"><span class=\"toc-item-num\">1.1&nbsp;&nbsp;</span>Data Preprocessing</a></span></li><li><span><a href=\"#Outcome-Analysis\" data-toc-modified-id=\"Outcome-Analysis-1.2\"><span class=\"toc-item-num\">1.2&nbsp;&nbsp;</span>Outcome Analysis</a></span></li><li><span><a href=\"#Propensity-Score-Estimation\" data-toc-modified-id=\"Propensity-Score-Estimation-1.3\"><span class=\"toc-item-num\">1.3&nbsp;&nbsp;</span>Propensity Score Estimation</a></span></li><li><span><a href=\"#Outcome-Analysis-with-Inverse-Propensity-Score-Weighting\" data-toc-modified-id=\"Outcome-Analysis-with-Inverse-Propensity-Score-Weighting-1.4\"><span class=\"toc-item-num\">1.4&nbsp;&nbsp;</span>Outcome Analysis with Inverse Propensity Score Weighting</a></span></li><li><span><a href=\"#Ending-Notes\" data-toc-modified-id=\"Ending-Notes-1.5\"><span class=\"toc-item-num\">1.5&nbsp;&nbsp;</span>Ending Notes</a></span></li></ul></li><li><span><a href=\"#Reference\" data-toc-modified-id=\"Reference-2\"><span class=\"toc-item-num\">2&nbsp;&nbsp;</span>Reference</a></span></li></ul></div>"
   ]
  },
  {
   "cell_type": "code",
   "execution_count": 1,
   "metadata": {
    "ExecuteTime": {
     "end_time": "2020-11-07T21:28:39.160131Z",
     "start_time": "2020-11-07T21:28:38.957215Z"
    }
   },
   "outputs": [
    {
     "data": {
      "text/html": [
       "<style>\n",
       "@import url('http://fonts.googleapis.com/css?family=Source+Code+Pro');\n",
       "@import url('http://fonts.googleapis.com/css?family=Vollkorn');\n",
       "@import url('http://fonts.googleapis.com/css?family=Arimo');\n",
       "@import url('http://fonts.googleapis.com/css?family=Fira_sans');\n",
       "    \n",
       "    div.cell {\n",
       "        width: 1000px;\n",
       "        margin-left: 0% !important;\n",
       "        margin-right: auto;\n",
       "    }\n",
       "    div.text_cell code {\n",
       "        background: transparent;\n",
       "        color: #000000;\n",
       "        font-weight: 600;\n",
       "        font-size: 12pt;\n",
       "        font-style: bold;\n",
       "        font-family:  'Source Code Pro', Consolas, monocco, monospace;\n",
       "    }\n",
       "    h1 {\n",
       "        font-family: 'Open sans',verdana,arial,sans-serif;\n",
       "\t}\n",
       "\t\n",
       "    div.input_area {\n",
       "        background: #F6F6F9;\n",
       "        border: 1px solid #586e75;\n",
       "    }\n",
       "\n",
       "    .text_cell_render h1 {\n",
       "        font-weight: 200;\n",
       "        font-size: 30pt;\n",
       "        line-height: 100%;\n",
       "        color:#c76c0c;\n",
       "        margin-bottom: 0.5em;\n",
       "        margin-top: 1em;\n",
       "        display: block;\n",
       "        white-space: wrap;\n",
       "        text-align: left;\n",
       "    } \n",
       "    h2 {\n",
       "        font-family: 'Open sans',verdana,arial,sans-serif;\n",
       "        text-align: left;\n",
       "    }\n",
       "    .text_cell_render h2 {\n",
       "        font-weight: 200;\n",
       "        font-size: 16pt;\n",
       "        font-style: italic;\n",
       "        line-height: 100%;\n",
       "        color:#c76c0c;\n",
       "        margin-bottom: 0.5em;\n",
       "        margin-top: 1.5em;\n",
       "        display: block;\n",
       "        white-space: wrap;\n",
       "        text-align: left;\n",
       "    } \n",
       "    h3 {\n",
       "        font-family: 'Open sans',verdana,arial,sans-serif;\n",
       "    }\n",
       "    .text_cell_render h3 {\n",
       "        font-weight: 200;\n",
       "        font-size: 14pt;\n",
       "        line-height: 100%;\n",
       "        color:#d77c0c;\n",
       "        margin-bottom: 0.5em;\n",
       "        margin-top: 2em;\n",
       "        display: block;\n",
       "        white-space: wrap;\n",
       "        text-align: left;\n",
       "    }\n",
       "    h4 {\n",
       "        font-family: 'Open sans',verdana,arial,sans-serif;\n",
       "    }\n",
       "    .text_cell_render h4 {\n",
       "        font-weight: 100;\n",
       "        font-size: 14pt;\n",
       "        color:#d77c0c;\n",
       "        margin-bottom: 0.5em;\n",
       "        margin-top: 0.5em;\n",
       "        display: block;\n",
       "        white-space: nowrap;\n",
       "    }\n",
       "    h5 {\n",
       "        font-family: 'Open sans',verdana,arial,sans-serif;\n",
       "    }\n",
       "    .text_cell_render h5 {\n",
       "        font-weight: 200;\n",
       "        font-style: normal;\n",
       "        color: #1d3b84;\n",
       "        font-size: 16pt;\n",
       "        margin-bottom: 0em;\n",
       "        margin-top: 0.5em;\n",
       "        display: block;\n",
       "        white-space: nowrap;\n",
       "    }\n",
       "    div.text_cell_render{\n",
       "        font-family: 'Fira sans', verdana,arial,sans-serif;\n",
       "        line-height: 125%;\n",
       "        font-size: 115%;\n",
       "        text-align:justify;\n",
       "        text-justify:inter-word;\n",
       "    }\n",
       "    div.output_wrapper{\n",
       "        margin-top:0.2em;\n",
       "        margin-bottom:0.2em;\n",
       "    }\n",
       "\n",
       "    code{\n",
       "      font-size: 70%;\n",
       "    }\n",
       "    .rendered_html code{\n",
       "    background-color: transparent;\n",
       "    }\n",
       "    ul{\n",
       "        margin: 2em;\n",
       "    }\n",
       "    ul li{\n",
       "        padding-left: 0.5em; \n",
       "        margin-bottom: 0.5em; \n",
       "        margin-top: 0.5em; \n",
       "    }\n",
       "    ul li li{\n",
       "        padding-left: 0.2em; \n",
       "        margin-bottom: 0.2em; \n",
       "        margin-top: 0.2em; \n",
       "    }\n",
       "    ol{\n",
       "        margin: 2em;\n",
       "    }\n",
       "    ol li{\n",
       "        padding-left: 0.5em; \n",
       "        margin-bottom: 0.5em; \n",
       "        margin-top: 0.5em; \n",
       "    }\n",
       "    ul li{\n",
       "        padding-left: 0.5em; \n",
       "        margin-bottom: 0.5em; \n",
       "        margin-top: 0.2em; \n",
       "    }\n",
       "    a:link{\n",
       "       font-weight: bold;\n",
       "       color:#447adb;\n",
       "    }\n",
       "    a:visited{\n",
       "       font-weight: bold;\n",
       "       color: #1d3b84;\n",
       "    }\n",
       "    a:hover{\n",
       "       font-weight: bold;\n",
       "       color: #1d3b84;\n",
       "    }\n",
       "    a:focus{\n",
       "       font-weight: bold;\n",
       "       color:#447adb;\n",
       "    }\n",
       "    a:active{\n",
       "       font-weight: bold;\n",
       "       color:#447adb;\n",
       "    }\n",
       "    .rendered_html :link {\n",
       "       text-decoration: underline; \n",
       "    }\n",
       "    .rendered_html :hover {\n",
       "       text-decoration: none; \n",
       "    }\n",
       "    .rendered_html :visited {\n",
       "      text-decoration: none;\n",
       "    }\n",
       "    .rendered_html :focus {\n",
       "      text-decoration: none;\n",
       "    }\n",
       "    .rendered_html :active {\n",
       "      text-decoration: none;\n",
       "    }\n",
       "    .warning{\n",
       "        color: rgb( 240, 20, 20 )\n",
       "    } \n",
       "    hr {\n",
       "      color: #f3f3f3;\n",
       "      background-color: #f3f3f3;\n",
       "      height: 1px;\n",
       "    }\n",
       "    blockquote{\n",
       "      display:block;\n",
       "      background: #fcfcfc;\n",
       "      border-left: 5px solid #c76c0c;\n",
       "      font-family: 'Open sans',verdana,arial,sans-serif;\n",
       "      width:680px;\n",
       "      padding: 10px 10px 10px 10px;\n",
       "      text-align:justify;\n",
       "      text-justify:inter-word;\n",
       "      }\n",
       "      blockquote p {\n",
       "        margin-bottom: 0;\n",
       "        line-height: 125%;\n",
       "        font-size: 100%;\n",
       "      }\n",
       "</style>\n",
       "<script>\n",
       "    MathJax.Hub.Config({\n",
       "                        TeX: {\n",
       "                           extensions: [\"AMSmath.js\"]\n",
       "                           },\n",
       "                tex2jax: {\n",
       "                    inlineMath: [ ['$','$'], [\"\\\\(\",\"\\\\)\"] ],\n",
       "                    displayMath: [ ['$$','$$'], [\"\\\\[\",\"\\\\]\"] ]\n",
       "                },\n",
       "                displayAlign: 'center', // Change this to 'center' to center equations.\n",
       "                \"HTML-CSS\": {\n",
       "                    scale:100,\n",
       "                        availableFonts: [],\n",
       "                        preferredFont:null,\n",
       "                        webFont: \"TeX\",\n",
       "                    styles: {'.MathJax_Display': {\"margin\": 4}}\n",
       "                }\n",
       "        });\n",
       "</script>\n"
      ],
      "text/plain": [
       "<IPython.core.display.HTML object>"
      ]
     },
     "execution_count": 1,
     "metadata": {},
     "output_type": "execute_result"
    }
   ],
   "source": [
    "# code for loading the format for the notebook\n",
    "import os\n",
    "\n",
    "# path : store the current path to convert back to it later\n",
    "path = os.getcwd()\n",
    "os.chdir(os.path.join('..', '..', 'notebook_format'))\n",
    "\n",
    "from formats import load_style\n",
    "load_style(plot_style=False)"
   ]
  },
  {
   "cell_type": "code",
   "execution_count": 2,
   "metadata": {
    "ExecuteTime": {
     "end_time": "2020-11-07T21:28:40.630483Z",
     "start_time": "2020-11-07T21:28:39.162179Z"
    }
   },
   "outputs": [
    {
     "name": "stdout",
     "output_type": "stream",
     "text": [
      "Ethen 2020-11-07 13:28:40 \n",
      "\n",
      "CPython 3.6.4\n",
      "IPython 7.15.0\n",
      "\n",
      "numpy 1.18.5\n",
      "pandas 1.0.5\n",
      "sklearn 0.23.1\n",
      "matplotlib 3.1.0\n",
      "seaborn 0.9.0\n",
      "statsmodels 0.11.1\n"
     ]
    }
   ],
   "source": [
    "os.chdir(path)\n",
    "\n",
    "# 1. magic for inline plot\n",
    "# 2. magic to print version\n",
    "# 3. magic so that the notebook will reload external python modules\n",
    "# 4. magic to enable retina (high resolution) plots\n",
    "# https://gist.github.com/minrk/3301035\n",
    "%matplotlib inline\n",
    "%load_ext watermark\n",
    "%load_ext autoreload\n",
    "%autoreload 2\n",
    "%config InlineBackend.figure_format='retina'\n",
    "\n",
    "import os\n",
    "import time\n",
    "import numpy as np\n",
    "import pandas as pd\n",
    "import seaborn as sns\n",
    "import matplotlib.pyplot as plt\n",
    "import statsmodels.formula.api as smf\n",
    "from sklearn.compose import ColumnTransformer\n",
    "from sklearn.preprocessing import OneHotEncoder\n",
    "from sklearn.linear_model import LogisticRegression, LinearRegression\n",
    "from sklearn.model_selection import train_test_split\n",
    "\n",
    "# prevent scientific notations\n",
    "pd.set_option('display.float_format', lambda x: '%.3f' % x)\n",
    "\n",
    "plt.style.use('fivethirtyeight')\n",
    "\n",
    "%watermark -a 'Ethen' -d -t -v -p numpy,pandas,sklearn,matplotlib,seaborn,statsmodels"
   ]
  },
  {
   "cell_type": "markdown",
   "metadata": {},
   "source": [
    "# Inverse Propensity Weighting"
   ]
  },
  {
   "cell_type": "markdown",
   "metadata": {},
   "source": [
    "The purpose of using propensity score is to balance the treatment/control groups on the observed covariates. The advantage with using weighting is that all individuals/records in our dataset can be leveraged. Unlike techniques such as matching, where we might be discarding large amount of data in the control group.\n",
    "\n",
    "In this document, we'll be:\n",
    "\n",
    "- Conducting the analysis on the outcome without the use of propensity score.\n",
    "- Performing the propensity score estimation.\n",
    "- Conducting the outcome analysis with the use of inverse propensity weighting."
   ]
  },
  {
   "cell_type": "markdown",
   "metadata": {},
   "source": [
    "## Data Preprocessing"
   ]
  },
  {
   "cell_type": "markdown",
   "metadata": {},
   "source": [
    "We'll be working with data coming from the [ The National Study of Learning Mindsets](https://mindsetscholarsnetwork.org/about-the-network/current-initatives/national-mindset-study/). The background behind this data is an attempt to find out if instilling students with a growth mindset will improve their overall academic performance. In this dataset, the academic performance is recorded as a standardized `achievement_score`.\n",
    "\n",
    "Besides the treated and outcome variables, the study also recorded some other features:\n",
    "\n",
    "- schoolid: identifier of the student's school\n",
    "- success_expect: self-reported expectations for success in the future, a proxy for prior achievement, measured prior to random assignment\n",
    "- ethnicity: categorical variable for student race/ethnicity\n",
    "- gender: categorical variable for student identified gender\n",
    "- frst_in_family: categorical variable for student first-generation status, i.e. first in family to go to college\n",
    "- school_urbanicity: school-level categorical variable for urbanicity of the school, i.e. rural, suburban, etc\n",
    "- school_mindset: school-level mean of students' fixed mindsets, reported prior to random assignment, standardize\n",
    "- school_achievement: school achievement level, as measured by test scores and college preparation for the previous 4 cohorts of students, standardized\n",
    "- school_ethnic_minority: school racial/ethnic minority composition, i.e., percentage of student body that is Black, Latino, or Native American, standardized\n",
    "- school_poverty: school poverty concentration, i.e., percentage of students who are from families whose incomes fall below the federal poverty line, standardized\n",
    "- school_size: total number of students in all four grade levels in the school, standardized."
   ]
  },
  {
   "cell_type": "code",
   "execution_count": 3,
   "metadata": {
    "ExecuteTime": {
     "end_time": "2020-11-07T21:28:40.692041Z",
     "start_time": "2020-11-07T21:28:40.632774Z"
    }
   },
   "outputs": [
    {
     "name": "stdout",
     "output_type": "stream",
     "text": [
      "(10391, 10)\n"
     ]
    },
    {
     "data": {
      "text/html": [
       "<div>\n",
       "<style scoped>\n",
       "    .dataframe tbody tr th:only-of-type {\n",
       "        vertical-align: middle;\n",
       "    }\n",
       "\n",
       "    .dataframe tbody tr th {\n",
       "        vertical-align: top;\n",
       "    }\n",
       "\n",
       "    .dataframe thead th {\n",
       "        text-align: right;\n",
       "    }\n",
       "</style>\n",
       "<table border=\"1\" class=\"dataframe\">\n",
       "  <thead>\n",
       "    <tr style=\"text-align: right;\">\n",
       "      <th></th>\n",
       "      <th>achievement_score</th>\n",
       "      <th>intervention</th>\n",
       "      <th>school_mindset</th>\n",
       "      <th>school_achievement</th>\n",
       "      <th>school_ethnic_minority</th>\n",
       "      <th>school_poverty</th>\n",
       "      <th>school_size</th>\n",
       "      <th>ethnicity</th>\n",
       "      <th>gender</th>\n",
       "      <th>school_urbanicity</th>\n",
       "    </tr>\n",
       "  </thead>\n",
       "  <tbody>\n",
       "    <tr>\n",
       "      <th>0</th>\n",
       "      <td>0.277</td>\n",
       "      <td>1</td>\n",
       "      <td>0.335</td>\n",
       "      <td>0.649</td>\n",
       "      <td>-1.311</td>\n",
       "      <td>0.224</td>\n",
       "      <td>-0.427</td>\n",
       "      <td>4</td>\n",
       "      <td>2</td>\n",
       "      <td>4</td>\n",
       "    </tr>\n",
       "    <tr>\n",
       "      <th>1</th>\n",
       "      <td>-0.450</td>\n",
       "      <td>1</td>\n",
       "      <td>0.335</td>\n",
       "      <td>0.649</td>\n",
       "      <td>-1.311</td>\n",
       "      <td>0.224</td>\n",
       "      <td>-0.427</td>\n",
       "      <td>12</td>\n",
       "      <td>2</td>\n",
       "      <td>4</td>\n",
       "    </tr>\n",
       "    <tr>\n",
       "      <th>2</th>\n",
       "      <td>0.770</td>\n",
       "      <td>1</td>\n",
       "      <td>0.335</td>\n",
       "      <td>0.649</td>\n",
       "      <td>-1.311</td>\n",
       "      <td>0.224</td>\n",
       "      <td>-0.427</td>\n",
       "      <td>4</td>\n",
       "      <td>2</td>\n",
       "      <td>4</td>\n",
       "    </tr>\n",
       "    <tr>\n",
       "      <th>3</th>\n",
       "      <td>-0.122</td>\n",
       "      <td>1</td>\n",
       "      <td>0.335</td>\n",
       "      <td>0.649</td>\n",
       "      <td>-1.311</td>\n",
       "      <td>0.224</td>\n",
       "      <td>-0.427</td>\n",
       "      <td>4</td>\n",
       "      <td>2</td>\n",
       "      <td>4</td>\n",
       "    </tr>\n",
       "    <tr>\n",
       "      <th>4</th>\n",
       "      <td>1.526</td>\n",
       "      <td>1</td>\n",
       "      <td>0.335</td>\n",
       "      <td>0.649</td>\n",
       "      <td>-1.311</td>\n",
       "      <td>0.224</td>\n",
       "      <td>-0.427</td>\n",
       "      <td>4</td>\n",
       "      <td>1</td>\n",
       "      <td>4</td>\n",
       "    </tr>\n",
       "  </tbody>\n",
       "</table>\n",
       "</div>"
      ],
      "text/plain": [
       "   achievement_score  intervention  school_mindset  school_achievement  \\\n",
       "0              0.277             1           0.335               0.649   \n",
       "1             -0.450             1           0.335               0.649   \n",
       "2              0.770             1           0.335               0.649   \n",
       "3             -0.122             1           0.335               0.649   \n",
       "4              1.526             1           0.335               0.649   \n",
       "\n",
       "   school_ethnic_minority  school_poverty  school_size  ethnicity  gender  \\\n",
       "0                  -1.311           0.224       -0.427          4       2   \n",
       "1                  -1.311           0.224       -0.427         12       2   \n",
       "2                  -1.311           0.224       -0.427          4       2   \n",
       "3                  -1.311           0.224       -0.427          4       2   \n",
       "4                  -1.311           0.224       -0.427          4       1   \n",
       "\n",
       "   school_urbanicity  \n",
       "0                  4  \n",
       "1                  4  \n",
       "2                  4  \n",
       "3                  4  \n",
       "4                  4  "
      ]
     },
     "execution_count": 3,
     "metadata": {},
     "output_type": "execute_result"
    }
   ],
   "source": [
    "# we'll only work with a subset of the columns, feel free to experiment with others\n",
    "cat_cols = ['ethnicity', 'gender', 'school_urbanicity']\n",
    "num_cols = ['school_mindset', 'school_achievement', 'school_ethnic_minority', 'school_poverty', 'school_size']\n",
    "treatment_col = 'intervention'\n",
    "label_col = 'achievement_score'\n",
    "\n",
    "use_cols = [label_col, treatment_col] + num_cols + cat_cols\n",
    "df = pd.read_csv('data/learning_mindset.csv', usecols=use_cols)[use_cols]\n",
    "print(df.shape)\n",
    "df.head()"
   ]
  },
  {
   "cell_type": "markdown",
   "metadata": {},
   "source": [
    "Our data will be fed into a logistic regression in the next section, here we one hot encode the categorical variables. As the numeric features are already standardized, we leave them as is."
   ]
  },
  {
   "cell_type": "code",
   "execution_count": 4,
   "metadata": {
    "ExecuteTime": {
     "end_time": "2020-11-07T21:28:40.738146Z",
     "start_time": "2020-11-07T21:28:40.697579Z"
    }
   },
   "outputs": [
    {
     "data": {
      "text/plain": [
       "ColumnTransformer(remainder='passthrough', sparse_threshold=0,\n",
       "                  transformers=[('one_hot',\n",
       "                                 OneHotEncoder(dtype=<class 'numpy.int32'>,\n",
       "                                               handle_unknown='ignore',\n",
       "                                               sparse=False),\n",
       "                                 ['ethnicity', 'gender', 'school_urbanicity'])])"
      ]
     },
     "execution_count": 4,
     "metadata": {},
     "output_type": "execute_result"
    }
   ],
   "source": [
    "one_hot_encoder = OneHotEncoder(handle_unknown='ignore', sparse=False, dtype=np.int32)\n",
    "column_transformer = ColumnTransformer(\n",
    "    transformers = [\n",
    "        ('one_hot', one_hot_encoder, cat_cols)\n",
    "    ],\n",
    "    sparse_threshold=0,\n",
    "    remainder='passthrough'\n",
    ")\n",
    "column_transformer.fit(df)"
   ]
  },
  {
   "cell_type": "code",
   "execution_count": 5,
   "metadata": {
    "ExecuteTime": {
     "end_time": "2020-11-07T21:28:40.788880Z",
     "start_time": "2020-11-07T21:28:40.740131Z"
    }
   },
   "outputs": [
    {
     "name": "stdout",
     "output_type": "stream",
     "text": [
      "(10391, 29)\n"
     ]
    },
    {
     "data": {
      "text/html": [
       "<div>\n",
       "<style scoped>\n",
       "    .dataframe tbody tr th:only-of-type {\n",
       "        vertical-align: middle;\n",
       "    }\n",
       "\n",
       "    .dataframe tbody tr th {\n",
       "        vertical-align: top;\n",
       "    }\n",
       "\n",
       "    .dataframe thead th {\n",
       "        text-align: right;\n",
       "    }\n",
       "</style>\n",
       "<table border=\"1\" class=\"dataframe\">\n",
       "  <thead>\n",
       "    <tr style=\"text-align: right;\">\n",
       "      <th></th>\n",
       "      <th>ethnicity_1</th>\n",
       "      <th>ethnicity_2</th>\n",
       "      <th>ethnicity_3</th>\n",
       "      <th>ethnicity_4</th>\n",
       "      <th>ethnicity_5</th>\n",
       "      <th>ethnicity_6</th>\n",
       "      <th>ethnicity_7</th>\n",
       "      <th>ethnicity_8</th>\n",
       "      <th>ethnicity_9</th>\n",
       "      <th>ethnicity_10</th>\n",
       "      <th>...</th>\n",
       "      <th>school_urbanicity_2</th>\n",
       "      <th>school_urbanicity_3</th>\n",
       "      <th>school_urbanicity_4</th>\n",
       "      <th>achievement_score</th>\n",
       "      <th>intervention</th>\n",
       "      <th>school_mindset</th>\n",
       "      <th>school_achievement</th>\n",
       "      <th>school_ethnic_minority</th>\n",
       "      <th>school_poverty</th>\n",
       "      <th>school_size</th>\n",
       "    </tr>\n",
       "  </thead>\n",
       "  <tbody>\n",
       "    <tr>\n",
       "      <th>0</th>\n",
       "      <td>0.000</td>\n",
       "      <td>0.000</td>\n",
       "      <td>0.000</td>\n",
       "      <td>1.000</td>\n",
       "      <td>0.000</td>\n",
       "      <td>0.000</td>\n",
       "      <td>0.000</td>\n",
       "      <td>0.000</td>\n",
       "      <td>0.000</td>\n",
       "      <td>0.000</td>\n",
       "      <td>...</td>\n",
       "      <td>0.000</td>\n",
       "      <td>0.000</td>\n",
       "      <td>1.000</td>\n",
       "      <td>0.277</td>\n",
       "      <td>1.000</td>\n",
       "      <td>0.335</td>\n",
       "      <td>0.649</td>\n",
       "      <td>-1.311</td>\n",
       "      <td>0.224</td>\n",
       "      <td>-0.427</td>\n",
       "    </tr>\n",
       "    <tr>\n",
       "      <th>1</th>\n",
       "      <td>0.000</td>\n",
       "      <td>0.000</td>\n",
       "      <td>0.000</td>\n",
       "      <td>0.000</td>\n",
       "      <td>0.000</td>\n",
       "      <td>0.000</td>\n",
       "      <td>0.000</td>\n",
       "      <td>0.000</td>\n",
       "      <td>0.000</td>\n",
       "      <td>0.000</td>\n",
       "      <td>...</td>\n",
       "      <td>0.000</td>\n",
       "      <td>0.000</td>\n",
       "      <td>1.000</td>\n",
       "      <td>-0.450</td>\n",
       "      <td>1.000</td>\n",
       "      <td>0.335</td>\n",
       "      <td>0.649</td>\n",
       "      <td>-1.311</td>\n",
       "      <td>0.224</td>\n",
       "      <td>-0.427</td>\n",
       "    </tr>\n",
       "    <tr>\n",
       "      <th>2</th>\n",
       "      <td>0.000</td>\n",
       "      <td>0.000</td>\n",
       "      <td>0.000</td>\n",
       "      <td>1.000</td>\n",
       "      <td>0.000</td>\n",
       "      <td>0.000</td>\n",
       "      <td>0.000</td>\n",
       "      <td>0.000</td>\n",
       "      <td>0.000</td>\n",
       "      <td>0.000</td>\n",
       "      <td>...</td>\n",
       "      <td>0.000</td>\n",
       "      <td>0.000</td>\n",
       "      <td>1.000</td>\n",
       "      <td>0.770</td>\n",
       "      <td>1.000</td>\n",
       "      <td>0.335</td>\n",
       "      <td>0.649</td>\n",
       "      <td>-1.311</td>\n",
       "      <td>0.224</td>\n",
       "      <td>-0.427</td>\n",
       "    </tr>\n",
       "    <tr>\n",
       "      <th>3</th>\n",
       "      <td>0.000</td>\n",
       "      <td>0.000</td>\n",
       "      <td>0.000</td>\n",
       "      <td>1.000</td>\n",
       "      <td>0.000</td>\n",
       "      <td>0.000</td>\n",
       "      <td>0.000</td>\n",
       "      <td>0.000</td>\n",
       "      <td>0.000</td>\n",
       "      <td>0.000</td>\n",
       "      <td>...</td>\n",
       "      <td>0.000</td>\n",
       "      <td>0.000</td>\n",
       "      <td>1.000</td>\n",
       "      <td>-0.122</td>\n",
       "      <td>1.000</td>\n",
       "      <td>0.335</td>\n",
       "      <td>0.649</td>\n",
       "      <td>-1.311</td>\n",
       "      <td>0.224</td>\n",
       "      <td>-0.427</td>\n",
       "    </tr>\n",
       "    <tr>\n",
       "      <th>4</th>\n",
       "      <td>0.000</td>\n",
       "      <td>0.000</td>\n",
       "      <td>0.000</td>\n",
       "      <td>1.000</td>\n",
       "      <td>0.000</td>\n",
       "      <td>0.000</td>\n",
       "      <td>0.000</td>\n",
       "      <td>0.000</td>\n",
       "      <td>0.000</td>\n",
       "      <td>0.000</td>\n",
       "      <td>...</td>\n",
       "      <td>0.000</td>\n",
       "      <td>0.000</td>\n",
       "      <td>1.000</td>\n",
       "      <td>1.526</td>\n",
       "      <td>1.000</td>\n",
       "      <td>0.335</td>\n",
       "      <td>0.649</td>\n",
       "      <td>-1.311</td>\n",
       "      <td>0.224</td>\n",
       "      <td>-0.427</td>\n",
       "    </tr>\n",
       "    <tr>\n",
       "      <th>...</th>\n",
       "      <td>...</td>\n",
       "      <td>...</td>\n",
       "      <td>...</td>\n",
       "      <td>...</td>\n",
       "      <td>...</td>\n",
       "      <td>...</td>\n",
       "      <td>...</td>\n",
       "      <td>...</td>\n",
       "      <td>...</td>\n",
       "      <td>...</td>\n",
       "      <td>...</td>\n",
       "      <td>...</td>\n",
       "      <td>...</td>\n",
       "      <td>...</td>\n",
       "      <td>...</td>\n",
       "      <td>...</td>\n",
       "      <td>...</td>\n",
       "      <td>...</td>\n",
       "      <td>...</td>\n",
       "      <td>...</td>\n",
       "      <td>...</td>\n",
       "    </tr>\n",
       "    <tr>\n",
       "      <th>10386</th>\n",
       "      <td>0.000</td>\n",
       "      <td>0.000</td>\n",
       "      <td>0.000</td>\n",
       "      <td>1.000</td>\n",
       "      <td>0.000</td>\n",
       "      <td>0.000</td>\n",
       "      <td>0.000</td>\n",
       "      <td>0.000</td>\n",
       "      <td>0.000</td>\n",
       "      <td>0.000</td>\n",
       "      <td>...</td>\n",
       "      <td>0.000</td>\n",
       "      <td>1.000</td>\n",
       "      <td>0.000</td>\n",
       "      <td>0.809</td>\n",
       "      <td>0.000</td>\n",
       "      <td>1.186</td>\n",
       "      <td>-1.130</td>\n",
       "      <td>1.010</td>\n",
       "      <td>1.005</td>\n",
       "      <td>-1.175</td>\n",
       "    </tr>\n",
       "    <tr>\n",
       "      <th>10387</th>\n",
       "      <td>0.000</td>\n",
       "      <td>0.000</td>\n",
       "      <td>0.000</td>\n",
       "      <td>1.000</td>\n",
       "      <td>0.000</td>\n",
       "      <td>0.000</td>\n",
       "      <td>0.000</td>\n",
       "      <td>0.000</td>\n",
       "      <td>0.000</td>\n",
       "      <td>0.000</td>\n",
       "      <td>...</td>\n",
       "      <td>0.000</td>\n",
       "      <td>1.000</td>\n",
       "      <td>0.000</td>\n",
       "      <td>-0.156</td>\n",
       "      <td>0.000</td>\n",
       "      <td>1.186</td>\n",
       "      <td>-1.130</td>\n",
       "      <td>1.010</td>\n",
       "      <td>1.005</td>\n",
       "      <td>-1.175</td>\n",
       "    </tr>\n",
       "    <tr>\n",
       "      <th>10388</th>\n",
       "      <td>0.000</td>\n",
       "      <td>0.000</td>\n",
       "      <td>0.000</td>\n",
       "      <td>0.000</td>\n",
       "      <td>0.000</td>\n",
       "      <td>0.000</td>\n",
       "      <td>0.000</td>\n",
       "      <td>0.000</td>\n",
       "      <td>0.000</td>\n",
       "      <td>0.000</td>\n",
       "      <td>...</td>\n",
       "      <td>0.000</td>\n",
       "      <td>1.000</td>\n",
       "      <td>0.000</td>\n",
       "      <td>0.371</td>\n",
       "      <td>0.000</td>\n",
       "      <td>1.186</td>\n",
       "      <td>-1.130</td>\n",
       "      <td>1.010</td>\n",
       "      <td>1.005</td>\n",
       "      <td>-1.175</td>\n",
       "    </tr>\n",
       "    <tr>\n",
       "      <th>10389</th>\n",
       "      <td>0.000</td>\n",
       "      <td>0.000</td>\n",
       "      <td>0.000</td>\n",
       "      <td>1.000</td>\n",
       "      <td>0.000</td>\n",
       "      <td>0.000</td>\n",
       "      <td>0.000</td>\n",
       "      <td>0.000</td>\n",
       "      <td>0.000</td>\n",
       "      <td>0.000</td>\n",
       "      <td>...</td>\n",
       "      <td>0.000</td>\n",
       "      <td>1.000</td>\n",
       "      <td>0.000</td>\n",
       "      <td>-0.396</td>\n",
       "      <td>0.000</td>\n",
       "      <td>1.186</td>\n",
       "      <td>-1.130</td>\n",
       "      <td>1.010</td>\n",
       "      <td>1.005</td>\n",
       "      <td>-1.175</td>\n",
       "    </tr>\n",
       "    <tr>\n",
       "      <th>10390</th>\n",
       "      <td>1.000</td>\n",
       "      <td>0.000</td>\n",
       "      <td>0.000</td>\n",
       "      <td>0.000</td>\n",
       "      <td>0.000</td>\n",
       "      <td>0.000</td>\n",
       "      <td>0.000</td>\n",
       "      <td>0.000</td>\n",
       "      <td>0.000</td>\n",
       "      <td>0.000</td>\n",
       "      <td>...</td>\n",
       "      <td>0.000</td>\n",
       "      <td>1.000</td>\n",
       "      <td>0.000</td>\n",
       "      <td>0.479</td>\n",
       "      <td>0.000</td>\n",
       "      <td>1.186</td>\n",
       "      <td>-1.130</td>\n",
       "      <td>1.010</td>\n",
       "      <td>1.005</td>\n",
       "      <td>-1.175</td>\n",
       "    </tr>\n",
       "  </tbody>\n",
       "</table>\n",
       "<p>10391 rows × 29 columns</p>\n",
       "</div>"
      ],
      "text/plain": [
       "       ethnicity_1  ethnicity_2  ethnicity_3  ethnicity_4  ethnicity_5  \\\n",
       "0            0.000        0.000        0.000        1.000        0.000   \n",
       "1            0.000        0.000        0.000        0.000        0.000   \n",
       "2            0.000        0.000        0.000        1.000        0.000   \n",
       "3            0.000        0.000        0.000        1.000        0.000   \n",
       "4            0.000        0.000        0.000        1.000        0.000   \n",
       "...            ...          ...          ...          ...          ...   \n",
       "10386        0.000        0.000        0.000        1.000        0.000   \n",
       "10387        0.000        0.000        0.000        1.000        0.000   \n",
       "10388        0.000        0.000        0.000        0.000        0.000   \n",
       "10389        0.000        0.000        0.000        1.000        0.000   \n",
       "10390        1.000        0.000        0.000        0.000        0.000   \n",
       "\n",
       "       ethnicity_6  ethnicity_7  ethnicity_8  ethnicity_9  ethnicity_10  ...  \\\n",
       "0            0.000        0.000        0.000        0.000         0.000  ...   \n",
       "1            0.000        0.000        0.000        0.000         0.000  ...   \n",
       "2            0.000        0.000        0.000        0.000         0.000  ...   \n",
       "3            0.000        0.000        0.000        0.000         0.000  ...   \n",
       "4            0.000        0.000        0.000        0.000         0.000  ...   \n",
       "...            ...          ...          ...          ...           ...  ...   \n",
       "10386        0.000        0.000        0.000        0.000         0.000  ...   \n",
       "10387        0.000        0.000        0.000        0.000         0.000  ...   \n",
       "10388        0.000        0.000        0.000        0.000         0.000  ...   \n",
       "10389        0.000        0.000        0.000        0.000         0.000  ...   \n",
       "10390        0.000        0.000        0.000        0.000         0.000  ...   \n",
       "\n",
       "       school_urbanicity_2  school_urbanicity_3  school_urbanicity_4  \\\n",
       "0                    0.000                0.000                1.000   \n",
       "1                    0.000                0.000                1.000   \n",
       "2                    0.000                0.000                1.000   \n",
       "3                    0.000                0.000                1.000   \n",
       "4                    0.000                0.000                1.000   \n",
       "...                    ...                  ...                  ...   \n",
       "10386                0.000                1.000                0.000   \n",
       "10387                0.000                1.000                0.000   \n",
       "10388                0.000                1.000                0.000   \n",
       "10389                0.000                1.000                0.000   \n",
       "10390                0.000                1.000                0.000   \n",
       "\n",
       "       achievement_score  intervention  school_mindset  school_achievement  \\\n",
       "0                  0.277         1.000           0.335               0.649   \n",
       "1                 -0.450         1.000           0.335               0.649   \n",
       "2                  0.770         1.000           0.335               0.649   \n",
       "3                 -0.122         1.000           0.335               0.649   \n",
       "4                  1.526         1.000           0.335               0.649   \n",
       "...                  ...           ...             ...                 ...   \n",
       "10386              0.809         0.000           1.186              -1.130   \n",
       "10387             -0.156         0.000           1.186              -1.130   \n",
       "10388              0.371         0.000           1.186              -1.130   \n",
       "10389             -0.396         0.000           1.186              -1.130   \n",
       "10390              0.479         0.000           1.186              -1.130   \n",
       "\n",
       "       school_ethnic_minority  school_poverty  school_size  \n",
       "0                      -1.311           0.224       -0.427  \n",
       "1                      -1.311           0.224       -0.427  \n",
       "2                      -1.311           0.224       -0.427  \n",
       "3                      -1.311           0.224       -0.427  \n",
       "4                      -1.311           0.224       -0.427  \n",
       "...                       ...             ...          ...  \n",
       "10386                   1.010           1.005       -1.175  \n",
       "10387                   1.010           1.005       -1.175  \n",
       "10388                   1.010           1.005       -1.175  \n",
       "10389                   1.010           1.005       -1.175  \n",
       "10390                   1.010           1.005       -1.175  \n",
       "\n",
       "[10391 rows x 29 columns]"
      ]
     },
     "execution_count": 5,
     "metadata": {},
     "output_type": "execute_result"
    }
   ],
   "source": [
    "one_hot_encoder = column_transformer.named_transformers_['one_hot']\n",
    "one_hot_encoded_cols = one_hot_encoder.get_feature_names(cat_cols).tolist()\n",
    "columns = one_hot_encoded_cols + [label_col, treatment_col] + num_cols\n",
    "\n",
    "df = pd.DataFrame(column_transformer.transform(df), columns=columns)\n",
    "print(df.shape)\n",
    "df"
   ]
  },
  {
   "cell_type": "markdown",
   "metadata": {},
   "source": [
    "## Outcome Analysis"
   ]
  },
  {
   "cell_type": "markdown",
   "metadata": {},
   "source": [
    "It's often times useful to establish some baseline. Here, we would like to gauge what would the result look like if we don't use propensity score weighting to control for potential biases with assignment of individuals to the control and treatment group. "
   ]
  },
  {
   "cell_type": "code",
   "execution_count": 6,
   "metadata": {
    "ExecuteTime": {
     "end_time": "2020-11-07T21:28:41.340665Z",
     "start_time": "2020-11-07T21:28:40.791260Z"
    }
   },
   "outputs": [
    {
     "data": {
      "image/png": "[encoded data removed]",
      "text/plain": [
       "<Figure size 576x432 with 1 Axes>"
      ]
     },
     "metadata": {
      "image/png": {
       "height": 379,
       "width": 542
      }
     },
     "output_type": "display_data"
    }
   ],
   "source": [
    "# change default style figure and font size\n",
    "plt.rcParams['figure.figsize'] = 8, 6\n",
    "plt.rcParams['font.size'] = 12\n",
    "\n",
    "# we can check the histogram of our label between the treatment and control\n",
    "plt.hist(df.loc[df[treatment_col] == 0.0, label_col], bins=20, alpha=0.3, label='control')\n",
    "plt.hist(df.loc[df[treatment_col] == 1.0, label_col], bins=20, alpha=0.3, label='treatment')\n",
    "plt.legend()\n",
    "plt.show()"
   ]
  },
  {
   "cell_type": "code",
   "execution_count": 7,
   "metadata": {
    "ExecuteTime": {
     "end_time": "2020-11-07T21:28:41.372449Z",
     "start_time": "2020-11-07T21:28:41.342273Z"
    }
   },
   "outputs": [
    {
     "name": "stdout",
     "output_type": "stream",
     "text": [
      "-0.15380303423613792 [0.47227167]\n"
     ]
    }
   ],
   "source": [
    "# fitting a linear regression to estimate the outcome\n",
    "linear = LinearRegression()\n",
    "linear.fit(df[[treatment_col]], df[label_col])\n",
    "print(linear.intercept_, linear.coef_)"
   ]
  },
  {
   "cell_type": "code",
   "execution_count": 8,
   "metadata": {
    "ExecuteTime": {
     "end_time": "2020-11-07T21:28:41.430110Z",
     "start_time": "2020-11-07T21:28:41.374713Z"
    }
   },
   "outputs": [
    {
     "data": {
      "text/html": [
       "<table class=\"simpletable\">\n",
       "<tr>\n",
       "        <td></td>          <th>coef</th>     <th>std err</th>      <th>t</th>      <th>P>|t|</th>  <th>[0.025</th>    <th>0.975]</th>  \n",
       "</tr>\n",
       "<tr>\n",
       "  <th>Intercept</th>    <td>   -0.1538</td> <td>    0.012</td> <td>  -13.201</td> <td> 0.000</td> <td>   -0.177</td> <td>   -0.131</td>\n",
       "</tr>\n",
       "<tr>\n",
       "  <th>intervention</th> <td>    0.4723</td> <td>    0.020</td> <td>   23.133</td> <td> 0.000</td> <td>    0.432</td> <td>    0.512</td>\n",
       "</tr>\n",
       "</table>"
      ],
      "text/plain": [
       "<class 'statsmodels.iolib.table.SimpleTable'>"
      ]
     },
     "execution_count": 8,
     "metadata": {},
     "output_type": "execute_result"
    }
   ],
   "source": [
    "smf.ols(f'{label_col} ~ {treatment_col}', data=df).fit().summary().tables[1]"
   ]
  },
  {
   "cell_type": "markdown",
   "metadata": {},
   "source": [
    "We can use Linear Regression from different packages to establish our baseline estimates. The one from `statsmodels` will give us some additional statistical information. By blindly comparing individuals with and without the intervention, we can see that, on average, those in the treatment group achieved a achievement score 0.4723 higher than the control. Be aware that in this dataset is score was standardized, i.e. it means the treated is 0.4723 standard deviation higher than the untreated.\n",
    "\n",
    "Upon establishing the baseline, our next task is to question these numbers."
   ]
  },
  {
   "cell_type": "markdown",
   "metadata": {},
   "source": [
    "## Propensity Score Estimation"
   ]
  },
  {
   "cell_type": "markdown",
   "metadata": {},
   "source": [
    "The idea behind propensity score is we don't need to directly control for our confounders $X$ to achieve conditional independence $(Y^1,Y^0) \\perp T \\text{ | } X$. Hence, $Y^1$ denotes the outcome if treatment, $T$, was applied, whereas $Y^0$ measures the outcome if individual was under the control group.\n",
    "\n",
    "Instead, it is sufficient to control for a single variable, propensity score, $P(x)$, which is the conditional probability of the treatment, $P(T|X)$. Or in notations form, with our propensity score, we now have $(Y^1,Y^0) \\perp T \\text{ | } P(X)$.\n",
    "\n",
    "Here, we'll use a logistic regression to estimate our propensity score. Feel free to use other classification techniques, but keep in mind that other classification techniques might not produce well [calibrated probabilities](http://ethen8181.github.io/machine-learning/model_selection/prob_calibration/prob_calibration.html) and the utmost goal of propensity score estimation is to make sure to include all the confounding variables instead of getting taken away of the different kinds of classification model that we can potentially use. "
   ]
  },
  {
   "cell_type": "code",
   "execution_count": 9,
   "metadata": {
    "ExecuteTime": {
     "end_time": "2020-11-07T21:28:41.579213Z",
     "start_time": "2020-11-07T21:28:41.433543Z"
    }
   },
   "outputs": [
    {
     "name": "stdout",
     "output_type": "stream",
     "text": [
      "(10391, 30)\n"
     ]
    },
    {
     "data": {
      "text/html": [
       "<div>\n",
       "<style scoped>\n",
       "    .dataframe tbody tr th:only-of-type {\n",
       "        vertical-align: middle;\n",
       "    }\n",
       "\n",
       "    .dataframe tbody tr th {\n",
       "        vertical-align: top;\n",
       "    }\n",
       "\n",
       "    .dataframe thead th {\n",
       "        text-align: right;\n",
       "    }\n",
       "</style>\n",
       "<table border=\"1\" class=\"dataframe\">\n",
       "  <thead>\n",
       "    <tr style=\"text-align: right;\">\n",
       "      <th></th>\n",
       "      <th>ethnicity_1</th>\n",
       "      <th>ethnicity_2</th>\n",
       "      <th>ethnicity_3</th>\n",
       "      <th>ethnicity_4</th>\n",
       "      <th>ethnicity_5</th>\n",
       "      <th>ethnicity_6</th>\n",
       "      <th>ethnicity_7</th>\n",
       "      <th>ethnicity_8</th>\n",
       "      <th>ethnicity_9</th>\n",
       "      <th>ethnicity_10</th>\n",
       "      <th>...</th>\n",
       "      <th>school_urbanicity_3</th>\n",
       "      <th>school_urbanicity_4</th>\n",
       "      <th>achievement_score</th>\n",
       "      <th>intervention</th>\n",
       "      <th>school_mindset</th>\n",
       "      <th>school_achievement</th>\n",
       "      <th>school_ethnic_minority</th>\n",
       "      <th>school_poverty</th>\n",
       "      <th>school_size</th>\n",
       "      <th>propensity_score</th>\n",
       "    </tr>\n",
       "  </thead>\n",
       "  <tbody>\n",
       "    <tr>\n",
       "      <th>0</th>\n",
       "      <td>0.000</td>\n",
       "      <td>0.000</td>\n",
       "      <td>0.000</td>\n",
       "      <td>1.000</td>\n",
       "      <td>0.000</td>\n",
       "      <td>0.000</td>\n",
       "      <td>0.000</td>\n",
       "      <td>0.000</td>\n",
       "      <td>0.000</td>\n",
       "      <td>0.000</td>\n",
       "      <td>...</td>\n",
       "      <td>0.000</td>\n",
       "      <td>1.000</td>\n",
       "      <td>0.277</td>\n",
       "      <td>1.000</td>\n",
       "      <td>0.335</td>\n",
       "      <td>0.649</td>\n",
       "      <td>-1.311</td>\n",
       "      <td>0.224</td>\n",
       "      <td>-0.427</td>\n",
       "      <td>0.313</td>\n",
       "    </tr>\n",
       "    <tr>\n",
       "      <th>1</th>\n",
       "      <td>0.000</td>\n",
       "      <td>0.000</td>\n",
       "      <td>0.000</td>\n",
       "      <td>0.000</td>\n",
       "      <td>0.000</td>\n",
       "      <td>0.000</td>\n",
       "      <td>0.000</td>\n",
       "      <td>0.000</td>\n",
       "      <td>0.000</td>\n",
       "      <td>0.000</td>\n",
       "      <td>...</td>\n",
       "      <td>0.000</td>\n",
       "      <td>1.000</td>\n",
       "      <td>-0.450</td>\n",
       "      <td>1.000</td>\n",
       "      <td>0.335</td>\n",
       "      <td>0.649</td>\n",
       "      <td>-1.311</td>\n",
       "      <td>0.224</td>\n",
       "      <td>-0.427</td>\n",
       "      <td>0.295</td>\n",
       "    </tr>\n",
       "    <tr>\n",
       "      <th>2</th>\n",
       "      <td>0.000</td>\n",
       "      <td>0.000</td>\n",
       "      <td>0.000</td>\n",
       "      <td>1.000</td>\n",
       "      <td>0.000</td>\n",
       "      <td>0.000</td>\n",
       "      <td>0.000</td>\n",
       "      <td>0.000</td>\n",
       "      <td>0.000</td>\n",
       "      <td>0.000</td>\n",
       "      <td>...</td>\n",
       "      <td>0.000</td>\n",
       "      <td>1.000</td>\n",
       "      <td>0.770</td>\n",
       "      <td>1.000</td>\n",
       "      <td>0.335</td>\n",
       "      <td>0.649</td>\n",
       "      <td>-1.311</td>\n",
       "      <td>0.224</td>\n",
       "      <td>-0.427</td>\n",
       "      <td>0.313</td>\n",
       "    </tr>\n",
       "    <tr>\n",
       "      <th>3</th>\n",
       "      <td>0.000</td>\n",
       "      <td>0.000</td>\n",
       "      <td>0.000</td>\n",
       "      <td>1.000</td>\n",
       "      <td>0.000</td>\n",
       "      <td>0.000</td>\n",
       "      <td>0.000</td>\n",
       "      <td>0.000</td>\n",
       "      <td>0.000</td>\n",
       "      <td>0.000</td>\n",
       "      <td>...</td>\n",
       "      <td>0.000</td>\n",
       "      <td>1.000</td>\n",
       "      <td>-0.122</td>\n",
       "      <td>1.000</td>\n",
       "      <td>0.335</td>\n",
       "      <td>0.649</td>\n",
       "      <td>-1.311</td>\n",
       "      <td>0.224</td>\n",
       "      <td>-0.427</td>\n",
       "      <td>0.313</td>\n",
       "    </tr>\n",
       "    <tr>\n",
       "      <th>4</th>\n",
       "      <td>0.000</td>\n",
       "      <td>0.000</td>\n",
       "      <td>0.000</td>\n",
       "      <td>1.000</td>\n",
       "      <td>0.000</td>\n",
       "      <td>0.000</td>\n",
       "      <td>0.000</td>\n",
       "      <td>0.000</td>\n",
       "      <td>0.000</td>\n",
       "      <td>0.000</td>\n",
       "      <td>...</td>\n",
       "      <td>0.000</td>\n",
       "      <td>1.000</td>\n",
       "      <td>1.526</td>\n",
       "      <td>1.000</td>\n",
       "      <td>0.335</td>\n",
       "      <td>0.649</td>\n",
       "      <td>-1.311</td>\n",
       "      <td>0.224</td>\n",
       "      <td>-0.427</td>\n",
       "      <td>0.338</td>\n",
       "    </tr>\n",
       "  </tbody>\n",
       "</table>\n",
       "<p>5 rows × 30 columns</p>\n",
       "</div>"
      ],
      "text/plain": [
       "   ethnicity_1  ethnicity_2  ethnicity_3  ethnicity_4  ethnicity_5  \\\n",
       "0        0.000        0.000        0.000        1.000        0.000   \n",
       "1        0.000        0.000        0.000        0.000        0.000   \n",
       "2        0.000        0.000        0.000        1.000        0.000   \n",
       "3        0.000        0.000        0.000        1.000        0.000   \n",
       "4        0.000        0.000        0.000        1.000        0.000   \n",
       "\n",
       "   ethnicity_6  ethnicity_7  ethnicity_8  ethnicity_9  ethnicity_10  ...  \\\n",
       "0        0.000        0.000        0.000        0.000         0.000  ...   \n",
       "1        0.000        0.000        0.000        0.000         0.000  ...   \n",
       "2        0.000        0.000        0.000        0.000         0.000  ...   \n",
       "3        0.000        0.000        0.000        0.000         0.000  ...   \n",
       "4        0.000        0.000        0.000        0.000         0.000  ...   \n",
       "\n",
       "   school_urbanicity_3  school_urbanicity_4  achievement_score  intervention  \\\n",
       "0                0.000                1.000              0.277         1.000   \n",
       "1                0.000                1.000             -0.450         1.000   \n",
       "2                0.000                1.000              0.770         1.000   \n",
       "3                0.000                1.000             -0.122         1.000   \n",
       "4                0.000                1.000              1.526         1.000   \n",
       "\n",
       "   school_mindset  school_achievement  school_ethnic_minority  school_poverty  \\\n",
       "0           0.335               0.649                  -1.311           0.224   \n",
       "1           0.335               0.649                  -1.311           0.224   \n",
       "2           0.335               0.649                  -1.311           0.224   \n",
       "3           0.335               0.649                  -1.311           0.224   \n",
       "4           0.335               0.649                  -1.311           0.224   \n",
       "\n",
       "   school_size  propensity_score  \n",
       "0       -0.427             0.313  \n",
       "1       -0.427             0.295  \n",
       "2       -0.427             0.313  \n",
       "3       -0.427             0.313  \n",
       "4       -0.427             0.338  \n",
       "\n",
       "[5 rows x 30 columns]"
      ]
     },
     "execution_count": 9,
     "metadata": {},
     "output_type": "execute_result"
    }
   ],
   "source": [
    "input_cols = one_hot_encoded_cols + num_cols\n",
    "\n",
    "logistic = LogisticRegression()\n",
    "logistic.fit(df[input_cols], df[treatment_col])\n",
    "\n",
    "propensity_score = 'propensity_score'\n",
    "df[propensity_score] = logistic.predict_proba(df[input_cols])[:, 1]\n",
    "print(df.shape)\n",
    "df.head()"
   ]
  },
  {
   "cell_type": "markdown",
   "metadata": {},
   "source": [
    "After training our propensity score, it's important to check for score overlap between the treated and untreated population. Looking at the distribution plot below, we can find both treated and untreated individuals in different regions. In this case, we have a balanced dataset and our positivity assumption holds true. Remember positivity refers to the scenario where all of the individuals have at least some chance of receiving either treatment and that appears to be the case here. In summary, this would be a situation where we would feel comfortable to proceed with our propensity score matching.\n",
    "\n",
    "Note that if we encounter a situation where the propensity score between the treatment and control does not overlap, then we should stop and better construct the prediction that controls for confounding, or in much simpler terms, see if we are missing any important features in our propensity score model. This requires domain knowledge of the data that we are working with. Failing to check for positivity and lack of balance can introduce bias in our estimation as we will be extrapolating the effect to unknown regions."
   ]
  },
  {
   "cell_type": "code",
   "execution_count": 10,
   "metadata": {
    "ExecuteTime": {
     "end_time": "2020-11-07T21:28:42.435174Z",
     "start_time": "2020-11-07T21:28:41.582092Z"
    }
   },
   "outputs": [
    {
     "data": {
      "image/png": "[encoded data removed]",
      "text/plain": [
       "<Figure size 576x432 with 1 Axes>"
      ]
     },
     "metadata": {
      "image/png": {
       "height": 418,
       "width": 564
      }
     },
     "output_type": "display_data"
    }
   ],
   "source": [
    "control_score = df.loc[df[treatment_col] == 0.0, propensity_score]\n",
    "treatment_score = df.loc[df[treatment_col] == 1.0, propensity_score]\n",
    "\n",
    "sns.distplot(control_score, label='control')\n",
    "sns.distplot(treatment_score, label='treatment')\n",
    "plt.title('Propensity Score Distribution of Control vs Treatment')\n",
    "plt.ylabel('Density')\n",
    "plt.xlabel('Scores')\n",
    "plt.legend()\n",
    "plt.tight_layout()\n",
    "plt.show()"
   ]
  },
  {
   "cell_type": "markdown",
   "metadata": {},
   "source": [
    "## Outcome Analysis with Inverse Propensity Score Weighting"
   ]
  },
  {
   "cell_type": "markdown",
   "metadata": {},
   "source": [
    "The final step in our analysis is to run our outcome model using the propensity score as weights, i.e. fit a weighted regression. In order to use our propensity score as weights, we will need to apply some transformation known as **Inverse Propensity Weighting (IPW)**. For individuals in the treatment group, $w = \\frac{1}{P(x)}$, whereas for individuals in the control group, $w = \\frac{1}{1 - P(x)}$.\n",
    "\n",
    "To understand why applying inverse propensity weighting helps us de-bias our potentially biased data. Say in the data we collected there are 200 records from group A and 2000 records from group B, to \"balance\" our dataset, we would like to \"up-weight\" the records from group A and \"down-weight\" the records from group B. If we were to weight each records in both groups by number of inverse records, $1 / 200$ for group A, and $1 / 2000$ for group B, we would end up with effectively 1 record on both group.\n",
    "\n",
    "Coming back to our example, we are taking all the individuals that are in the treatment group and scaling them with the inverse propensity of being treated $w = \\frac{1}{P(x)}$. What this effectively does is it makes those with a very low probability of treatment have a high weight, in other words, we have a individual in the treatment group that looks like he/she should belong to the control group, hence we will give a higher weight to this individual. What this does is create a population with the same size as the original, but where everyone is treated. We can apply the same reasoning for the control group."
   ]
  },
  {
   "cell_type": "code",
   "execution_count": 11,
   "metadata": {
    "ExecuteTime": {
     "end_time": "2020-11-07T21:28:42.470247Z",
     "start_time": "2020-11-07T21:28:42.437599Z"
    }
   },
   "outputs": [
    {
     "name": "stdout",
     "output_type": "stream",
     "text": [
      "Original Sample Size 10391\n",
      "Treated Population Sample Size 10390.321766244168\n",
      "Untreated Population Sample Size 10390.61301069852\n"
     ]
    }
   ],
   "source": [
    "treatment_weight = 1.0 / treatment_score\n",
    "control_weight = 1.0 / (1.0 - control_score)\n",
    "\n",
    "print('Original Sample Size', df.shape[0])\n",
    "print('Treated Population Sample Size', treatment_weight.sum())\n",
    "print('Untreated Population Sample Size', control_weight.sum())"
   ]
  },
  {
   "cell_type": "code",
   "execution_count": 12,
   "metadata": {
    "ExecuteTime": {
     "end_time": "2020-11-07T21:28:42.508466Z",
     "start_time": "2020-11-07T21:28:42.472468Z"
    }
   },
   "outputs": [],
   "source": [
    "sample_weight = 'sample_weight'\n",
    "df[sample_weight] = np.where(\n",
    "    df[treatment_col] == 1.0,\n",
    "    1.0 / df[propensity_score],\n",
    "    1.0 / (1.0 - df[propensity_score])\n",
    ")"
   ]
  },
  {
   "cell_type": "markdown",
   "metadata": {},
   "source": [
    "Once the sample weight are created, we can re-estimate the outcome with a weighted Linear Regression."
   ]
  },
  {
   "cell_type": "code",
   "execution_count": 13,
   "metadata": {
    "ExecuteTime": {
     "end_time": "2020-11-07T21:28:42.572127Z",
     "start_time": "2020-11-07T21:28:42.510974Z"
    }
   },
   "outputs": [
    {
     "data": {
      "text/html": [
       "<table class=\"simpletable\">\n",
       "<tr>\n",
       "        <td></td>          <th>coef</th>     <th>std err</th>      <th>t</th>      <th>P>|t|</th>  <th>[0.025</th>    <th>0.975]</th>  \n",
       "</tr>\n",
       "<tr>\n",
       "  <th>Intercept</th>    <td>   -0.1463</td> <td>    0.014</td> <td>  -10.771</td> <td> 0.000</td> <td>   -0.173</td> <td>   -0.120</td>\n",
       "</tr>\n",
       "<tr>\n",
       "  <th>intervention</th> <td>    0.4430</td> <td>    0.019</td> <td>   23.055</td> <td> 0.000</td> <td>    0.405</td> <td>    0.481</td>\n",
       "</tr>\n",
       "</table>"
      ],
      "text/plain": [
       "<class 'statsmodels.iolib.table.SimpleTable'>"
      ]
     },
     "execution_count": 13,
     "metadata": {},
     "output_type": "execute_result"
    }
   ],
   "source": [
    "smf.wls(f'{label_col} ~ {treatment_col}', data=df, weights=df[sample_weight]).fit().summary().tables[1]"
   ]
  },
  {
   "cell_type": "code",
   "execution_count": 14,
   "metadata": {
    "ExecuteTime": {
     "end_time": "2020-11-07T21:28:42.615998Z",
     "start_time": "2020-11-07T21:28:42.574811Z"
    }
   },
   "outputs": [
    {
     "name": "stdout",
     "output_type": "stream",
     "text": [
      "-0.14633238210898603 [0.44298379]\n"
     ]
    }
   ],
   "source": [
    "linear = LinearRegression()\n",
    "linear.fit(df[[treatment_col]], df[label_col], sample_weight=df[sample_weight])\n",
    "print(linear.intercept_, linear.coef_)"
   ]
  },
  {
   "cell_type": "markdown",
   "metadata": {},
   "source": [
    "FYI, even though scikit-learn's LinearRegression by default doesn't give us an estimated standard error, we can estimate this using bootstrapping. i.e. by sampling with replacement from the original data, and computing the average treatment effect like before. After repeating this step for lots of times, we will get a distribution of the outcome estimation. We will also use this time to organize the overall workflow into one single code cell."
   ]
  },
  {
   "cell_type": "code",
   "execution_count": 15,
   "metadata": {
    "ExecuteTime": {
     "end_time": "2020-11-07T21:28:42.654750Z",
     "start_time": "2020-11-07T21:28:42.618472Z"
    }
   },
   "outputs": [],
   "source": [
    "def run_propensity_score_estimation(df, input_cols, treatment_col, label_col):\n",
    "\n",
    "    # df is our pre-processed data\n",
    "    df = df.sample(frac=1, replace=True)\n",
    "\n",
    "    # estimate the propensity score\n",
    "    logistic = LogisticRegression()\n",
    "    logistic.fit(df[input_cols], df[treatment_col])\n",
    "    propensity_score = logistic.predict_proba(df[input_cols])[:, 1]\n",
    "\n",
    "    # calculate the inverse propensity weight\n",
    "    sample_weight = np.where(\n",
    "        df[treatment_col] == 1.0,\n",
    "        1.0 / propensity_score,\n",
    "        1.0 / (1.0 - propensity_score)\n",
    "    )\n",
    "\n",
    "    # estimate the outcome using weighted regression\n",
    "    linear = LinearRegression()\n",
    "    linear.fit(df[[treatment_col]], df[label_col], sample_weight=sample_weight)\n",
    "    return linear.coef_[0]"
   ]
  },
  {
   "cell_type": "code",
   "execution_count": 16,
   "metadata": {
    "ExecuteTime": {
     "end_time": "2020-11-07T21:29:41.423629Z",
     "start_time": "2020-11-07T21:28:42.657074Z"
    }
   },
   "outputs": [
    {
     "name": "stdout",
     "output_type": "stream",
     "text": [
      "ATE: 0.44207303186986624\n",
      "95% C.I.: (0.402353989536924, 0.4803417055971445)\n"
     ]
    }
   ],
   "source": [
    "from joblib import Parallel, delayed\n",
    "\n",
    "np.random.seed(88)\n",
    "\n",
    "# the bootstrap approach of computing standard error can be computationally expensive on large datasets.\n",
    "bootstrap_sample = 1000\n",
    "parallel = Parallel(n_jobs=4)\n",
    "ates = parallel(delayed(run_propensity_score_estimation)(df,\n",
    "                                                         input_cols,\n",
    "                                                         treatment_col,\n",
    "                                                         label_col)\n",
    "                for _ in range(bootstrap_sample))\n",
    "\n",
    "ates = np.array(ates)\n",
    "print(f\"ATE: {ates.mean()}\")\n",
    "print(f\"95% C.I.: {(np.percentile(ates, 2.5), np.percentile(ates, 97.5))}\")"
   ]
  },
  {
   "cell_type": "markdown",
   "metadata": {},
   "source": [
    "## Ending Notes"
   ]
  },
  {
   "cell_type": "markdown",
   "metadata": {},
   "source": [
    "In this article, we look a stab at calculating average treatment effect, $E[Y|T=1] - E[Y|T=0]$, using propensity scores. We saw how using inverse propensity weighting helps us create an un-biased data from a biased data. With this method, it's important to call out identifying the features to use for the propensity score model should be treated with care. In general:\n",
    "\n",
    "- Aim to include confounding variables, variables that effects both the treatment and the outcome.\n",
    "- It's a good idea to add variables that predicts the outcome.\n",
    "- It's a bad idea to add variables that only predicts the treatment, this correlation with the treatment will make it harder for us to detect the true effect of the treatment."
   ]
  },
  {
   "cell_type": "markdown",
   "metadata": {},
   "source": [
    "# Reference"
   ]
  },
  {
   "cell_type": "markdown",
   "metadata": {},
   "source": [
    "- [Github: Python Causality Handbook - Propensity Score](https://matheusfacure.github.io/python-causality-handbook/11-Propensity-Score.html)\n",
    "- [Github: Python Causality Handbook - Beyond Confounders](https://matheusfacure.github.io/python-causality-handbook/07-Beyond-Confounders.html)\n",
    "- [A Practical Guide for Using Propensity Score Weighting in R](http://www.math.umd.edu/~slud/s818M-MissingData/PropensityScoreWeightingR.pdf)"
   ]
  }
 ],
 "metadata": {
  "kernelspec": {
   "display_name": "Python 3 (ipykernel)",
   "language": "python",
   "name": "python3"
  },
  "language_info": {
   "codemirror_mode": {
    "name": "ipython",
    "version": 3
   },
   "file_extension": ".py",
   "mimetype": "text/x-python",
   "name": "python",
   "nbconvert_exporter": "python",
   "pygments_lexer": "ipython3",
   "version": "3.7.11"
  },
  "toc": {
   "base_numbering": 1,
   "nav_menu": {},
   "number_sections": true,
   "sideBar": true,
   "skip_h1_title": false,
   "title_cell": "Table of Contents",
   "title_sidebar": "Contents",
   "toc_cell": true,
   "toc_position": {
    "height": "calc(100% - 180px)",
    "left": "10px",
    "top": "150px",
    "width": "229.594px"
   },
   "toc_section_display": true,
   "toc_window_display": true
  },
  "varInspector": {
   "cols": {
    "lenName": 16,
    "lenType": 16,
    "lenVar": 40
   },
   "kernels_config": {
    "python": {
     "delete_cmd_postfix": "",
     "delete_cmd_prefix": "del ",
     "library": "var_list.py",
     "varRefreshCmd": "print(var_dic_list())"
    },
    "r": {
     "delete_cmd_postfix": ") ",
     "delete_cmd_prefix": "rm(",
     "library": "var_list.r",
     "varRefreshCmd": "cat(var_dic_list()) "
    }
   },
   "types_to_exclude": [
    "module",
    "function",
    "builtin_function_or_method",
    "instance",
    "_Feature"
   ],
   "window_display": false
  }
 },
 "nbformat": 4,
 "nbformat_minor": 4
}
