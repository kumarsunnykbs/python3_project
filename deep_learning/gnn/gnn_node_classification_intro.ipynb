{
 "cells": [
  {
   "cell_type": "code",
   "execution_count": 1,
   "id": "ee8c3be4",
   "metadata": {},
   "outputs": [
    {
     "data": {
      "text/html": [
       "\n",
       "<style>\n",
       "    html {\n",
       "        font-size: 18px !important;\n",
       "    }\n",
       "\n",
       "    body {\n",
       "        background-color: #FFF !important;\n",
       "        font-weight: 1rem;\n",
       "        font-family: 'Source Sans Pro', \"Helvetica Neue\", Helvetica, Arial, sans-serif;\n",
       "    }\n",
       "\n",
       "    body .notebook-app {\n",
       "        background-color: #FFF !important;\n",
       "    }\n",
       "\n",
       "    #header {\n",
       "        box-shadow: none !important;\n",
       "    }\n",
       "\n",
       "    #notebook {\n",
       "        padding-top: 0px;\n",
       "    }\n",
       "\n",
       "    #notebook-container {\n",
       "        box-shadow: none;\n",
       "        -webkit-box-shadow: none;\n",
       "        padding: 10px;\n",
       "    }\n",
       "\n",
       "    div.cell {\n",
       "        width: 1000px;\n",
       "        margin-left: 0% !important;\n",
       "        margin-right: auto;\n",
       "    }\n",
       "\n",
       "    div.cell.selected {\n",
       "        border: 1px dashed #CCCCCC;\n",
       "    }\n",
       "\n",
       "    .edit_mode div.cell.selected {\n",
       "        border: 1px dashed #828282;\n",
       "    }\n",
       "\n",
       "    div.output_wrapper {\n",
       "        margin-top: 8px;\n",
       "    }\n",
       "\n",
       "    a {\n",
       "        color: #383838;\n",
       "    }\n",
       "\n",
       "    code,\n",
       "    kbd,\n",
       "    pre,\n",
       "    samp {\n",
       "        font-family: 'Menlo', monospace !important;\n",
       "        font-size: 0.75rem !important;\n",
       "    }\n",
       "\n",
       "    h1 {\n",
       "        font-size: 2rem !important;\n",
       "        font-weight: 500 !important;\n",
       "        letter-spacing: 3px !important;\n",
       "        text-transform: uppercase !important;\n",
       "    }\n",
       "\n",
       "    h2 {\n",
       "        font-size: 1.8rem !important;\n",
       "        font-weight: 400 !important;\n",
       "        letter-spacing: 3px !important;\n",
       "        text-transform: none !important;\n",
       "    }\n",
       "\n",
       "    h3 {\n",
       "        font-size: 1.5rem !important;\n",
       "        font-weight: 400 !important;\n",
       "        font-style: italic !important;\n",
       "        display: block !important;\n",
       "    }\n",
       "\n",
       "    h4,\n",
       "    h5,\n",
       "    h6 {\n",
       "        font-size: 1rem !important;\n",
       "        font-weight: 400 !important;\n",
       "        display: block !important;\n",
       "    }\n",
       "\n",
       "    .prompt {\n",
       "        font-family: 'Menlo', monospace !important;\n",
       "        font-size: 0.75rem;\n",
       "        text-align: right;\n",
       "        line-height: 1.21429rem;\n",
       "    }\n",
       "\n",
       "    /* INTRO PAGE */\n",
       "\n",
       "    .toolbar_info,\n",
       "    .list-container {\n",
       "        ;\n",
       "    }\n",
       "    /* NOTEBOOK */\n",
       "\n",
       "    div#header-container {\n",
       "        display: none !important;\n",
       "    }\n",
       "\n",
       "    div#notebook {\n",
       "        border-top: none;\n",
       "        font-size: 1rem;\n",
       "    }\n",
       "\n",
       "    div.input_prompt {\n",
       "        color: #C74483;\n",
       "    }\n",
       "\n",
       "    .code_cell div.input_prompt:after,\n",
       "    div.output_prompt:after {\n",
       "        content: '\\25b6';\n",
       "    }\n",
       "\n",
       "    div.output_prompt {\n",
       "        color: #2B88D9;\n",
       "    }\n",
       "\n",
       "    div.input_area {\n",
       "        border-radius: 0px;\n",
       "        border: 1px solid #d8d8d8;\n",
       "    }\n",
       "\n",
       "    div.output_area pre {\n",
       "        font-weight: normal;\n",
       "    }\n",
       "\n",
       "    div.output_subarea {\n",
       "        font-weight: normal;\n",
       "    }\n",
       "\n",
       "    .rendered_html pre,\n",
       "    .rendered_html table,\n",
       "    .rendered_html th,\n",
       "    .rendered_html tr,\n",
       "    .rendered_html td {\n",
       "        border: 1px #828282 solid;\n",
       "        font-size: 0.75rem;\n",
       "        font-family: 'Menlo', monospace;\n",
       "    }\n",
       "\n",
       "    .rendered_html th,\n",
       "    .rendered_html tr,\n",
       "    .rendered_html td {\n",
       "        padding: 5px 10px;\n",
       "    }\n",
       "\n",
       "    .rendered_html th {\n",
       "        font-weight: normal;\n",
       "        background: #f8f8f8;\n",
       "    }\n",
       "\n",
       "    a:link{\n",
       "       font-weight: bold;\n",
       "       color:#447adb;\n",
       "    }\n",
       "    a:visited{\n",
       "       font-weight: bold;\n",
       "       color: #1d3b84;\n",
       "    }\n",
       "    a:hover{\n",
       "       font-weight: bold;\n",
       "       color: #1d3b84;\n",
       "    }\n",
       "    a:focus{\n",
       "       font-weight: bold;\n",
       "       color:#447adb;\n",
       "    }\n",
       "    a:active{\n",
       "       font-weight: bold;\n",
       "       color:#447adb;\n",
       "    }\n",
       "    .rendered_html :link {\n",
       "       text-decoration: underline; \n",
       "    }\n",
       "\n",
       "    div.output_html {\n",
       "        font-weight: 1rem;\n",
       "        font-family: 'Source Sans Pro', \"Helvetica Neue\", Helvetica, Arial, sans-serif;\n",
       "    }\n",
       "\n",
       "    table.dataframe tr {\n",
       "        border: 1px #CCCCCC;\n",
       "    }\n",
       "\n",
       "    div.cell.selected {\n",
       "        border-radius: 0px;\n",
       "    }\n",
       "\n",
       "    div.cell.edit_mode {\n",
       "        border-radius: 0px;\n",
       "        border: thin solid #CF5804;\n",
       "    }\n",
       "\n",
       "    span.ansiblue {\n",
       "        color: #00A397;\n",
       "    }\n",
       "\n",
       "    span.ansigray {\n",
       "        color: #d8d8d8;\n",
       "    }\n",
       "\n",
       "    span.ansigreen {\n",
       "        color: #688A0A;\n",
       "    }\n",
       "\n",
       "    span.ansipurple {\n",
       "        color: #975DDE;\n",
       "    }\n",
       "\n",
       "    span.ansired {\n",
       "        color: #D43132;\n",
       "    }\n",
       "\n",
       "    span.ansiyellow {\n",
       "        color: #D9AA00;\n",
       "    }\n",
       "\n",
       "    div.output_stderr {\n",
       "        background-color: #D43132;\n",
       "    }\n",
       "\n",
       "    div.output_stderr pre {\n",
       "        color: #e8e8e8;\n",
       "    }\n",
       "\n",
       "    .cm-s-ipython.CodeMirror {\n",
       "        background: #F8F8F8;\n",
       "    }\n",
       "\n",
       "    .cm-s-ipython div.CodeMirror-selected {\n",
       "        background: #e8e8e8 !important;\n",
       "    }\n",
       "\n",
       "    .cm-s-ipython .CodeMirror-gutters {\n",
       "        background: #F8F8F8;\n",
       "        border-right: 0px;\n",
       "    }\n",
       "\n",
       "    .cm-s-ipython .CodeMirror-linenumber {\n",
       "        color: #b8b8b8;\n",
       "    }\n",
       "\n",
       "    .cm-s-ipython .CodeMirror-cursor {\n",
       "        border-left: 1px solid #585858 !important;\n",
       "    }\n",
       "\n",
       "    .cm-s-ipython span.cm-atom {\n",
       "        color: #C74483;\n",
       "    }\n",
       "\n",
       "    .cm-s-ipython span.cm-number {\n",
       "        color: #C74483;\n",
       "    }\n",
       "\n",
       "    .cm-s-ipython span.cm-property,\n",
       "    .cm-s-ipython span.cm-attribute {\n",
       "        color: #688A0A;\n",
       "    }\n",
       "\n",
       "    .cm-s-ipython span.cm-keyword {\n",
       "        font-weight: normal;\n",
       "        color: #D43132;\n",
       "    }\n",
       "\n",
       "    .cm-s-ipython span.cm-string {\n",
       "        color: #D9AA00;\n",
       "    }\n",
       "\n",
       "    .cm-s-ipython span.cm-operator {\n",
       "        font-weight: normal;\n",
       "    }\n",
       "\n",
       "    .cm-s-ipython span.cm-builtin {\n",
       "        color: #2B88D9;\n",
       "    }\n",
       "\n",
       "    .cm-s-ipython span.cm-variable {\n",
       "        color: #00A397;\n",
       "    }\n",
       "\n",
       "    .cm-s-ipython span.cm-variable-2 {\n",
       "        color: #2B88D9;\n",
       "    }\n",
       "\n",
       "    .cm-s-ipython span.cm-def {\n",
       "        color: #00A397;\n",
       "    }\n",
       "\n",
       "    .cm-s-ipython span.cm-error {\n",
       "        background: #FFBDBD;\n",
       "        color: #D43132;\n",
       "    }\n",
       "\n",
       "    .cm-s-ipython span.cm-tag {\n",
       "        color: #D43132;\n",
       "    }\n",
       "\n",
       "    .cm-s-ipython span.cm-link {\n",
       "        color: #975DDE;\n",
       "    }\n",
       "\n",
       "    .cm-s-ipython .CodeMirror-matchingbracket {\n",
       "        text-decoration: underline;\n",
       "         !important;\n",
       "    }\n",
       "</style>\n",
       "\n",
       "<script>\n",
       "    MathJax.Hub.Config({\n",
       "                        TeX: {\n",
       "                           extensions: [\"AMSmath.js\"]\n",
       "                           },\n",
       "                tex2jax: {\n",
       "                    inlineMath: [ ['$','$'], [\"\\\\(\",\"\\\\)\"] ],\n",
       "                    displayMath: [ ['$$','$$'], [\"\\\\[\",\"\\\\]\"] ]\n",
       "                },\n",
       "                displayAlign: 'center', // Change this to 'center' to center equations.\n",
       "                \"HTML-CSS\": {\n",
       "                    scale:100,\n",
       "                        availableFonts: [],\n",
       "                        preferredFont:null,\n",
       "                        webFont: \"TeX\",\n",
       "                    styles: {'.MathJax_Display': {\"margin\": 4}}\n",
       "                }\n",
       "        });\n",
       "</script>"
      ],
      "text/plain": [
       "<IPython.core.display.HTML object>"
      ]
     },
     "execution_count": 1,
     "metadata": {},
     "output_type": "execute_result"
    }
   ],
   "source": [
    "# code for loading the format for the notebook\n",
    "import os\n",
    "\n",
    "# path : store the current path to convert back to it later\n",
    "path = os.getcwd()\n",
    "os.chdir(os.path.join('..', '..', 'notebook_format'))\n",
    "\n",
    "from formats import load_style\n",
    "load_style(css_style='custom2.css', plot_style=False)"
   ]
  },
  {
   "cell_type": "code",
   "execution_count": 2,
   "id": "12c638ab",
   "metadata": {},
   "outputs": [
    {
     "name": "stderr",
     "output_type": "stream",
     "text": [
      "/usr/local/lib/python3.8/dist-packages/tqdm/auto.py:22: TqdmWarning: IProgress not found. Please update jupyter and ipywidgets. See https://ipywidgets.readthedocs.io/en/stable/user_install.html\n",
      "  from .autonotebook import tqdm as notebook_tqdm\n"
     ]
    },
    {
     "name": "stdout",
     "output_type": "stream",
     "text": [
      "Author: Ethen\n",
      "\n",
      "Last updated: 2022-10-22\n",
      "\n",
      "Python implementation: CPython\n",
      "Python version       : 3.8.10\n",
      "IPython version      : 8.4.0\n",
      "\n",
      "torch       : 1.10.0a0+git36449ea\n",
      "dgl         : 0.9.1\n",
      "torchmetrics: 0.10.0\n",
      "\n"
     ]
    }
   ],
   "source": [
    "os.chdir(path)\n",
    "\n",
    "# 1. magic to print version\n",
    "# 2. magic so that the notebook will reload external python modules\n",
    "%load_ext watermark\n",
    "%load_ext autoreload\n",
    "%autoreload 2\n",
    "\n",
    "import dgl\n",
    "import torch\n",
    "import dgl.data\n",
    "import torch.nn as nn\n",
    "import torch.optim as optim\n",
    "import torch.nn.functional as F\n",
    "import torchmetrics.functional as MF\n",
    "from time import perf_counter\n",
    "from torchmetrics import Accuracy\n",
    "from ogb.nodeproppred import DglNodePropPredDataset\n",
    "from pytorch_lightning import LightningDataModule, LightningModule, Trainer\n",
    "from pytorch_lightning.callbacks import ModelCheckpoint\n",
    "\n",
    "device = torch.device(\"cuda\" if torch.cuda.is_available() else \"cpu\")\n",
    "\n",
    "%watermark -a \"Ethen\" -d -u -v -iv"
   ]
  },
  {
   "cell_type": "markdown",
   "id": "d2880089",
   "metadata": {},
   "source": [
    "# Graph Neural Networks Node Classification Quick Introduction"
   ]
  },
  {
   "cell_type": "markdown",
   "id": "7d5c6985",
   "metadata": {},
   "source": [
    "In this particular notebook, we'll be:\n",
    "\n",
    "- Giving a quick introduction to Graph Neural Network.\n",
    "- Implement one particular algorithm GraphSAGE using [DGL](https://www.dgl.ai/), deep graph library. We'll be introducing how to work with DGL library on the graph node classification task.\n",
    "- Use Pytorch Lightning for organizing our building blocks and training our model. This isn't a PyTorch lightning tutorial, readers are expected to understand its concept such as `LightningDataModule`, `LightningModule` as well as `Trainer`."
   ]
  },
  {
   "cell_type": "markdown",
   "id": "701bc462",
   "metadata": {},
   "source": [
    "A graph $\\mathcal{G}(V, E)$ is a data structure containing a set of nodes (a.k.a vertices) $i \\in V$ and a set of edges $e_{ij} \\in E$ connecting vertices $i$ and $j$. Each node $i$ has an associated node features $x_i \\in \\mathbb{R}^d$ and labels $y_i$\n",
    "\n",
    "A single Graph neural network (GNN) layer has three main steps that are performed on every node in the graph.\n",
    "\n",
    "1. Message Passing\n",
    "2. Aggregation\n",
    "3. Update\n",
    "\n",
    "**Message Passing:**\n",
    "\n",
    "GNN learns a node $i$ by examining nodes in its neighborhood $N_i$, where $N_i$ is defined as the set of nodes $j$ connected to the source node $i$ by an edge, more formally, $N_i = {j : e_{ij} \\in E}$. When examining a node, we can use any arbitrary function, $F$, either a neural network like, MLP, or here, let's assume it will be a affine transformation:\n",
    "\n",
    "\\begin{align}\n",
    "\\begin{aligned}\n",
    "F(x_j) = \\mathbf{W}_j \\cdot x_j + b\n",
    "\\end{aligned}\n",
    "\\end{align}\n",
    "\n",
    "Here, $\\cdot$ represents matrix multiplication.\n",
    "\n",
    "**Aggregation:**\n",
    "\n",
    "Now that we have the messages from neighborhood node, we have to aggregate them somehow. Popular aggregation function includes sum/mean/max/min. The aggregation function, $G$, can be denoted as:\n",
    "\n",
    "\\begin{align}\n",
    "\\begin{aligned}\n",
    "\\bar{m}_i = G(\\{F(x_j) : j \\in \\mathcal{N}_i\\})\n",
    "\\end{aligned}\n",
    "\\end{align}\n",
    "\n",
    "**Update:**\n",
    "\n",
    "The GNN layer now has to update our source node $i$'s features and combine it with the incoming aggregated messages. For example, using addition.\n",
    "\n",
    "\\begin{align}\n",
    "\\begin{aligned}\n",
    "h_i = \\sigma(K(T(x_i) + \\bar{m}_i)))\n",
    "\\end{aligned}\n",
    "\\end{align}\n",
    "\n",
    "Here, $T$, denotes a function that's applied to the source node $i$'s feature, $K$ denotes another transformation to project the blended features into another dimension, $\\sigma$ denotes an activation function such as Relu. Notation-wise, the initial node features are called $x_i$, after a forward pass through a GNN layer, we denote the node features as $h_i$. If we were to have multiple GNN layers, then we denote node features as $h_i^l$, where $l$ is the current GNN layer index.\n",
    "\n",
    "Note:\n",
    "\n",
    "- GNN aims to learn a function that generates embeddings via sampling and aggregation features from nodes' neighborhood. Innovations in GNN mainly involves changings to these three steps.\n",
    "- Number of layers in GNN is a hyperparameter that can be tweaked, the intuition is that $l^{th}$ GNN layer aggregate features from the $l^{th}$ hop neighborhood of node $i$. i.e. initially, the node sees its immediate neighbors and deeper into the network, it interacts with neighbors' neighbors and so on. Most GNN papers uses less than 4 layers to prevent the network from dying, where node embeddings all converge to similar representation after seeing nodes many hops away. This phenomenon becomes more prevalent for small and sparse graphs."
   ]
  },
  {
   "cell_type": "markdown",
   "id": "28267c36",
   "metadata": {},
   "source": [
    "## Implementation"
   ]
  },
  {
   "cell_type": "markdown",
   "id": "d344dcfa",
   "metadata": {},
   "source": [
    "This code is largely ported from [DGL's Pytorch lightning node classification example](https://github.com/dmlc/dgl/blob/master/examples/pytorch/graphsage/lightning/node_classification.py) with additional explanations in between each section.\n",
    "\n",
    "We will be using the [ogbn-products](https://ogb.stanford.edu/docs/nodeprop/#ogbn-products) dataset. Directly copying this dataset's description from its description page.\n",
    "\n",
    "> ogbn-products dataset is an undirected and unweighted graph, representing an Amazon product co-purchasing network. Nodes represent products sold in Amazon, and edges between two products indicate that the products are purchased together. Node features are generated by extracting bag-of-words features from the product descriptions followed by a Principal Component Analysis to reduce the dimension to 100.\n",
    ">\n",
    "> The task is to predict the category of a product in a multi-class classification setup, where the 47 top-level categories are used for target labels."
   ]
  },
  {
   "cell_type": "code",
   "execution_count": 3,
   "id": "51a15271",
   "metadata": {},
   "outputs": [
    {
     "data": {
      "text/plain": [
       "Graph(num_nodes=2449029, num_edges=123718280,\n",
       "      ndata_schemes={'feat': Scheme(shape=(100,), dtype=torch.float32)}\n",
       "      edata_schemes={})"
      ]
     },
     "execution_count": 3,
     "metadata": {},
     "output_type": "execute_result"
    }
   ],
   "source": [
    "dataset = DglNodePropPredDataset(\"ogbn-products\")\n",
    "graph, labels = dataset[0]\n",
    "graph"
   ]
  },
  {
   "cell_type": "markdown",
   "id": "574492ca",
   "metadata": {},
   "source": [
    "For DGL graph, we can assign or extract node's features via our graph's `ndata` attribute. Here, we assign dataset's label to our graph."
   ]
  },
  {
   "cell_type": "code",
   "execution_count": 4,
   "id": "eb874c56",
   "metadata": {},
   "outputs": [
    {
     "data": {
      "text/plain": [
       "{'feat': tensor([[ 0.0319, -0.1959,  0.0520,  ...,  0.0767, -0.3930, -0.0648],\n",
       "        [-0.0241,  0.6303,  1.0606,  ..., -1.6875,  3.5867,  0.8182],\n",
       "        [ 0.3327, -0.5586, -0.2886,  ..., -0.3716,  0.2521,  0.0415],\n",
       "        ...,\n",
       "        [ 0.1066,  0.2655, -0.0057,  ...,  1.0867,  0.0759, -1.1737],\n",
       "        [ 0.2497, -0.2574,  0.4123,  ...,  1.5466,  1.0310, -0.2966],\n",
       "        [ 0.7175, -0.2393,  0.0443,  ..., -1.0132, -0.4141, -0.0823]]), 'label': tensor([0, 1, 2,  ..., 8, 2, 4])}"
      ]
     },
     "execution_count": 4,
     "metadata": {},
     "output_type": "execute_result"
    }
   ],
   "source": [
    "graph.ndata[\"label\"] = labels.squeeze()\n",
    "graph.ndata"
   ]
  },
  {
   "cell_type": "code",
   "execution_count": 5,
   "id": "f54423e6",
   "metadata": {},
   "outputs": [],
   "source": [
    "# extract the train, validation and test split provided via the dataset\n",
    "split_idx = dataset.get_idx_split()\n",
    "train_idx, val_idx, test_idx = (\n",
    "    split_idx[\"train\"],\n",
    "    split_idx[\"valid\"],\n",
    "    split_idx[\"test\"],\n",
    ")"
   ]
  },
  {
   "cell_type": "markdown",
   "id": "5618a146",
   "metadata": {},
   "source": [
    "### Data Module"
   ]
  },
  {
   "cell_type": "markdown",
   "id": "cb939dfa",
   "metadata": {},
   "source": [
    "Given a graph as well as data splits, we can get our hands dirty and implement our data module."
   ]
  },
  {
   "cell_type": "code",
   "execution_count": 6,
   "id": "805c6efe",
   "metadata": {},
   "outputs": [],
   "source": [
    "class DataModule(LightningDataModule):\n",
    "\n",
    "    def __init__(\n",
    "        self, graph, train_idx, val_idx, fanouts, batch_size, n_classes, device\n",
    "    ):\n",
    "        super().__init__()\n",
    "\n",
    "        sampler = dgl.dataloading.NeighborSampler(\n",
    "            fanouts, prefetch_node_feats=[\"feat\"], prefetch_labels=[\"label\"]\n",
    "        )\n",
    "\n",
    "        self.graph = graph\n",
    "        self.train_idx = train_idx\n",
    "        self.val_idx = val_idx\n",
    "        self.sampler = sampler\n",
    "        self.batch_size = batch_size\n",
    "        self.in_feats = graph.ndata[\"feat\"].shape[1]\n",
    "        self.n_classes = n_classes\n",
    "\n",
    "    def train_dataloader(self):\n",
    "        return dgl.dataloading.DataLoader(\n",
    "            self.graph,\n",
    "            self.train_idx.to(device),\n",
    "            self.sampler,\n",
    "            device=device,\n",
    "            batch_size=self.batch_size,\n",
    "            shuffle=True,\n",
    "            drop_last=False,\n",
    "            num_workers=0,\n",
    "            use_uva=True\n",
    "        )\n",
    "\n",
    "    def val_dataloader(self):\n",
    "        return dgl.dataloading.DataLoader(\n",
    "            self.graph,\n",
    "            self.val_idx.to(device),\n",
    "            self.sampler,\n",
    "            device=device,\n",
    "            batch_size=self.batch_size,\n",
    "            shuffle=True,\n",
    "            drop_last=False,\n",
    "            num_workers=0,\n",
    "            use_uva=True,\n",
    "        )"
   ]
  },
  {
   "cell_type": "markdown",
   "id": "3372c289",
   "metadata": {},
   "source": [
    "Similar to general neural networks, we need a `DataLoader` to sample batches of inputs. A data loader by default returns 3 elements: `input_nodes`, `output_nodes`, `blocks`.\n",
    "\n",
    "`input_nodes` describe the nodes needed to compute the representation of `output_nodes`. Whereas `blocks` describe for each GNN layer, which node representations are to be computed as output, which node representations are needed as input, and how does representation from the input nodes propagate to the output nodes.\n",
    "\n",
    "Each data loader also accepts an sampler, here we are using one called `NeighborSampler`, which will make every node gather mesages from a fixed number of neighbors. We get to define the `fanouts` parameter for the sampler which represents number of neighbors to sample for each GNN layer.\n",
    "\n",
    "It also supports PyTorch concepts such as prefetching so model computation and data movement can happen in parallel, as well as a concept called [UVA (unified virtual addressing)](https://docs.dgl.ai/en/0.8.x/guide/minibatch-gpu-sampling.html#using-cuda-uva-based-neighborhood-sampling-in-dgl-data-loaders), directly quoting from its documentation: This is when our graph is too large to fit onto GPU memory, and we let GPU perform sampling on graph that will be pinned on CPU memory."
   ]
  },
  {
   "cell_type": "code",
   "execution_count": 7,
   "id": "f68b591f",
   "metadata": {},
   "outputs": [
    {
     "data": {
      "text/plain": [
       "(tensor([106546,  74635, 187662,  ..., 232149, 215355,  80118], device='cuda:0'),\n",
       " tensor([106546,  74635], device='cuda:0'),\n",
       " [Block(num_src_nodes=1428, num_dst_nodes=126, num_edges=1847),\n",
       "  Block(num_src_nodes=126, num_dst_nodes=12, num_edges=120),\n",
       "  Block(num_src_nodes=12, num_dst_nodes=2, num_edges=10)])"
      ]
     },
     "execution_count": 7,
     "metadata": {},
     "output_type": "execute_result"
    }
   ],
   "source": [
    "fanouts = [15, 10, 5]\n",
    "batch_size = 2\n",
    "data_module = DataModule(graph, train_idx, val_idx, fanouts, batch_size, dataset.num_classes, device)\n",
    "\n",
    "# sample output from the data loader\n",
    "input_nodes, output_nodes, blocks = next(iter(data_module.train_dataloader()))\n",
    "input_nodes, output_nodes, blocks"
   ]
  },
  {
   "cell_type": "markdown",
   "id": "840b3000",
   "metadata": {},
   "source": [
    "### GraphSAGE Model"
   ]
  },
  {
   "cell_type": "markdown",
   "id": "25e2d4cb",
   "metadata": {},
   "source": [
    "[GraphSAGE](https://arxiv.org/abs/1706.02216) stands for Graph SAmple and AggreGatE, its forward pass can be described with the following notation:\n",
    "\n",
    "\\begin{align}\n",
    "\\begin{aligned}\n",
    "h_{N_i}^{(l+1)} &= \\mathrm{aggregate}^{(l+1)}\n",
    "\\left(\\{h_{j}^{l}, \\forall j \\in N_i \\}\\right)\\\\h_{i}^{(l+1)} &= \\sigma \\left(W^{(l+1)} \\cdot \\mathrm{concat}\n",
    "(h_{i}^{l}, h_{N_i}^{l+1}) \\right)\\\\h_{i}^{(l+1)} &= \\mathrm{norm}(h_{i}^{(l+1)})\n",
    "\\end{aligned}\n",
    "\\end{align}\n",
    "\n",
    "Hopefully each of these steps won't look that alien after covering the general pattern of GNN.\n",
    "\n",
    "- For each node, it aggregates feature representation from its immediate neighborhood, which can be uniformly sampled. The original paper uses aggregation function such as mean, pooling, LSTM.\n",
    "- After aggregating neighboring feature representations, it then concatenates it with the node's current representation. This concatenation is then fed through a fully connected layer with nonlinear activation function.\n",
    "- The last step is normalizing learned embedding to unit length."
   ]
  },
  {
   "cell_type": "markdown",
   "id": "f09dd873",
   "metadata": {},
   "source": [
    "The way this works in DGL is if our features are stored in a graph object's `ndata`, then from a sampled block object we can access source nodes' feature via `srcdata` and destination nodes' feature via `dstdata`. In the next few code chunks, we first perform a small demo where we access source node's features, feed it through a GNN layer, and check whether its shape matches output nodes' label size. After that we'll proceed with implementing our main model/module."
   ]
  },
  {
   "cell_type": "code",
   "execution_count": 8,
   "id": "c650d21a",
   "metadata": {},
   "outputs": [
    {
     "data": {
      "text/plain": [
       "torch.Size([1428, 100])"
      ]
     },
     "execution_count": 8,
     "metadata": {},
     "output_type": "execute_result"
    }
   ],
   "source": [
    "blocks[0].srcdata[\"feat\"].shape"
   ]
  },
  {
   "cell_type": "code",
   "execution_count": 9,
   "id": "b99b2694",
   "metadata": {},
   "outputs": [
    {
     "data": {
      "text/plain": [
       "torch.Size([126, 256])"
      ]
     },
     "execution_count": 9,
     "metadata": {},
     "output_type": "execute_result"
    }
   ],
   "source": [
    "# out_feats is configurable, analogous to hidden layer's dimension size\n",
    "sage_conv = dgl.nn.SAGEConv(\n",
    "    in_feats=data_module.in_feats,\n",
    "    out_feats=256,\n",
    "    aggregator_type=\"mean\"\n",
    ").to(device)\n",
    "output = sage_conv(blocks[0], blocks[0].srcdata[\"feat\"])\n",
    "output.shape"
   ]
  },
  {
   "cell_type": "code",
   "execution_count": 10,
   "id": "bd0f0399",
   "metadata": {},
   "outputs": [
    {
     "data": {
      "text/plain": [
       "torch.Size([126])"
      ]
     },
     "execution_count": 10,
     "metadata": {},
     "output_type": "execute_result"
    }
   ],
   "source": [
    "blocks[0].dstdata[\"label\"].shape"
   ]
  },
  {
   "cell_type": "code",
   "execution_count": 11,
   "id": "fd1db1e7",
   "metadata": {},
   "outputs": [],
   "source": [
    "class SAGE(LightningModule):\n",
    "    \"\"\"Multi-layer GraphSAGE lightning module for node classification task.\"\"\"\n",
    "\n",
    "    def __init__(self, in_feats: int, n_layers: int, n_hidden: int, n_classes: int, aggregator_type: str):\n",
    "        super().__init__()\n",
    "        self.save_hyperparameters()\n",
    "\n",
    "        self.layers = nn.ModuleList()\n",
    "        self.layers.append(dgl.nn.SAGEConv(in_feats, n_hidden, aggregator_type))\n",
    "        for i in range(1, n_layers - 1):\n",
    "            self.layers.append(dgl.nn.SAGEConv(n_hidden, n_hidden, aggregator_type))\n",
    "\n",
    "        self.layers.append(dgl.nn.SAGEConv(n_hidden, n_classes, aggregator_type))\n",
    "\n",
    "        self.dropout = nn.Dropout(0.5)\n",
    "        self.n_hidden = n_hidden\n",
    "        self.n_classes = n_classes\n",
    "        self.train_acc = Accuracy()\n",
    "        self.val_acc = Accuracy()\n",
    "\n",
    "    def forward(self, blocks, x):\n",
    "        h = x\n",
    "        for l, (layer, block) in enumerate(zip(self.layers, blocks)):\n",
    "            h = layer(block, h)\n",
    "            if l != len(self.layers) - 1:\n",
    "                h = F.relu(h)\n",
    "                h = self.dropout(h)\n",
    "        return h\n",
    "        \n",
    "    def training_step(self, batch, batch_idx):\n",
    "        input_nodes, output_nodes, blocks = batch\n",
    "        x = blocks[0].srcdata[\"feat\"]\n",
    "        y = blocks[-1].dstdata[\"label\"]\n",
    "        y_hat = self(blocks, x)\n",
    "        loss = F.cross_entropy(y_hat, y)\n",
    "        self.train_acc(torch.argmax(y_hat, 1), y)\n",
    "        self.log(\n",
    "            \"train_acc\",\n",
    "            self.train_acc,\n",
    "            prog_bar=True,\n",
    "            on_step=True,\n",
    "            on_epoch=False\n",
    "        )\n",
    "        return loss\n",
    "\n",
    "    def validation_step(self, batch, batch_idx):\n",
    "        input_nodes, output_nodes, blocks = batch\n",
    "        x = blocks[0].srcdata[\"feat\"]\n",
    "        y = blocks[-1].dstdata[\"label\"]\n",
    "        y_hat = self(blocks, x)\n",
    "        self.val_acc(torch.argmax(y_hat, 1), y)\n",
    "        self.log(\n",
    "            \"val_acc\",\n",
    "            self.val_acc,\n",
    "            prog_bar=True,\n",
    "            on_step=True,\n",
    "            on_epoch=True,\n",
    "            sync_dist=True\n",
    "        )\n",
    "\n",
    "    def configure_optimizers(self):\n",
    "        optimizer = torch.optim.Adam(\n",
    "            self.parameters(),\n",
    "            lr=0.001,\n",
    "            weight_decay=5e-4\n",
    "        )\n",
    "        return optimizer"
   ]
  },
  {
   "cell_type": "code",
   "execution_count": 12,
   "id": "9dafc88b",
   "metadata": {},
   "outputs": [
    {
     "data": {
      "text/plain": [
       "SAGE(\n",
       "  (layers): ModuleList(\n",
       "    (0): SAGEConv(\n",
       "      (feat_drop): Dropout(p=0.0, inplace=False)\n",
       "      (fc_self): Linear(in_features=100, out_features=256, bias=False)\n",
       "      (fc_neigh): Linear(in_features=100, out_features=256, bias=False)\n",
       "    )\n",
       "    (1): SAGEConv(\n",
       "      (feat_drop): Dropout(p=0.0, inplace=False)\n",
       "      (fc_self): Linear(in_features=256, out_features=256, bias=False)\n",
       "      (fc_neigh): Linear(in_features=256, out_features=256, bias=False)\n",
       "    )\n",
       "    (2): SAGEConv(\n",
       "      (feat_drop): Dropout(p=0.0, inplace=False)\n",
       "      (fc_self): Linear(in_features=256, out_features=47, bias=False)\n",
       "      (fc_neigh): Linear(in_features=256, out_features=47, bias=False)\n",
       "    )\n",
       "  )\n",
       "  (dropout): Dropout(p=0.5, inplace=False)\n",
       "  (train_acc): Accuracy()\n",
       "  (val_acc): Accuracy()\n",
       ")"
      ]
     },
     "execution_count": 12,
     "metadata": {},
     "output_type": "execute_result"
    }
   ],
   "source": [
    "model = SAGE(\n",
    "    in_feats=data_module.in_feats,\n",
    "    n_layers=len(fanouts),\n",
    "    n_hidden=256,\n",
    "    n_classes=data_module.n_classes,\n",
    "    aggregator_type=\"mean\"\n",
    ")\n",
    "model"
   ]
  },
  {
   "cell_type": "markdown",
   "id": "3e6a0626",
   "metadata": {},
   "source": [
    "### Trainer"
   ]
  },
  {
   "cell_type": "markdown",
   "id": "d901d0b2",
   "metadata": {},
   "source": [
    "The node chunk initiatizes the data as well as model module and kicks off model training through Trainer class ."
   ]
  },
  {
   "cell_type": "code",
   "execution_count": 15,
   "id": "5fe18066",
   "metadata": {},
   "outputs": [
    {
     "name": "stderr",
     "output_type": "stream",
     "text": [
      "GPU available: True (cuda), used: True\n",
      "TPU available: False, using: 0 TPU cores\n",
      "IPU available: False, using: 0 IPUs\n",
      "HPU available: False, using: 0 HPUs\n",
      "LOCAL_RANK: 0 - CUDA_VISIBLE_DEVICES: [0]\n",
      "\n",
      "  | Name      | Type       | Params\n",
      "-----------------------------------------\n",
      "0 | layers    | ModuleList | 206 K \n",
      "1 | dropout   | Dropout    | 0     \n",
      "2 | train_acc | Accuracy   | 0     \n",
      "3 | val_acc   | Accuracy   | 0     \n",
      "-----------------------------------------\n",
      "206 K     Trainable params\n",
      "0         Non-trainable params\n",
      "206 K     Total params\n",
      "0.828     Total estimated model params size (MB)\n",
      "`Trainer.fit` stopped: `max_epochs=10` reached.\n"
     ]
    },
    {
     "name": "stdout",
     "output_type": "stream",
     "text": [
      "Elapsed time: 117.55090914410539\n"
     ]
    }
   ],
   "source": [
    "n_hidden = 256\n",
    "fanouts = [15, 10, 5]\n",
    "aggregator_type = \"mean\"\n",
    "batch_size = 1024\n",
    "n_layers = len(fanouts)\n",
    "\n",
    "data_module = DataModule(graph, train_idx, val_idx, fanouts, batch_size, dataset.num_classes, device)\n",
    "model = SAGE(\n",
    "    in_feats=data_module.in_feats,\n",
    "    n_layers=n_layers,\n",
    "    n_hidden=n_hidden,\n",
    "    n_classes=data_module.n_classes,\n",
    "    aggregator_type=aggregator_type\n",
    ")\n",
    "\n",
    "checkpoint_callback = ModelCheckpoint(monitor=\"val_acc\", save_top_k=1)\n",
    "trainer = Trainer(\n",
    "    accelerator='gpu',\n",
    "    devices=[0],\n",
    "    max_epochs=10,\n",
    "    # note, we purpose-fully disabled the progress bar to prevent flooding our notebook's console\n",
    "    # in normal settings, we can/should definitely turn it on\n",
    "    enable_progress_bar=False,\n",
    "    log_every_n_steps=100,\n",
    "    callbacks=[checkpoint_callback]\n",
    ")\n",
    "t1_start = perf_counter()\n",
    "trainer.fit(model, datamodule=data_module)\n",
    "t1_stop = perf_counter()\n",
    "print(\"Elapsed time:\", t1_stop - t1_start)"
   ]
  },
  {
   "cell_type": "markdown",
   "id": "a023a443",
   "metadata": {},
   "source": [
    "## Evaluation"
   ]
  },
  {
   "cell_type": "markdown",
   "id": "2747740b",
   "metadata": {},
   "source": [
    "The prediction/evaluation is also a bit interesting. As explained clearly by [DGL Tutorial - Exact Offline Inference on Large Graphs](https://docs.dgl.ai/en/0.8.x/guide/minibatch-inference.html) While training our GNN, we often times perform neighborhood sampling for reducing memory. But while performing inferencing, it's better to truly aggregate over all neighbors.\n",
    "\n",
    "The result of this is that our inference implemention will be slightly different compared to training. During training, we have an outer loop that's iterating over mini-batches of nodes (this is coming from our DataLoader), and an inner loop that's iterating over all our GNN's layer. During inferencing, what will happen is, we instead will have an outer loop that's iterating over the GNN layers, and an inner loop that's iterating over our mini-batches of nodes."
   ]
  },
  {
   "cell_type": "code",
   "execution_count": 16,
   "id": "ca5d7362",
   "metadata": {},
   "outputs": [],
   "source": [
    "def predict(graph, model, batch_size, device):\n",
    "    graph.ndata[\"h\"] = graph.ndata[\"feat\"]\n",
    "    sampler = dgl.dataloading.MultiLayerFullNeighborSampler(1)\n",
    "    data_loader = dgl.dataloading.DataLoader(\n",
    "        graph,\n",
    "        torch.arange(graph.number_of_nodes()).to(device),\n",
    "        sampler,\n",
    "        batch_size=batch_size,\n",
    "        shuffle=False,\n",
    "        drop_last=False,\n",
    "        device=device,\n",
    "        num_workers=0,\n",
    "        use_uva=True\n",
    "    )\n",
    "    \n",
    "    for l, layer in enumerate(model.layers):\n",
    "        y = torch.zeros(\n",
    "            graph.num_nodes(),\n",
    "            model.n_hidden if l != len(model.layers) - 1 else model.n_classes,\n",
    "            device='cpu'\n",
    "        )\n",
    "        for input_nodes, output_nodes, blocks in data_loader:\n",
    "            block = blocks[0]\n",
    "            x = block.srcdata['h']\n",
    "            h = layer(block, x)\n",
    "            if l != len(model.layers) - 1:\n",
    "                h = F.relu(h)\n",
    "                h = model.dropout(h)\n",
    "\n",
    "            y[output_nodes] = h.to('cpu')\n",
    "\n",
    "        graph.ndata[\"h\"] = y\n",
    "\n",
    "    del graph.ndata['h']\n",
    "    return y"
   ]
  },
  {
   "cell_type": "code",
   "execution_count": 17,
   "id": "8b8b58a7",
   "metadata": {},
   "outputs": [
    {
     "name": "stdout",
     "output_type": "stream",
     "text": [
      "Test accuracy: 0.748\n"
     ]
    }
   ],
   "source": [
    "predict_batch_size = 4096\n",
    "\n",
    "with torch.no_grad():\n",
    "    pred = predict(graph, model.to(device), predict_batch_size, device)\n",
    "    pred = pred[test_idx]\n",
    "    label = graph.ndata[\"label\"][test_idx]\n",
    "    accuracy = MF.accuracy(pred, label)\n",
    "    accuracy = round(accuracy.item(), 3)\n",
    "\n",
    "print(\"Test accuracy:\", accuracy)"
   ]
  },
  {
   "cell_type": "markdown",
   "id": "6fa141ca",
   "metadata": {},
   "source": [
    "Hopefully, this served as a quick introduction to GNN's node classification task. Feel free to check the [leaderboard](https://ogb.stanford.edu/docs/leader_nodeprop/#ogbn-products) for potential improvements to this baseline approach."
   ]
  },
  {
   "cell_type": "markdown",
   "id": "20347f10",
   "metadata": {},
   "source": [
    "## Reference"
   ]
  },
  {
   "cell_type": "markdown",
   "id": "43155425",
   "metadata": {},
   "source": [
    "- [Blog: Math Behind Graph Neural Networks](https://rish-16.github.io/posts/gnn-math/)\n",
    "- [DGL Tutorial - Training GNN for Node Classification with Neighborhood Sampling](https://docs.dgl.ai/en/0.8.x/guide/minibatch-node.html#guide-minibatch-node-classification-sampler)\n",
    "- [DGL Tutorial - Exact Offline Inference on Large Graphs](https://docs.dgl.ai/en/0.8.x/guide/minibatch-inference.html)\n",
    "- [Paper - William L. Hamilton, Rex Ying, Jure Leskovec : Inductive Representation Learning on Large Graphs (2017)](https://arxiv.org/abs/1706.02216)"
   ]
  }
 ],
 "metadata": {
  "kernelspec": {
   "display_name": "Python 3 (ipykernel)",
   "language": "python",
   "name": "python3"
  },
  "language_info": {
   "codemirror_mode": {
    "name": "ipython",
    "version": 3
   },
   "file_extension": ".py",
   "mimetype": "text/x-python",
   "name": "python",
   "nbconvert_exporter": "python",
   "pygments_lexer": "ipython3",
   "version": "3.9.12"
  },
  "toc-showtags": false
 },
 "nbformat": 4,
 "nbformat_minor": 5
}
