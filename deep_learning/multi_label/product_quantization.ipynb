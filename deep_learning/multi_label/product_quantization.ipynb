{
 "cells": [
  {
   "cell_type": "markdown",
   "metadata": {
    "toc": true
   },
   "source": [
    "<h1>Table of Contents<span class=\"tocSkip\"></span></h1>\n",
    "<div class=\"toc\"><ul class=\"toc-item\"><li><span><a href=\"#Product-Quantization-for-Model-Compression\" data-toc-modified-id=\"Product-Quantization-for-Model-Compression-1\"><span class=\"toc-item-num\">1&nbsp;&nbsp;</span>Product Quantization for Model Compression</a></span><ul class=\"toc-item\"><li><span><a href=\"#Data-Preparation-and-Model\" data-toc-modified-id=\"Data-Preparation-and-Model-1.1\"><span class=\"toc-item-num\">1.1&nbsp;&nbsp;</span>Data Preparation and Model</a></span></li><li><span><a href=\"#Product-Quantization-from-Scratch\" data-toc-modified-id=\"Product-Quantization-from-Scratch-1.2\"><span class=\"toc-item-num\">1.2&nbsp;&nbsp;</span>Product Quantization from Scratch</a></span><ul class=\"toc-item\"><li><span><a href=\"#Learning-Code-Book\" data-toc-modified-id=\"Learning-Code-Book-1.2.1\"><span class=\"toc-item-num\">1.2.1&nbsp;&nbsp;</span>Learning Code Book</a></span></li><li><span><a href=\"#Encode\" data-toc-modified-id=\"Encode-1.2.2\"><span class=\"toc-item-num\">1.2.2&nbsp;&nbsp;</span>Encode</a></span></li></ul></li><li><span><a href=\"#Computing-Query-Distance\" data-toc-modified-id=\"Computing-Query-Distance-1.3\"><span class=\"toc-item-num\">1.3&nbsp;&nbsp;</span>Computing Query Distance</a></span></li><li><span><a href=\"#Fasttext-Product-Quantization\" data-toc-modified-id=\"Fasttext-Product-Quantization-1.4\"><span class=\"toc-item-num\">1.4&nbsp;&nbsp;</span>Fasttext Product Quantization</a></span></li><li><span><a href=\"#Product-Quantization-Recap\" data-toc-modified-id=\"Product-Quantization-Recap-1.5\"><span class=\"toc-item-num\">1.5&nbsp;&nbsp;</span>Product Quantization Recap</a></span></li></ul></li><li><span><a href=\"#Reference\" data-toc-modified-id=\"Reference-2\"><span class=\"toc-item-num\">2&nbsp;&nbsp;</span>Reference</a></span></li></ul></div>"
   ]
  },
  {
   "cell_type": "code",
   "execution_count": 1,
   "metadata": {},
   "outputs": [
    {
     "data": {
      "text/html": [
       "<style>\n",
       "@import url('http://fonts.googleapis.com/css?family=Source+Code+Pro');\n",
       "@import url('http://fonts.googleapis.com/css?family=Vollkorn');\n",
       "@import url('http://fonts.googleapis.com/css?family=Arimo');\n",
       "@import url('http://fonts.googleapis.com/css?family=Fira_sans');\n",
       "    \n",
       "    div.cell {\n",
       "        width: 1000px;\n",
       "        margin-left: 0% !important;\n",
       "        margin-right: auto;\n",
       "    }\n",
       "    div.text_cell code {\n",
       "        background: transparent;\n",
       "        color: #000000;\n",
       "        font-weight: 600;\n",
       "        font-size: 12pt;\n",
       "        font-style: bold;\n",
       "        font-family:  'Source Code Pro', Consolas, monocco, monospace;\n",
       "    }\n",
       "    h1 {\n",
       "        font-family: 'Open sans',verdana,arial,sans-serif;\n",
       "\t}\n",
       "\t\n",
       "    div.input_area {\n",
       "        background: #F6F6F9;\n",
       "        border: 1px solid #586e75;\n",
       "    }\n",
       "\n",
       "    .text_cell_render h1 {\n",
       "        font-weight: 200;\n",
       "        font-size: 30pt;\n",
       "        line-height: 100%;\n",
       "        color:#c76c0c;\n",
       "        margin-bottom: 0.5em;\n",
       "        margin-top: 1em;\n",
       "        display: block;\n",
       "        white-space: wrap;\n",
       "        text-align: left;\n",
       "    } \n",
       "    h2 {\n",
       "        font-family: 'Open sans',verdana,arial,sans-serif;\n",
       "        text-align: left;\n",
       "    }\n",
       "    .text_cell_render h2 {\n",
       "        font-weight: 200;\n",
       "        font-size: 16pt;\n",
       "        font-style: italic;\n",
       "        line-height: 100%;\n",
       "        color:#c76c0c;\n",
       "        margin-bottom: 0.5em;\n",
       "        margin-top: 1.5em;\n",
       "        display: block;\n",
       "        white-space: wrap;\n",
       "        text-align: left;\n",
       "    } \n",
       "    h3 {\n",
       "        font-family: 'Open sans',verdana,arial,sans-serif;\n",
       "    }\n",
       "    .text_cell_render h3 {\n",
       "        font-weight: 200;\n",
       "        font-size: 14pt;\n",
       "        line-height: 100%;\n",
       "        color:#d77c0c;\n",
       "        margin-bottom: 0.5em;\n",
       "        margin-top: 2em;\n",
       "        display: block;\n",
       "        white-space: wrap;\n",
       "        text-align: left;\n",
       "    }\n",
       "    h4 {\n",
       "        font-family: 'Open sans',verdana,arial,sans-serif;\n",
       "    }\n",
       "    .text_cell_render h4 {\n",
       "        font-weight: 100;\n",
       "        font-size: 14pt;\n",
       "        color:#d77c0c;\n",
       "        margin-bottom: 0.5em;\n",
       "        margin-top: 0.5em;\n",
       "        display: block;\n",
       "        white-space: nowrap;\n",
       "    }\n",
       "    h5 {\n",
       "        font-family: 'Open sans',verdana,arial,sans-serif;\n",
       "    }\n",
       "    .text_cell_render h5 {\n",
       "        font-weight: 200;\n",
       "        font-style: normal;\n",
       "        color: #1d3b84;\n",
       "        font-size: 16pt;\n",
       "        margin-bottom: 0em;\n",
       "        margin-top: 0.5em;\n",
       "        display: block;\n",
       "        white-space: nowrap;\n",
       "    }\n",
       "    div.text_cell_render{\n",
       "        font-family: 'Fira sans', verdana,arial,sans-serif;\n",
       "        line-height: 125%;\n",
       "        font-size: 115%;\n",
       "        text-align:justify;\n",
       "        text-justify:inter-word;\n",
       "    }\n",
       "    div.output_wrapper{\n",
       "        margin-top:0.2em;\n",
       "        margin-bottom:0.2em;\n",
       "    }\n",
       "\n",
       "    code{\n",
       "      font-size: 70%;\n",
       "    }\n",
       "    .rendered_html code{\n",
       "    background-color: transparent;\n",
       "    }\n",
       "    ul{\n",
       "        margin: 2em;\n",
       "    }\n",
       "    ul li{\n",
       "        padding-left: 0.5em; \n",
       "        margin-bottom: 0.5em; \n",
       "        margin-top: 0.5em; \n",
       "    }\n",
       "    ul li li{\n",
       "        padding-left: 0.2em; \n",
       "        margin-bottom: 0.2em; \n",
       "        margin-top: 0.2em; \n",
       "    }\n",
       "    ol{\n",
       "        margin: 2em;\n",
       "    }\n",
       "    ol li{\n",
       "        padding-left: 0.5em; \n",
       "        margin-bottom: 0.5em; \n",
       "        margin-top: 0.5em; \n",
       "    }\n",
       "    ul li{\n",
       "        padding-left: 0.5em; \n",
       "        margin-bottom: 0.5em; \n",
       "        margin-top: 0.2em; \n",
       "    }\n",
       "    a:link{\n",
       "       font-weight: bold;\n",
       "       color:#447adb;\n",
       "    }\n",
       "    a:visited{\n",
       "       font-weight: bold;\n",
       "       color: #1d3b84;\n",
       "    }\n",
       "    a:hover{\n",
       "       font-weight: bold;\n",
       "       color: #1d3b84;\n",
       "    }\n",
       "    a:focus{\n",
       "       font-weight: bold;\n",
       "       color:#447adb;\n",
       "    }\n",
       "    a:active{\n",
       "       font-weight: bold;\n",
       "       color:#447adb;\n",
       "    }\n",
       "    .rendered_html :link {\n",
       "       text-decoration: underline; \n",
       "    }\n",
       "    .rendered_html :hover {\n",
       "       text-decoration: none; \n",
       "    }\n",
       "    .rendered_html :visited {\n",
       "      text-decoration: none;\n",
       "    }\n",
       "    .rendered_html :focus {\n",
       "      text-decoration: none;\n",
       "    }\n",
       "    .rendered_html :active {\n",
       "      text-decoration: none;\n",
       "    }\n",
       "    .warning{\n",
       "        color: rgb( 240, 20, 20 )\n",
       "    } \n",
       "    hr {\n",
       "      color: #f3f3f3;\n",
       "      background-color: #f3f3f3;\n",
       "      height: 1px;\n",
       "    }\n",
       "    blockquote{\n",
       "      display:block;\n",
       "      background: #fcfcfc;\n",
       "      border-left: 5px solid #c76c0c;\n",
       "      font-family: 'Open sans',verdana,arial,sans-serif;\n",
       "      width:680px;\n",
       "      padding: 10px 10px 10px 10px;\n",
       "      text-align:justify;\n",
       "      text-justify:inter-word;\n",
       "      }\n",
       "      blockquote p {\n",
       "        margin-bottom: 0;\n",
       "        line-height: 125%;\n",
       "        font-size: 100%;\n",
       "      }\n",
       "</style>\n",
       "<script>\n",
       "    MathJax.Hub.Config({\n",
       "                        TeX: {\n",
       "                           extensions: [\"AMSmath.js\"]\n",
       "                           },\n",
       "                tex2jax: {\n",
       "                    inlineMath: [ ['$','$'], [\"\\\\(\",\"\\\\)\"] ],\n",
       "                    displayMath: [ ['$$','$$'], [\"\\\\[\",\"\\\\]\"] ]\n",
       "                },\n",
       "                displayAlign: 'center', // Change this to 'center' to center equations.\n",
       "                \"HTML-CSS\": {\n",
       "                    scale:100,\n",
       "                        availableFonts: [],\n",
       "                        preferredFont:null,\n",
       "                        webFont: \"TeX\",\n",
       "                    styles: {'.MathJax_Display': {\"margin\": 4}}\n",
       "                }\n",
       "        });\n",
       "</script>\n"
      ],
      "text/plain": [
       "<IPython.core.display.HTML object>"
      ]
     },
     "execution_count": 1,
     "metadata": {},
     "output_type": "execute_result"
    }
   ],
   "source": [
    "# code for loading the format for the notebook\n",
    "import os\n",
    "\n",
    "# path : store the current path to convert back to it later\n",
    "path = os.getcwd()\n",
    "os.chdir(os.path.join('..', '..', 'notebook_format'))\n",
    "\n",
    "from formats import load_style\n",
    "load_style(plot_style=False)"
   ]
  },
  {
   "cell_type": "code",
   "execution_count": 2,
   "metadata": {},
   "outputs": [
    {
     "name": "stdout",
     "output_type": "stream",
     "text": [
      "Ethen 2020-05-21 22:08:36 \n",
      "\n",
      "CPython 3.6.4\n",
      "IPython 7.9.0\n",
      "\n",
      "numpy 1.16.5\n",
      "pandas 0.25.0\n",
      "matplotlib 3.1.1\n",
      "fasttext n\u0007\n",
      "scipy 1.4.1\n"
     ]
    }
   ],
   "source": [
    "os.chdir(path)\n",
    "\n",
    "# 1. magic for inline plot\n",
    "# 2. magic to print version\n",
    "# 3. magic so that the notebook will reload external python modules\n",
    "# 4. magic to enable retina (high resolution) plots\n",
    "# https://gist.github.com/minrk/3301035\n",
    "%matplotlib inline\n",
    "%load_ext watermark\n",
    "%load_ext autoreload\n",
    "%autoreload 2\n",
    "%config InlineBackend.figure_format='retina'\n",
    "\n",
    "import time\n",
    "import fasttext\n",
    "import numpy as np\n",
    "import pandas as pd\n",
    "import matplotlib.pyplot as plt\n",
    "\n",
    "# prevent scientific notations\n",
    "pd.set_option('display.float_format', lambda x: '%.3f' % x)\n",
    "\n",
    "%watermark -a 'Ethen' -d -t -v -p numpy,pandas,matplotlib,fasttext,scipy"
   ]
  },
  {
   "cell_type": "markdown",
   "metadata": {},
   "source": [
    "# Product Quantization for Model Compression"
   ]
  },
  {
   "cell_type": "markdown",
   "metadata": {},
   "source": [
    "**Product Quantization** or often times PQ for short is an extremely popular algorithm for compressing vectors/embeddings and performing approximate nearest neighborhood search. In this example, we'll be using fasttext to illustrate the concept. The library and the data preparation step has already been introduced in another [documentation](http://ethen8181.github.io/machine-learning/deep_learning/multi_label/fasttext.html), hence we won't be spending too much on them."
   ]
  },
  {
   "cell_type": "markdown",
   "metadata": {},
   "source": [
    "## Data Preparation and Model"
   ]
  },
  {
   "cell_type": "code",
   "execution_count": 3,
   "metadata": {},
   "outputs": [
    {
     "name": "stdout",
     "output_type": "stream",
     "text": [
      "--2020-05-21 22:08:36--  https://dl.fbaipublicfiles.com/fasttext/data/cooking.stackexchange.tar.gz\n",
      "Resolving dl.fbaipublicfiles.com (dl.fbaipublicfiles.com)... 104.22.75.142, 104.22.74.142\n",
      "Connecting to dl.fbaipublicfiles.com (dl.fbaipublicfiles.com)|104.22.75.142|:443... connected.\n",
      "HTTP request sent, awaiting response... 200 OK\n",
      "Length: 457609 (447K) [application/x-tar]\n",
      "Saving to: ‘data/cooking.stackexchange.tar.gz.3’\n",
      "\n",
      "cooking.stackexchan 100%[===================>] 446.88K  --.-KB/s    in 0.1s    \n",
      "\n",
      "2020-05-21 22:08:36 (4.43 MB/s) - ‘data/cooking.stackexchange.tar.gz.3’ saved [457609/457609]\n",
      "\n",
      "x cooking.stackexchange.id\n",
      "x cooking.stackexchange.txt\n",
      "x readme.txt\n"
     ]
    }
   ],
   "source": [
    "# download the data and un-tar it under the 'data' folder\n",
    "\n",
    "# -P or --directory-prefix specifies which directory to download the data to\n",
    "!wget https://dl.fbaipublicfiles.com/fasttext/data/cooking.stackexchange.tar.gz -P data\n",
    "# -C specifies the target directory to extract an archive to\n",
    "!tar xvzf data/cooking.stackexchange.tar.gz -C data"
   ]
  },
  {
   "cell_type": "code",
   "execution_count": 4,
   "metadata": {},
   "outputs": [
    {
     "name": "stdout",
     "output_type": "stream",
     "text": [
      "__label__sauce __label__cheese How much does potato starch affect a cheese sauce recipe?\r\n",
      "__label__food-safety __label__acidity Dangerous pathogens capable of growing in acidic environments\r\n",
      "__label__cast-iron __label__stove How do I cover up the white spots on my cast iron stove?\r\n"
     ]
    }
   ],
   "source": [
    "!head -n 3 data/cooking.stackexchange.txt"
   ]
  },
  {
   "cell_type": "code",
   "execution_count": 5,
   "metadata": {},
   "outputs": [
    {
     "name": "stdout",
     "output_type": "stream",
     "text": [
      "train path:  data/train_cooking.stackexchange.txt\n",
      "test path:  data/test_cooking.stackexchange.txt\n"
     ]
    }
   ],
   "source": [
    "# train/test split\n",
    "from fasttext_module.split import train_test_split_file\n",
    "from fasttext_module.utils import prepend_file_name\n",
    "\n",
    "data_dir = 'data'\n",
    "test_size = 0.2\n",
    "input_path = os.path.join(data_dir, 'cooking.stackexchange.txt')\n",
    "input_path_train = prepend_file_name(input_path, 'train')\n",
    "input_path_test = prepend_file_name(input_path, 'test')\n",
    "random_state = 1234\n",
    "encoding = 'utf-8'\n",
    "\n",
    "train_test_split_file(input_path, input_path_train, input_path_test,\n",
    "                      test_size, random_state, encoding)\n",
    "print('train path: ', input_path_train)\n",
    "print('test path: ', input_path_test)"
   ]
  },
  {
   "cell_type": "code",
   "execution_count": 6,
   "metadata": {},
   "outputs": [
    {
     "name": "stdout",
     "output_type": "stream",
     "text": [
      "vocab size:  14496\n",
      "label size:  733\n",
      "example vocab:  ['</s>', 'to', 'a', 'How', 'the']\n",
      "example label:  ['__label__baking', '__label__food-safety', '__label__substitutions', '__label__equipment', '__label__bread']\n"
     ]
    }
   ],
   "source": [
    "# train the fasttext model\n",
    "fasttext_params = {\n",
    "    'input': input_path_train,\n",
    "    'lr': 0.1,\n",
    "    'lrUpdateRate': 1000,\n",
    "    'thread': 8,\n",
    "    'epoch': 15,\n",
    "    'wordNgrams': 1,\n",
    "    'dim': 80,\n",
    "    'loss': 'ova'\n",
    "}\n",
    "model = fasttext.train_supervised(**fasttext_params)\n",
    "\n",
    "print('vocab size: ', len(model.words))\n",
    "print('label size: ', len(model.labels))\n",
    "print('example vocab: ', model.words[:5])\n",
    "print('example label: ', model.labels[:5])\n",
    "\n",
    "model_checkpoint = os.path.join('model', 'model.fasttext')\n",
    "model.save_model(model_checkpoint)"
   ]
  },
  {
   "cell_type": "code",
   "execution_count": 7,
   "metadata": {},
   "outputs": [
    {
     "name": "stdout",
     "output_type": "stream",
     "text": [
      "output matrix shape:  (733, 80)\n"
     ]
    },
    {
     "data": {
      "text/plain": [
       "array([[ 0.7556045 , -0.0944011 , -0.21562839, ..., -2.333261  ,\n",
       "        -0.8223824 ,  1.4007478 ],\n",
       "       [ 0.8890684 , -0.35554123, -2.706871  , ...,  1.2450662 ,\n",
       "         0.05990526, -2.0757916 ],\n",
       "       [ 0.40264592, -1.7393613 ,  1.3168088 , ..., -3.8272636 ,\n",
       "         1.9295563 ,  1.6614803 ],\n",
       "       ...,\n",
       "       [ 1.0975604 , -0.8535318 ,  0.24365285, ..., -0.5385103 ,\n",
       "        -0.5356003 ,  0.6660056 ],\n",
       "       [ 1.1728309 , -0.92786735,  0.30251437, ..., -0.60272974,\n",
       "        -0.5144258 ,  0.7182006 ],\n",
       "       [ 1.1421866 , -0.89937526,  0.29751846, ..., -0.6316411 ,\n",
       "        -0.570792  ,  0.7465125 ]], dtype=float32)"
      ]
     },
     "execution_count": 7,
     "metadata": {},
     "output_type": "execute_result"
    }
   ],
   "source": [
    "# model.get_input_matrix().shape\n",
    "print('output matrix shape: ', model.get_output_matrix().shape)\n",
    "model.get_output_matrix()"
   ]
  },
  {
   "cell_type": "markdown",
   "metadata": {},
   "source": [
    "## Product Quantization from Scratch"
   ]
  },
  {
   "cell_type": "markdown",
   "metadata": {},
   "source": [
    "The main goal behind compression is that after training our model, the model size is too large for deployment. e.g. when deploying on edge devices where we have limited memory at hand or would require using a bigger machine which ultimately incur more infrastructure costs. \n",
    "\n",
    "In this situation, **product quantization** is a compression technique for compressing embeddings. It has been shown that it significantly reduce the size of the model without hurting the performance by much. And without further a due, we'll dive right into how this technique works."
   ]
  },
  {
   "cell_type": "markdown",
   "metadata": {},
   "source": [
    "### Learning Code Book"
   ]
  },
  {
   "cell_type": "markdown",
   "metadata": {},
   "source": [
    "Our first step is to split the a $d$ dimensional vectors/matrix $\\mathbf{X}$ into $m$ distinct subvectors $u_j$, $1 \\leq j \\leq m$ of dimension $d^* = d / m$, where $d$ should ideally be multiple of $m$.\n",
    "\n",
    "As an example, say our original embedding has a dimension of 1000x80, we can split it into 4 subvectors, each having a dimension of 1000x20.\n",
    "\n",
    "<img src=\"img/matrix_to_subvectors.png\" width=\"40%\" height=\"40%\">\n",
    "\n",
    "Next, we'll run a k-means clustering algorithm on each subvectors. Upon computing the cluster centroid for each of $k$ cluster and $m$ subvectors, we would have on our hand, $m$ cluster centroids, each of size $k \\times d^*$. In other words, reducing the dimension from $n \\times d$ into $m \\times k \\times d^* = k \\times d$\n",
    "\n",
    "<img src=\"img/subvectors_kmeans.png\" width=\"50%\" height=\"50%\">\n",
    "\n",
    "So we'll apply k-means on our 1000x20 subvectors. If $k$ is 10, we would end up having 10 cluster centroids each of size 20. Since we have 4 subvectors, we would have 4 of those.\n",
    "\n",
    "Information theory nomenclature is often times used to explain these concepts. Where:\n",
    "\n",
    "- The cluster centroids is referred to as **codebook**.\n",
    "- The cluster index is called a **code**, a **reproduction value**, a **reconstruction value**.\n",
    "\n",
    "We'll be using [scipy vector quantization module's k-means clustering](https://docs.scipy.org/doc/scipy/reference/cluster.vq.html) implementation in the example code."
   ]
  },
  {
   "cell_type": "code",
   "execution_count": 8,
   "metadata": {},
   "outputs": [],
   "source": [
    "from scipy.cluster.vq import kmeans2, vq\n",
    "\n",
    "\n",
    "def compute_code_books(vectors, sub_size=2, n_cluster=128, n_iter=20, minit='points', seed=123):\n",
    "    n_rows, n_cols = vectors.shape\n",
    "    n_sub_cols = n_cols // sub_size\n",
    "\n",
    "    np.random.seed(seed)\n",
    "    code_books = np.zeros((sub_size, n_cluster, n_sub_cols), dtype=np.float32)\n",
    "    for subspace in range(sub_size):\n",
    "        sub_vectors = vectors[:, subspace * n_sub_cols:(subspace + 1) * n_sub_cols]\n",
    "        centroid, label = kmeans2(sub_vectors, n_cluster, n_iter, minit=minit)\n",
    "        code_books[subspace] = centroid\n",
    "\n",
    "    return code_books"
   ]
  },
  {
   "cell_type": "code",
   "execution_count": 9,
   "metadata": {},
   "outputs": [
    {
     "name": "stdout",
     "output_type": "stream",
     "text": [
      "code book size:  (2, 64, 40)\n"
     ]
    }
   ],
   "source": [
    "sub_size = 2  # m\n",
    "n_cluster = 64  # k\n",
    "\n",
    "# learning the cluster centroids / code books for our output matrix/embedding\n",
    "code_books = compute_code_books(model.get_output_matrix(), sub_size, n_cluster)\n",
    "print('code book size: ', code_books.shape)"
   ]
  },
  {
   "cell_type": "markdown",
   "metadata": {},
   "source": [
    "### Encode"
   ]
  },
  {
   "cell_type": "markdown",
   "metadata": {},
   "source": [
    "The cluster centroids for each of the subvectors represents the average/common pattern of each subvectors, and what we're going to do is to replace the original vector with the cluster centroid of each subvectors. The effect of doing so is instead of storing the original floating values for every record in our dataset, we'll be replacing it with the closest cluster centroid id within each subvectors.\n",
    "\n",
    "i.e. At the end, we'll be \"compressing\" our original vector of size $n \\times d$ into a size of $n \\times m$\n",
    "\n",
    "<img src=\"img/product_quantization_encode.png\" width=\"70%\" height=\"70%\">"
   ]
  },
  {
   "cell_type": "code",
   "execution_count": 10,
   "metadata": {},
   "outputs": [],
   "source": [
    "def encode(vectors, code_books):\n",
    "    n_rows, n_cols = vectors.shape\n",
    "    sub_size = code_books.shape[0]\n",
    "    n_sub_cols = n_cols // sub_size\n",
    "\n",
    "    codes = np.zeros((n_rows, sub_size), dtype=np.int32)\n",
    "    for subspace in range(sub_size):\n",
    "        sub_vectors = vectors[:, subspace * n_sub_cols:(subspace + 1) * n_sub_cols]\n",
    "        code, dist = vq(sub_vectors, code_books[subspace])\n",
    "        codes[:, subspace] = code\n",
    "\n",
    "    return codes"
   ]
  },
  {
   "cell_type": "code",
   "execution_count": 11,
   "metadata": {},
   "outputs": [
    {
     "name": "stdout",
     "output_type": "stream",
     "text": [
      "encoded vector codes size:  (733, 2)\n"
     ]
    },
    {
     "data": {
      "text/plain": [
       "array([[34, 61],\n",
       "       [29, 19],\n",
       "       [ 7,  4],\n",
       "       ...,\n",
       "       [42, 52],\n",
       "       [42, 47],\n",
       "       [42, 52]], dtype=int32)"
      ]
     },
     "execution_count": 11,
     "metadata": {},
     "output_type": "execute_result"
    }
   ],
   "source": [
    "# our original embedding now becomes the cluster centroid for each subspace\n",
    "vector_codes = encode(model.get_output_matrix(), code_books)\n",
    "print('encoded vector codes size: ', vector_codes.shape)\n",
    "vector_codes"
   ]
  },
  {
   "cell_type": "markdown",
   "metadata": {},
   "source": [
    "We can calculate the potential size/memory savings if we were to go from storing the original vector into storing the encoded codes and the code book."
   ]
  },
  {
   "cell_type": "code",
   "execution_count": 12,
   "metadata": {},
   "outputs": [
    {
     "data": {
      "text/plain": [
       "0.11231241473396998"
      ]
     },
     "execution_count": 12,
     "metadata": {},
     "output_type": "execute_result"
    }
   ],
   "source": [
    "(vector_codes.nbytes + code_books.nbytes) / model.get_output_matrix().nbytes"
   ]
  },
  {
   "cell_type": "markdown",
   "metadata": {},
   "source": [
    "Instead of directly compressing the original embedding, we can also learn the codebooks and compress all new incoming embeddings on the fly."
   ]
  },
  {
   "cell_type": "markdown",
   "metadata": {},
   "source": [
    "## Computing Query Distance"
   ]
  },
  {
   "cell_type": "markdown",
   "metadata": {},
   "source": [
    "We can also compute nearest neighbors using the compressed vectors."
   ]
  },
  {
   "cell_type": "code",
   "execution_count": 13,
   "metadata": {},
   "outputs": [
    {
     "name": "stdout",
     "output_type": "stream",
     "text": [
      "__label__baking\n"
     ]
    },
    {
     "data": {
      "text/plain": [
       "(80,)"
      ]
     },
     "execution_count": 13,
     "metadata": {},
     "output_type": "execute_result"
    }
   ],
   "source": [
    "# we'll get one of the labels to find its nearest neighbors \n",
    "label_id = 0\n",
    "print(model.labels[label_id])\n",
    "\n",
    "query = model.get_output_matrix()[label_id]\n",
    "query.shape"
   ]
  },
  {
   "cell_type": "code",
   "execution_count": 14,
   "metadata": {},
   "outputs": [
    {
     "data": {
      "text/plain": [
       "(2, 64, 40)"
      ]
     },
     "execution_count": 14,
     "metadata": {},
     "output_type": "execute_result"
    }
   ],
   "source": [
    "# printing out the shape of the code book to hopefully make it easier\n",
    "code_books.shape"
   ]
  },
  {
   "cell_type": "markdown",
   "metadata": {},
   "source": [
    "To do so, we'll be computing the distance between each subspace of the query with the cluster centroid of each subspace, giving us a $m \\times k$ distance table, where each one denotes the squared Euclidean distance between the $m_{th}$ subvector of the query and the $k_{th}$ code/cluster centroid for that $m_{th}$ subvector."
   ]
  },
  {
   "cell_type": "code",
   "execution_count": 15,
   "metadata": {},
   "outputs": [],
   "source": [
    "def query_dist_table(query, code_books):\n",
    "    sub_size, n_cluster, n_sub_cols = code_books.shape\n",
    "\n",
    "    dist_table = np.zeros((sub_size, n_cluster))\n",
    "    for subspace in range(sub_size):\n",
    "        sub_query = query[subspace * n_sub_cols:(subspace + 1) * n_sub_cols]\n",
    "\n",
    "        diff = code_books[subspace] - sub_query.reshape(1, -1)\n",
    "        diff = np.sum(diff ** 2, axis=1)\n",
    "        dist_table[subspace, :] = diff\n",
    "\n",
    "    return dist_table"
   ]
  },
  {
   "cell_type": "code",
   "execution_count": 16,
   "metadata": {},
   "outputs": [
    {
     "name": "stdout",
     "output_type": "stream",
     "text": [
      "(2, 64)\n"
     ]
    },
    {
     "data": {
      "text/plain": [
       "array([[ 99.99280548,  67.29737854, 127.93981934, 110.84047699,\n",
       "        128.75978088],\n",
       "       [108.44404602, 209.63134766,  87.0813446 , 129.2036438 ,\n",
       "        158.81433105]])"
      ]
     },
     "execution_count": 16,
     "metadata": {},
     "output_type": "execute_result"
    }
   ],
   "source": [
    "dist_table = query_dist_table(query, code_books)\n",
    "print(dist_table.shape)\n",
    "dist_table[:, :5]"
   ]
  },
  {
   "cell_type": "markdown",
   "metadata": {},
   "source": [
    "Then assuming for original vector is already encoded in advance, we can lookup the distances for each cluster centroid and add them up."
   ]
  },
  {
   "cell_type": "code",
   "execution_count": 17,
   "metadata": {},
   "outputs": [
    {
     "data": {
      "text/plain": [
       "array([ 42.44870567, 408.77243042, 256.50379944, 247.31576538,\n",
       "       172.66897583])"
      ]
     },
     "execution_count": 17,
     "metadata": {},
     "output_type": "execute_result"
    }
   ],
   "source": [
    "# lookup the distance\n",
    "dists = np.sum(dist_table[range(sub_size), vector_codes], axis=1)\n",
    "dists[:5]"
   ]
  },
  {
   "cell_type": "code",
   "execution_count": 18,
   "metadata": {},
   "outputs": [
    {
     "data": {
      "text/plain": [
       "array([ 42.448708, 408.77243 , 256.50378 , 247.31577 , 172.66898 ],\n",
       "      dtype=float32)"
      ]
     },
     "execution_count": 18,
     "metadata": {},
     "output_type": "execute_result"
    }
   ],
   "source": [
    "# the numpy indexing trick is equivalent to the following loop approach\n",
    "n_rows = vector_codes.shape[0]\n",
    "dists = np.zeros(n_rows).astype(np.float32)\n",
    "for n in range(n_rows):\n",
    "    for m in range(sub_size):\n",
    "        dists[n] += dist_table[m][vector_codes[n][m]]\n",
    "\n",
    "dists[:5]"
   ]
  },
  {
   "cell_type": "code",
   "execution_count": 19,
   "metadata": {},
   "outputs": [
    {
     "data": {
      "text/plain": [
       "['__label__baking',\n",
       " '__label__cake',\n",
       " '__label__baking-powder',\n",
       " '__label__baking-soda',\n",
       " '__label__cookies']"
      ]
     },
     "execution_count": 19,
     "metadata": {},
     "output_type": "execute_result"
    }
   ],
   "source": [
    "# find the nearest neighbors and \"translate\" it to the original labels\n",
    "k = 5\n",
    "nearest = np.argsort(dists)[:k]\n",
    "[model.labels[label] for label in nearest]"
   ]
  },
  {
   "cell_type": "markdown",
   "metadata": {},
   "source": [
    "The approach illustrated here is more of a naive approach as it still involves calculating the distances to all the vectors, which can still be inefficient for large $n$ (number of data points). We won't be discussing how to speed up the nearest neighborhood search process for product quantization as this documentation is more focused on the compression aspect of it."
   ]
  },
  {
   "cell_type": "markdown",
   "metadata": {},
   "source": [
    "## Fasttext Product Quantization"
   ]
  },
  {
   "cell_type": "markdown",
   "metadata": {},
   "source": [
    "Fasttext comes with built-in capabilities for doing model compression using product quantization. We'll experiment with different options/parameter and measure the model performance and model size. i.e. compression ratio v.s. model performance dip.\n",
    "\n",
    "The next couple of code chunks defines the functions to measure the model performance and model file size."
   ]
  },
  {
   "cell_type": "code",
   "execution_count": 20,
   "metadata": {},
   "outputs": [],
   "source": [
    "from typing import Dict\n",
    "\n",
    "\n",
    "def score(input_path_train: str,\n",
    "          input_path_test: str,\n",
    "          model: fasttext.FastText._FastText,\n",
    "          k: int,\n",
    "          round_digits: int=3) -> Dict[str, float]:\n",
    "\n",
    "    file_path_dict = {\n",
    "        'train': input_path_train,\n",
    "        'test': input_path_test\n",
    "    }\n",
    "\n",
    "    result = {}\n",
    "    for group, file_path in file_path_dict.items():\n",
    "        num_records, precision_at_k, recall_at_k = model.test(file_path, k)\n",
    "        f1_at_k = 2 * (precision_at_k * recall_at_k) / (precision_at_k + recall_at_k)\n",
    "        metric = {\n",
    "            f'{group}_precision@{k}': round(precision_at_k, round_digits),\n",
    "            f'{group}_recall@{k}': round(recall_at_k, round_digits),\n",
    "            f'{group}_f1@{k}': round(f1_at_k, round_digits)\n",
    "        }\n",
    "        result.update(metric)\n",
    "\n",
    "    return result"
   ]
  },
  {
   "cell_type": "code",
   "execution_count": 21,
   "metadata": {},
   "outputs": [
    {
     "data": {
      "text/plain": [
       "{'train_precision@1': 0.638,\n",
       " 'train_recall@1': 0.277,\n",
       " 'train_f1@1': 0.386,\n",
       " 'test_precision@1': 0.489,\n",
       " 'test_recall@1': 0.211,\n",
       " 'test_f1@1': 0.295}"
      ]
     },
     "execution_count": 21,
     "metadata": {},
     "output_type": "execute_result"
    }
   ],
   "source": [
    "k = 1\n",
    "result = score(input_path_train, input_path_test, model, k)\n",
    "result"
   ]
  },
  {
   "cell_type": "code",
   "execution_count": 22,
   "metadata": {},
   "outputs": [],
   "source": [
    "def compute_file_size(file_path: str) -> str:\n",
    "    \"\"\"\n",
    "    Calculate the file size and format it into a human readable string.\n",
    "\n",
    "    References\n",
    "    ----------\n",
    "    https://stackoverflow.com/questions/2104080/how-can-i-check-file-size-in-python\n",
    "    \"\"\"\n",
    "    file_size = compute_raw_file_size(file_path)\n",
    "    file_size_str = convert_bytes(file_size)\n",
    "    return file_size_str\n",
    "\n",
    "\n",
    "def compute_raw_file_size(file_path: str) -> int:\n",
    "    \"\"\"Calculate the file size in bytes.\"\"\"\n",
    "    file_info = os.stat(file_path)\n",
    "    return file_info.st_size\n",
    "\n",
    "\n",
    "def convert_bytes(num: int) -> str:\n",
    "    \"\"\"Convert bytes into more human readable MB, GB, etc.\"\"\"\n",
    "    for unit in ['bytes', 'KB', 'MB', 'GB', 'TB']:\n",
    "        if num < 1024.0:\n",
    "            return \"%3.1f %s\" % (num, unit)\n",
    "        num /= 1024.0"
   ]
  },
  {
   "cell_type": "code",
   "execution_count": 23,
   "metadata": {},
   "outputs": [
    {
     "data": {
      "text/plain": [
       "'4.9 MB'"
      ]
     },
     "execution_count": 23,
     "metadata": {},
     "output_type": "execute_result"
    }
   ],
   "source": [
    "compute_file_size(model_checkpoint)"
   ]
  },
  {
   "cell_type": "markdown",
   "metadata": {},
   "source": [
    "For this part of the experiment, we'll tweak the parameter, dimension of subvector, `dsub`. Remember that this is one of main parameter that controls the tradeoff between the compression ratio and amount of distortion (deviation from the original vector)."
   ]
  },
  {
   "cell_type": "code",
   "execution_count": 24,
   "metadata": {},
   "outputs": [
    {
     "name": "stderr",
     "output_type": "stream",
     "text": [
      "\n",
      "\n",
      "\n",
      "\n"
     ]
    },
    {
     "data": {
      "text/html": [
       "<div>\n",
       "<style scoped>\n",
       "    .dataframe tbody tr th:only-of-type {\n",
       "        vertical-align: middle;\n",
       "    }\n",
       "\n",
       "    .dataframe tbody tr th {\n",
       "        vertical-align: top;\n",
       "    }\n",
       "\n",
       "    .dataframe thead th {\n",
       "        text-align: right;\n",
       "    }\n",
       "</style>\n",
       "<table border=\"1\" class=\"dataframe\">\n",
       "  <thead>\n",
       "    <tr style=\"text-align: right;\">\n",
       "      <th></th>\n",
       "      <th>train_precision@1</th>\n",
       "      <th>train_recall@1</th>\n",
       "      <th>train_f1@1</th>\n",
       "      <th>test_precision@1</th>\n",
       "      <th>test_recall@1</th>\n",
       "      <th>test_f1@1</th>\n",
       "      <th>dsub</th>\n",
       "      <th>file_size</th>\n",
       "    </tr>\n",
       "  </thead>\n",
       "  <tbody>\n",
       "    <tr>\n",
       "      <th>0</th>\n",
       "      <td>0.638</td>\n",
       "      <td>0.277</td>\n",
       "      <td>0.386</td>\n",
       "      <td>0.489</td>\n",
       "      <td>0.211</td>\n",
       "      <td>0.295</td>\n",
       "      <td>-1</td>\n",
       "      <td>5143093</td>\n",
       "    </tr>\n",
       "    <tr>\n",
       "      <th>1</th>\n",
       "      <td>0.638</td>\n",
       "      <td>0.277</td>\n",
       "      <td>0.386</td>\n",
       "      <td>0.487</td>\n",
       "      <td>0.210</td>\n",
       "      <td>0.294</td>\n",
       "      <td>2</td>\n",
       "      <td>1181690</td>\n",
       "    </tr>\n",
       "    <tr>\n",
       "      <th>2</th>\n",
       "      <td>0.630</td>\n",
       "      <td>0.274</td>\n",
       "      <td>0.381</td>\n",
       "      <td>0.483</td>\n",
       "      <td>0.209</td>\n",
       "      <td>0.291</td>\n",
       "      <td>4</td>\n",
       "      <td>891770</td>\n",
       "    </tr>\n",
       "    <tr>\n",
       "      <th>3</th>\n",
       "      <td>0.587</td>\n",
       "      <td>0.255</td>\n",
       "      <td>0.355</td>\n",
       "      <td>0.470</td>\n",
       "      <td>0.203</td>\n",
       "      <td>0.283</td>\n",
       "      <td>8</td>\n",
       "      <td>746810</td>\n",
       "    </tr>\n",
       "  </tbody>\n",
       "</table>\n",
       "</div>"
      ],
      "text/plain": [
       "   train_precision@1  train_recall@1  train_f1@1  test_precision@1  \\\n",
       "0              0.638           0.277       0.386             0.489   \n",
       "1              0.638           0.277       0.386             0.487   \n",
       "2              0.630           0.274       0.381             0.483   \n",
       "3              0.587           0.255       0.355             0.470   \n",
       "\n",
       "   test_recall@1  test_f1@1  dsub  file_size  \n",
       "0          0.211      0.295    -1    5143093  \n",
       "1          0.210      0.294     2    1181690  \n",
       "2          0.209      0.291     4     891770  \n",
       "3          0.203      0.283     8     746810  "
      ]
     },
     "execution_count": 24,
     "metadata": {},
     "output_type": "execute_result"
    }
   ],
   "source": [
    "dsubs = [-1, 2, 4, 8]\n",
    "\n",
    "results = []\n",
    "for dsub in dsubs:\n",
    "    # ensure we are always loading from the original model,\n",
    "    # i.e. do not over-ride the model_checkpoint variable\n",
    "    fasttext_model = fasttext.load_model(model_checkpoint)\n",
    "    if dsub > 0:\n",
    "        dir_name = os.path.dirname(model_checkpoint)\n",
    "        model_path = os.path.join(dir_name, f'model_quantized_dsub{dsub}.fasttext')\n",
    "\n",
    "        # qnorm, normalized the vector and quantize it\n",
    "        fasttext_model.quantize(dsub=dsub, qnorm=True)\n",
    "        fasttext_model.save_model(model_path)\n",
    "    else:\n",
    "        model_path = model_checkpoint\n",
    "\n",
    "    result = score(input_path_train, input_path_test, fasttext_model, k)\n",
    "    result['dsub'] = dsub\n",
    "    result['file_size'] = compute_raw_file_size(model_path)\n",
    "    results.append(result)\n",
    "    \n",
    "df_results = pd.DataFrame.from_dict(results)\n",
    "df_results"
   ]
  },
  {
   "cell_type": "markdown",
   "metadata": {},
   "source": [
    "We can visualize the table results. Our main observation is that setting `dsub` to 2 seems to give the most memory reduction while preserving most of the model's performance."
   ]
  },
  {
   "cell_type": "code",
   "execution_count": 25,
   "metadata": {},
   "outputs": [
    {
     "data": {
      "image/png": "[encoded data removed]",
      "text/plain": [
       "<Figure size 1080x432 with 2 Axes>"
      ]
     },
     "metadata": {
      "image/png": {
       "height": 418,
       "width": 928
      },
      "needs_background": "light"
     },
     "output_type": "display_data"
    }
   ],
   "source": [
    "# change default style figure and font size\n",
    "plt.rcParams['figure.figsize'] = 15, 6\n",
    "plt.rcParams['font.size'] = 12\n",
    "\n",
    "fig, (ax1, ax2) = plt.subplots(1, 2)\n",
    "fig.suptitle('Fasttext Quantization Experiments')\n",
    "\n",
    "ax1.plot(df_results['dsub'], df_results['file_size'])\n",
    "ax1.set_title('dsub versus file size')\n",
    "ax1.set_xlabel('dsub')\n",
    "ax1.set_ylabel('file size (bytes)')\n",
    "\n",
    "ax2.plot(df_results['dsub'], df_results['test_precision@1'])\n",
    "ax2.set_title('dsub versus test precision@1')\n",
    "ax2.set_xlabel('dsub')\n",
    "ax2.set_ylabel('precision@1')\n",
    "\n",
    "plt.show()"
   ]
  },
  {
   "cell_type": "markdown",
   "metadata": {},
   "source": [
    "The `.quantize` method also provide other options that we did not use here such as:\n",
    "\n",
    "- Whether to quantize the output matrix, `qout`\n",
    "- Whether to retrain the model's vector after doing the quantization, `retrain`.\n",
    "\n",
    "Here we also list down the other compression tidbits from the original paper.\n",
    "\n",
    "- **Quantize the Norm** fasttext has a parameter `qnorm` to normalize of the vector and also quantize that norm. This often times leads to a lesser drop in accuracy.\n",
    "- **Retrain after Quantization:** This suggests a bottom-up learning strategy where we first quantize the input matrix, then retrain and quantize the output matrix (the input matrix being frozen).\n",
    "- **Vocabulary Pruning:** Upon training the model, we can remove features that do not play a large role in the model. For each document, we verify if it is already covered by a retained feature and, if not, we add the feature with the highest norm to our set of retained features. If the number of features is below some user specified threshold, we add the features with the highest norm that have not yet been picked.\n",
    "- **Choice of subvectors:** We observe in practice that using $k = d/2$ subvectors, i.e., half of the components of the embeddings, works well in practice. Using less subquantizers significantly decreases the performance for a small memory gain."
   ]
  },
  {
   "cell_type": "markdown",
   "metadata": {},
   "source": [
    "## Product Quantization Recap"
   ]
  },
  {
   "cell_type": "markdown",
   "metadata": {},
   "source": [
    "To wrap up, we'll do a recap of product quantization, this time using a bit more notation.\n",
    "\n",
    "The idea behind product quantization is to compress our original matrix into compact codes, where the comparison of the compact codes approximates the comparison in the original space. In the process of doing so, we are essentially retaining the most useful information within our matrix while discarding the less-relevant ones.\n",
    "\n",
    "We have an original matrix $\\mathbf{X} = [\\mathbf{x}^1, \\mathbf{x}^2, ..., \\mathbf{x}^d]$, where $\\mathbf{x}^i \\in \\mathbb{R}^n$. The input matrix will first be split into $m$ distinct sub-matrix, $\\mathbf{U}^j$, $1 \\leq j \\leq m$, each of dimension $d^* = d / m$, where $d$ should ideally be multiple of $m$.\n",
    "\n",
    "\\begin{align}\n",
    "\\underbrace{\\mathbf{x}^1, ..., \\mathbf{x}^{d^*}}_{\\mathbf{U}^1}, ..., \\underbrace{\\mathbf{x}^{d - d^* + 1}, ..., \\mathbf{x}^{d}}_{\\mathbf{U}^m}\n",
    "\\end{align}\n",
    "\n",
    "Then a product quantizer function, $q(\\cdot)$, is defined as a concatenation of sub-quantizer.\n",
    "\n",
    "\\begin{align}\n",
    "q(\\mathbf{X}) = \\big[q^1(\\mathbf{U}^1), q^2(\\mathbf{U}^2), ..., q^M(\\mathbf{U}^m)\\big]\n",
    "\\end{align}\n",
    "\n",
    "Where each sub-quantizer, $q^j$, is usually a low complexity quantizer/clustering algorithm, such as k-means. In other words, each sub-quantizer learns a sub-codebook/sub-cluster centroids $C^j$ comprises of $k$ centroids each of size $d^*$. Then the quantizer would map an input into its respective code/centroid under each sub-matrix and the final representation would be the concatenation of $m$ centroids.\n",
    "\n",
    "\\begin{align}\n",
    "\\mathbf{c} = [\\mathbf{c}^1, \\mathbf{c}^2, ..., \\mathbf{c}^m] \\in C = C^1 \\times C^2, ..., C^m\n",
    "\\end{align}\n",
    "\n",
    "Typically, the number of cluster centroids, $k$, is set to 256 so that each code/centroid can be represented by 8 bits."
   ]
  },
  {
   "cell_type": "markdown",
   "metadata": {},
   "source": [
    "# Reference"
   ]
  },
  {
   "cell_type": "markdown",
   "metadata": {},
   "source": [
    "- [Github: Nano Product Quantization (nanopq)](https://github.com/matsui528/nanopq)\n",
    "- [Blog: Product Quantizers for k-NN Tutorial Part 1](http://mccormickml.com/2017/10/13/product-quantizer-tutorial-part-1)\n",
    "- [Paper: A. Joulin, E. Grave, P. Bojanowski, M. Douze, H. Jegou, T. Mikolov - FastText.zip: Compressing text classification models (2016)](https://arxiv.org/abs/1612.03651)\n",
    "- [Paper: H. Jegou, M. Douze, and C. Schmid. - Product quantization for nearest neighbor search (2011)](https://lear.inrialpes.fr/pubs/2011/JDS11/jegou_searching_with_quantization.pdf)"
   ]
  }
 ],
 "metadata": {
  "kernelspec": {
   "display_name": "Python 3",
   "language": "python",
   "name": "python3"
  },
  "language_info": {
   "codemirror_mode": {
    "name": "ipython",
    "version": 3
   },
   "file_extension": ".py",
   "mimetype": "text/x-python",
   "name": "python",
   "nbconvert_exporter": "python",
   "pygments_lexer": "ipython3",
   "version": "3.6.4"
  },
  "toc": {
   "nav_menu": {},
   "number_sections": true,
   "sideBar": true,
   "skip_h1_title": false,
   "title_cell": "Table of Contents",
   "title_sidebar": "Contents",
   "toc_cell": true,
   "toc_position": {
    "height": "calc(100% - 180px)",
    "left": "10px",
    "top": "150px",
    "width": "282.391px"
   },
   "toc_section_display": true,
   "toc_window_display": true
  },
  "varInspector": {
   "cols": {
    "lenName": 16,
    "lenType": 16,
    "lenVar": 40
   },
   "kernels_config": {
    "python": {
     "delete_cmd_postfix": "",
     "delete_cmd_prefix": "del ",
     "library": "var_list.py",
     "varRefreshCmd": "print(var_dic_list())"
    },
    "r": {
     "delete_cmd_postfix": ") ",
     "delete_cmd_prefix": "rm(",
     "library": "var_list.r",
     "varRefreshCmd": "cat(var_dic_list()) "
    }
   },
   "types_to_exclude": [
    "module",
    "function",
    "builtin_function_or_method",
    "instance",
    "_Feature"
   ],
   "window_display": false
  }
 },
 "nbformat": 4,
 "nbformat_minor": 2
}
