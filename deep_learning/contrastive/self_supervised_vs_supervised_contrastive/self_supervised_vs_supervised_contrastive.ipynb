{
 "cells": [
  {
   "cell_type": "code",
   "execution_count": 1,
   "id": "ac985d0a",
   "metadata": {
    "tags": []
   },
   "outputs": [
    {
     "data": {
      "text/html": [
       "\n",
       "<style>\n",
       "    html {\n",
       "        font-size: 18px !important;\n",
       "    }\n",
       "\n",
       "    body {\n",
       "        background-color: #FFF !important;\n",
       "        font-weight: 1rem;\n",
       "        font-family: 'Source Sans Pro', \"Helvetica Neue\", Helvetica, Arial, sans-serif;\n",
       "    }\n",
       "\n",
       "    body .notebook-app {\n",
       "        background-color: #FFF !important;\n",
       "    }\n",
       "\n",
       "    #header {\n",
       "        box-shadow: none !important;\n",
       "    }\n",
       "\n",
       "    #notebook {\n",
       "        padding-top: 0px;\n",
       "    }\n",
       "\n",
       "    #notebook-container {\n",
       "        box-shadow: none;\n",
       "        -webkit-box-shadow: none;\n",
       "        padding: 10px;\n",
       "    }\n",
       "\n",
       "    div.cell {\n",
       "        width: 1000px;\n",
       "        margin-left: 0% !important;\n",
       "        margin-right: auto;\n",
       "    }\n",
       "\n",
       "    div.cell.selected {\n",
       "        border: 1px dashed #CCCCCC;\n",
       "    }\n",
       "\n",
       "    .edit_mode div.cell.selected {\n",
       "        border: 1px dashed #828282;\n",
       "    }\n",
       "\n",
       "    div.output_wrapper {\n",
       "        margin-top: 8px;\n",
       "    }\n",
       "\n",
       "    a {\n",
       "        color: #383838;\n",
       "    }\n",
       "\n",
       "    code,\n",
       "    kbd,\n",
       "    pre,\n",
       "    samp {\n",
       "        font-family: 'Menlo', monospace !important;\n",
       "        font-size: 0.75rem !important;\n",
       "    }\n",
       "\n",
       "    h1 {\n",
       "        font-size: 2rem !important;\n",
       "        font-weight: 500 !important;\n",
       "        letter-spacing: 3px !important;\n",
       "        text-transform: uppercase !important;\n",
       "    }\n",
       "\n",
       "    h2 {\n",
       "        font-size: 1.8rem !important;\n",
       "        font-weight: 400 !important;\n",
       "        letter-spacing: 3px !important;\n",
       "        text-transform: none !important;\n",
       "    }\n",
       "\n",
       "    h3 {\n",
       "        font-size: 1.5rem !important;\n",
       "        font-weight: 400 !important;\n",
       "        font-style: italic !important;\n",
       "        display: block !important;\n",
       "    }\n",
       "\n",
       "    h4,\n",
       "    h5,\n",
       "    h6 {\n",
       "        font-size: 1rem !important;\n",
       "        font-weight: 400 !important;\n",
       "        display: block !important;\n",
       "    }\n",
       "\n",
       "    .prompt {\n",
       "        font-family: 'Menlo', monospace !important;\n",
       "        font-size: 0.75rem;\n",
       "        text-align: right;\n",
       "        line-height: 1.21429rem;\n",
       "    }\n",
       "\n",
       "    /* INTRO PAGE */\n",
       "\n",
       "    .toolbar_info,\n",
       "    .list-container {\n",
       "        ;\n",
       "    }\n",
       "    /* NOTEBOOK */\n",
       "\n",
       "    div#header-container {\n",
       "        display: none !important;\n",
       "    }\n",
       "\n",
       "    div#notebook {\n",
       "        border-top: none;\n",
       "        font-size: 1rem;\n",
       "    }\n",
       "\n",
       "    div.input_prompt {\n",
       "        color: #C74483;\n",
       "    }\n",
       "\n",
       "    .code_cell div.input_prompt:after,\n",
       "    div.output_prompt:after {\n",
       "        content: '\\25b6';\n",
       "    }\n",
       "\n",
       "    div.output_prompt {\n",
       "        color: #2B88D9;\n",
       "    }\n",
       "\n",
       "    div.input_area {\n",
       "        border-radius: 0px;\n",
       "        border: 1px solid #d8d8d8;\n",
       "    }\n",
       "\n",
       "    div.output_area pre {\n",
       "        font-weight: normal;\n",
       "    }\n",
       "\n",
       "    div.output_subarea {\n",
       "        font-weight: normal;\n",
       "    }\n",
       "\n",
       "    .rendered_html pre,\n",
       "    .rendered_html table,\n",
       "    .rendered_html th,\n",
       "    .rendered_html tr,\n",
       "    .rendered_html td {\n",
       "        border: 1px #828282 solid;\n",
       "        font-size: 0.75rem;\n",
       "        font-family: 'Menlo', monospace;\n",
       "    }\n",
       "\n",
       "    .rendered_html th,\n",
       "    .rendered_html tr,\n",
       "    .rendered_html td {\n",
       "        padding: 5px 10px;\n",
       "    }\n",
       "\n",
       "    .rendered_html th {\n",
       "        font-weight: normal;\n",
       "        background: #f8f8f8;\n",
       "    }\n",
       "\n",
       "    a:link{\n",
       "       font-weight: bold;\n",
       "       color:#447adb;\n",
       "    }\n",
       "    a:visited{\n",
       "       font-weight: bold;\n",
       "       color: #1d3b84;\n",
       "    }\n",
       "    a:hover{\n",
       "       font-weight: bold;\n",
       "       color: #1d3b84;\n",
       "    }\n",
       "    a:focus{\n",
       "       font-weight: bold;\n",
       "       color:#447adb;\n",
       "    }\n",
       "    a:active{\n",
       "       font-weight: bold;\n",
       "       color:#447adb;\n",
       "    }\n",
       "    .rendered_html :link {\n",
       "       text-decoration: underline; \n",
       "    }\n",
       "\n",
       "    div.output_html {\n",
       "        font-weight: 1rem;\n",
       "        font-family: 'Source Sans Pro', \"Helvetica Neue\", Helvetica, Arial, sans-serif;\n",
       "    }\n",
       "\n",
       "    table.dataframe tr {\n",
       "        border: 1px #CCCCCC;\n",
       "    }\n",
       "\n",
       "    div.cell.selected {\n",
       "        border-radius: 0px;\n",
       "    }\n",
       "\n",
       "    div.cell.edit_mode {\n",
       "        border-radius: 0px;\n",
       "        border: thin solid #CF5804;\n",
       "    }\n",
       "\n",
       "    span.ansiblue {\n",
       "        color: #00A397;\n",
       "    }\n",
       "\n",
       "    span.ansigray {\n",
       "        color: #d8d8d8;\n",
       "    }\n",
       "\n",
       "    span.ansigreen {\n",
       "        color: #688A0A;\n",
       "    }\n",
       "\n",
       "    span.ansipurple {\n",
       "        color: #975DDE;\n",
       "    }\n",
       "\n",
       "    span.ansired {\n",
       "        color: #D43132;\n",
       "    }\n",
       "\n",
       "    span.ansiyellow {\n",
       "        color: #D9AA00;\n",
       "    }\n",
       "\n",
       "    div.output_stderr {\n",
       "        background-color: #D43132;\n",
       "    }\n",
       "\n",
       "    div.output_stderr pre {\n",
       "        color: #e8e8e8;\n",
       "    }\n",
       "\n",
       "    .cm-s-ipython.CodeMirror {\n",
       "        background: #F8F8F8;\n",
       "    }\n",
       "\n",
       "    .cm-s-ipython div.CodeMirror-selected {\n",
       "        background: #e8e8e8 !important;\n",
       "    }\n",
       "\n",
       "    .cm-s-ipython .CodeMirror-gutters {\n",
       "        background: #F8F8F8;\n",
       "        border-right: 0px;\n",
       "    }\n",
       "\n",
       "    .cm-s-ipython .CodeMirror-linenumber {\n",
       "        color: #b8b8b8;\n",
       "    }\n",
       "\n",
       "    .cm-s-ipython .CodeMirror-cursor {\n",
       "        border-left: 1px solid #585858 !important;\n",
       "    }\n",
       "\n",
       "    .cm-s-ipython span.cm-atom {\n",
       "        color: #C74483;\n",
       "    }\n",
       "\n",
       "    .cm-s-ipython span.cm-number {\n",
       "        color: #C74483;\n",
       "    }\n",
       "\n",
       "    .cm-s-ipython span.cm-property,\n",
       "    .cm-s-ipython span.cm-attribute {\n",
       "        color: #688A0A;\n",
       "    }\n",
       "\n",
       "    .cm-s-ipython span.cm-keyword {\n",
       "        font-weight: normal;\n",
       "        color: #D43132;\n",
       "    }\n",
       "\n",
       "    .cm-s-ipython span.cm-string {\n",
       "        color: #D9AA00;\n",
       "    }\n",
       "\n",
       "    .cm-s-ipython span.cm-operator {\n",
       "        font-weight: normal;\n",
       "    }\n",
       "\n",
       "    .cm-s-ipython span.cm-builtin {\n",
       "        color: #2B88D9;\n",
       "    }\n",
       "\n",
       "    .cm-s-ipython span.cm-variable {\n",
       "        color: #00A397;\n",
       "    }\n",
       "\n",
       "    .cm-s-ipython span.cm-variable-2 {\n",
       "        color: #2B88D9;\n",
       "    }\n",
       "\n",
       "    .cm-s-ipython span.cm-def {\n",
       "        color: #00A397;\n",
       "    }\n",
       "\n",
       "    .cm-s-ipython span.cm-error {\n",
       "        background: #FFBDBD;\n",
       "        color: #D43132;\n",
       "    }\n",
       "\n",
       "    .cm-s-ipython span.cm-tag {\n",
       "        color: #D43132;\n",
       "    }\n",
       "\n",
       "    .cm-s-ipython span.cm-link {\n",
       "        color: #975DDE;\n",
       "    }\n",
       "\n",
       "    .cm-s-ipython .CodeMirror-matchingbracket {\n",
       "        text-decoration: underline;\n",
       "         !important;\n",
       "    }\n",
       "</style>\n",
       "\n",
       "<script>\n",
       "    MathJax.Hub.Config({\n",
       "                        TeX: {\n",
       "                           extensions: [\"AMSmath.js\"]\n",
       "                           },\n",
       "                tex2jax: {\n",
       "                    inlineMath: [ ['$','$'], [\"\\\\(\",\"\\\\)\"] ],\n",
       "                    displayMath: [ ['$$','$$'], [\"\\\\[\",\"\\\\]\"] ]\n",
       "                },\n",
       "                displayAlign: 'center', // Change this to 'center' to center equations.\n",
       "                \"HTML-CSS\": {\n",
       "                    scale:100,\n",
       "                        availableFonts: [],\n",
       "                        preferredFont:null,\n",
       "                        webFont: \"TeX\",\n",
       "                    styles: {'.MathJax_Display': {\"margin\": 4}}\n",
       "                }\n",
       "        });\n",
       "</script>"
      ],
      "text/plain": [
       "<IPython.core.display.HTML object>"
      ]
     },
     "execution_count": 1,
     "metadata": {},
     "output_type": "execute_result"
    }
   ],
   "source": [
    "# code for loading the format for the notebook\n",
    "import os\n",
    "\n",
    "# path : store the current path to convert back to it later\n",
    "path = os.getcwd()\n",
    "os.chdir(os.path.join('..', '..', '..', 'notebook_format'))\n",
    "\n",
    "from formats import load_style\n",
    "load_style(css_style='custom2.css', plot_style=False)"
   ]
  },
  {
   "cell_type": "code",
   "execution_count": 1,
   "id": "b8fc58e7",
   "metadata": {},
   "outputs": [
    {
     "name": "stderr",
     "output_type": "stream",
     "text": [
      "/usr/local/lib/python3.8/dist-packages/tqdm/auto.py:22: TqdmWarning: IProgress not found. Please update jupyter and ipywidgets. See https://ipywidgets.readthedocs.io/en/stable/user_install.html\n",
      "  from .autonotebook import tqdm as notebook_tqdm\n"
     ]
    },
    {
     "name": "stdout",
     "output_type": "stream",
     "text": [
      "Author: Ethen\n",
      "\n",
      "Last updated: 2023-07-10\n",
      "\n",
      "Python implementation: CPython\n",
      "Python version       : 3.8.10\n",
      "IPython version      : 8.8.0\n",
      "\n",
      "pytorch_lightning: 2.0.3\n",
      "torchvision      : 0.15.2\n",
      "timm             : 0.9.2\n",
      "matplotlib       : 3.6.3\n",
      "numpy            : 1.23.2\n",
      "torch            : 2.0.1\n",
      "\n"
     ]
    }
   ],
   "source": [
    "os.chdir(path)\n",
    "\n",
    "# 1. magic for inline plot\n",
    "# 2. magic to print version\n",
    "# 3. magic so that the notebook will reload external python modules\n",
    "# 4. magic to enable retina (high resolution) plots\n",
    "# https://gist.github.com/minrk/3301035\n",
    "%matplotlib inline\n",
    "%load_ext watermark\n",
    "%load_ext autoreload\n",
    "%autoreload 2\n",
    "%config InlineBackend.figure_format='retina'\n",
    "\n",
    "import copy\n",
    "import timm\n",
    "import torch\n",
    "import torchvision\n",
    "import numpy as np\n",
    "import torch.nn as nn\n",
    "import torch.optim as optim\n",
    "import matplotlib.pyplot as plt\n",
    "import torch.nn.functional as F\n",
    "import pytorch_lightning as pl\n",
    "from datasets import Dataset\n",
    "from time import perf_counter\n",
    "from dataclasses import dataclass\n",
    "from torch.utils.data import DataLoader\n",
    "from torchvision import transforms, datasets\n",
    "from transformers import DefaultDataCollator\n",
    "from torchmetrics.classification import Accuracy\n",
    "from pytorch_lightning.callbacks import ModelCheckpoint\n",
    "\n",
    "%watermark -a 'Ethen' -d -u -v -iv"
   ]
  },
  {
   "cell_type": "markdown",
   "id": "788829d3",
   "metadata": {},
   "source": [
    "# Self Supervised Versus Supervised Contrastive Learning"
   ]
  },
  {
   "cell_type": "markdown",
   "id": "65e41514",
   "metadata": {},
   "source": [
    "In this document, we'll be exploring both self-supervised and supervised contrastive learning."
   ]
  },
  {
   "cell_type": "code",
   "execution_count": 2,
   "id": "e6014d9b",
   "metadata": {},
   "outputs": [],
   "source": [
    "@dataclass\n",
    "class Config:\n",
    "    device: str = \"cuda\" if torch.cuda.is_available() else \"cpu\"\n",
    "\n",
    "    data_folder: str = \"./data\"\n",
    "\n",
    "    # uses timm for model architecture\n",
    "    model_name: str = \"resnet50\"\n",
    "    pretrained: bool = True\n",
    "    hidden_dim: int = 1024\n",
    "\n",
    "    epochs: int = 20\n",
    "    batch_size: int = 256\n",
    "    num_workers: int = 4\n",
    "    lr: float = 0.0001\n",
    "    weight_decay: float = 0.0001\n",
    "\n",
    "    linear_eval_epochs: int = 10\n",
    "    linear_eval_batch_size: int = 256\n",
    "    linear_eval_num_workers: int = 8\n",
    "    linear_eval_lr: float = 0.0001\n",
    "    linear_eval_weight_decay: float = 0.0001\n",
    "\n",
    "    # note, we purpose-fully disabled the progress bar to prevent flooding our notebook's console\n",
    "    # in normal settings, we can/should definitely turn it on\n",
    "    enable_progress_bar = False\n",
    "\n",
    "    do_train = True\n",
    "    sim_clr_model_checkpoint = \"\"\n",
    "    supervised_contrastive_model_checkpoint = \"\"\n",
    "\n",
    "\n",
    "config = Config()"
   ]
  },
  {
   "cell_type": "markdown",
   "id": "b530f7db",
   "metadata": {},
   "source": [
    "## Self Supervised Contrastive Learning with SIMCLR"
   ]
  },
  {
   "cell_type": "markdown",
   "id": "2cc7b3d2",
   "metadata": {},
   "source": [
    "Self-supervised learning's goal is to address the limitations of supervised learning, which heavily relies on labeled data. Acquiring large amounts of labeled data, and continuously annotating ground truth for new data can become quite expensive. One of the key advantages of self-supervised learning, or pre-training methods has gained significant popularity due to its ability to reduce the reliance on manual labeling. By leveraging abundant unlabeled data, we create proxy tasks derived from the data itself and pre-train our models on these tasks. These proxy tasks effectively transform the unsupervised learning problem into a supervised learning problem. Through pre-training, our models are \"warmed up\" and the expectation is to achieve competitive results on downstream applications by fine-tuning them on a smaller set of labeled data.\n",
    "\n",
    "In this first section, we'll first looking at techniques for self supervised learning in the image field which relies on data augmentation and contrastive learning, called SIMCLR [[3]](https://ai.googleblog.com/2020/04/advancing-self-supervised-and-semi.html) [[5]](https://arxiv.org/abs/2002.05709). SIMCLR's authors propose the following components to learn image representations from un-labeled images.\n",
    "\n",
    "<img src=\"imgs/simclr.png\" width=\"50%\" height=\"50%\">\n",
    "\n",
    "1. Data Augmentation: In absence of label information, positive pairs are constructed by applying data augmentation techniques to the same sample. Specifically, a set of augmentations $\\tau$ is applied twice to the original image, resulting in augmented views $\\tilde{x_i}$, and $\\tilde{x_j}$. While data augmentation has been commonly used in training image representations, it has not been considered as a means to define self-supervised pre-training tasks.\n",
    "2. Backbone Encoder: A backbone or so called base encoder $f(\\cdot)$ generates embedding representations, $h_i$ and $h_j$ from augmented data samples. End user has the flexibility to choose different network architectures or pre-trained models for this purpose.\n",
    "3. Projection Network: A compact feedforward projection head $g(\\cdot)$ maps embeddings $h_i$ to projected representations $z_i$. Empirically, it has been found beneficial to apply the contrastive loss to $z_i$ rather than directly to $h_i$. However, after training is completed, the projection head is discarded, and only $h_i$ is used for downstream tasks.\n",
    "4. Contrastive learning. Given our embedding representation, we'll use InfoNCE style contrastive loss for training our embeddings. We'll explain more as we work our way through this implementation.\n",
    "\n",
    "The next few code chunks, loads the CIFAR100 dataset, implements data augmentation transformation, prints out shapes from a data sample. \n",
    "\n",
    "> When composing multiple data augmentation methods together, the contrastive prediction task becomes harder, however, quality of learned representation also substantially improves. One combination that stood out was random cropping and color distortion."
   ]
  },
  {
   "cell_type": "code",
   "execution_count": 3,
   "id": "3a69aea3",
   "metadata": {},
   "outputs": [],
   "source": [
    "class TwoViewTransform:\n",
    "    \"\"\"Create two crops of the same image\"\"\"\n",
    "\n",
    "    def __init__(self, mean, std):\n",
    "        self.transform = transforms.Compose([\n",
    "            transforms.RandomResizedCrop(size=32, scale=(0.2, 1.)),\n",
    "            transforms.RandomHorizontalFlip(),\n",
    "            transforms.RandomApply([\n",
    "                transforms.ColorJitter(0.4, 0.4, 0.4, 0.1)\n",
    "            ], p=0.8),\n",
    "            transforms.RandomGrayscale(p=0.2),\n",
    "            transforms.ToTensor(),\n",
    "            transforms.Normalize(mean=mean, std=std)\n",
    "        ])\n",
    "\n",
    "    def __call__(self, x):\n",
    "        return [self.transform(x), self.transform(x)]"
   ]
  },
  {
   "cell_type": "code",
   "execution_count": 4,
   "id": "bbb26db7",
   "metadata": {},
   "outputs": [
    {
     "name": "stdout",
     "output_type": "stream",
     "text": [
      "Files already downloaded and verified\n",
      "Dataset size: 50000\n",
      "torch.Size([3, 32, 32])\n",
      "torch.Size([3, 32, 32])\n",
      "19\n"
     ]
    }
   ],
   "source": [
    "two_view_transform = TwoViewTransform(mean=(0.5071, 0.4867, 0.4408), std=(0.2675, 0.2565, 0.2761))\n",
    "dataset_aug_pair_train = datasets.CIFAR100(\n",
    "    root=config.data_folder,\n",
    "    transform=two_view_transform,\n",
    "    train=True,\n",
    "    download=True\n",
    ")\n",
    "print(\"Dataset size:\", len(dataset_aug_pair_train))\n",
    "images, label = dataset_aug_pair_train[0]\n",
    "print(images[0].shape)\n",
    "print(images[1].shape)\n",
    "print(label)"
   ]
  },
  {
   "cell_type": "code",
   "execution_count": 5,
   "id": "52c525a5",
   "metadata": {},
   "outputs": [
    {
     "name": "stdout",
     "output_type": "stream",
     "text": [
      "labels:  tensor([19, 29,  0, 11])\n",
      "labels shape:  torch.Size([4])\n",
      "number of augmented images:  2\n",
      "augmented image shape:  torch.Size([4, 3, 32, 32])\n"
     ]
    }
   ],
   "source": [
    "data_loader_aug_pair_train = DataLoader(\n",
    "    dataset_aug_pair_train,\n",
    "    batch_size=4,\n",
    "    num_workers=4,\n",
    "    pin_memory=True\n",
    ")\n",
    "\n",
    "# we'll use a sample batch to test our model's forward implementation\n",
    "aug_pair_batch = next(iter(data_loader_aug_pair_train))\n",
    "aug_pair_images, aug_pair_labels = aug_pair_batch\n",
    "print(\"labels: \", aug_pair_labels)\n",
    "print(\"labels shape: \", aug_pair_labels.shape)\n",
    "print(\"number of augmented images: \", len(aug_pair_images))\n",
    "print(\"augmented image shape: \", aug_pair_images[0].shape)"
   ]
  },
  {
   "cell_type": "code",
   "execution_count": 6,
   "id": "c94b9569",
   "metadata": {},
   "outputs": [
    {
     "data": {
      "image/png": "[encoded data removed]",
      "text/plain": [
       "<Figure size 1000x500 with 1 Axes>"
      ]
     },
     "metadata": {
      "image/png": {
       "height": 304,
       "width": 794
      }
     },
     "output_type": "display_data"
    }
   ],
   "source": [
    "# visualize some sample augmented images\n",
    "num_images = 6\n",
    "imgs = torch.stack([img for idx in range(num_images) for img in dataset_aug_pair_train[idx][0]], dim=0)\n",
    "img_grid = torchvision.utils.make_grid(imgs, nrow=6, normalize=True, pad_value=0.9)\n",
    "img_grid = img_grid.permute(1, 2, 0)\n",
    "\n",
    "plt.figure(figsize=(10, 5))\n",
    "plt.title(\"Augmented image examples\")\n",
    "plt.imshow(img_grid)\n",
    "plt.axis(\"off\")\n",
    "plt.show()"
   ]
  },
  {
   "cell_type": "markdown",
   "id": "be2446f8",
   "metadata": {},
   "source": [
    "### SIMCLR Model"
   ]
  },
  {
   "cell_type": "markdown",
   "id": "fdb899c1",
   "metadata": {},
   "source": [
    "Given our input data, we'll implement the actual SIMCLR model. For our backbone, we'll be using resnet model family from `timm`, this is meant for quick experiment, feel free to adjust this and swap it with more powerful image/vision backbone encoder.\n",
    "\n",
    "As for our contrastive loss, the loss function for a given positive pair of examples $(i, j)$ is defined as:\n",
    "\n",
    "\\begin{align}\n",
    "-\\sum_{i \\in I} \\log \\frac{\\exp \\left(\\operatorname{sim}\\left(\\boldsymbol{z}_i, \\boldsymbol{z}_j\\right) / \\tau\\right)}{\\sum_{k=1}^{2 N} \\mathbb{1}_{[k \\neq i]} \\exp \\left(\\operatorname{sim}\\left(\\boldsymbol{z}_i, \\boldsymbol{z}_k\\right) / \\tau\\right)}\n",
    "\\end{align}\n",
    "\n",
    "- Given a mini-batch of $N$ examples, we have two augmented views derived from examples in this mini-batch, resulting in $2N$ data points.\n",
    "- $\\operatorname{sim}\\left(\\boldsymbol{z}_i, \\boldsymbol{z}_j\\right)$ denotes cosine similarity between the two embedding representation from projection layer.\n",
    "- $\\tau$ is a temperature scaler.\n",
    "- $\\mathbb{1}_{[k \\neq i]}$ is an indicator evaluating to 1 if $k \\neq i$.\n",
    "\n",
    "The following figure serves as a usual illustration of where positives and negatives resides in a given contrastive learning training batch.\n",
    "\n",
    "<img src=\"imgs/simclr_contrastive_loss.png\" width=\"70%\" height=\"70%\">"
   ]
  },
  {
   "cell_type": "code",
   "execution_count": 7,
   "id": "57627b52",
   "metadata": {},
   "outputs": [],
   "source": [
    "class ContrastivePretrainedModel(pl.LightningModule):\n",
    "    \n",
    "    def __init__(\n",
    "        self,\n",
    "        model_name,\n",
    "        pretrained,\n",
    "        hidden_dim,\n",
    "        lr,\n",
    "        weight_decay\n",
    "    ):\n",
    "        super().__init__()\n",
    "        self.hidden_dim = hidden_dim\n",
    "        self.lr = lr\n",
    "        self.model_name = model_name\n",
    "        self.pretrained = pretrained\n",
    "        self.weight_decay = weight_decay\n",
    "        self.temperature = nn.Parameter(torch.ones([]) * 20)\n",
    "        self.backbone = timm.create_model(model_name, pretrained=True, num_classes=4 * hidden_dim)\n",
    "        # projection head is included as part of backbone's fc\n",
    "        self.backbone.fc = nn.Sequential(\n",
    "            self.backbone.fc,\n",
    "            nn.ReLU(),\n",
    "            nn.Linear(4 * hidden_dim, hidden_dim)\n",
    "        )\n",
    "\n",
    "        self.save_hyperparameters()\n",
    "\n",
    "    def forward(self, batch):\n",
    "        images, labels = batch\n",
    "        images = torch.cat(images, dim=0)\n",
    "        features = self.backbone(images)\n",
    "        return features, labels\n",
    "    \n",
    "    def configure_optimizers(self):\n",
    "        \"\"\"\n",
    "        Configure two parameter group, one that will have weight decay regularization enabled,\n",
    "        and one that doesn't. Weight have one 1 dimension, e.g. bias term and normalization will\n",
    "        have weight decay disabled.\n",
    "        \"\"\"\n",
    "        params = [param for param in self.parameters() if param.requires_grad]\n",
    "        decay_params = [param for param in params if param.dim() >= 2]\n",
    "        nodecay_params = [param for param in params if param.dim() < 2]\n",
    "        num_decay_params = sum(p.numel() for p in decay_params)\n",
    "        num_nodecay_params = sum(p.numel() for p in nodecay_params)\n",
    "        print(f\"num decayed parameter tensors: {len(decay_params)}, with {num_decay_params:,} parameters\")\n",
    "        print(f\"num non-decayed parameter tensors: {len(nodecay_params)}, with {num_nodecay_params:,} parameters\")\n",
    "\n",
    "        optim_groups = [\n",
    "            {'params': decay_params, 'weight_decay': self.weight_decay},\n",
    "            {'params': nodecay_params, 'weight_decay': 0.0}\n",
    "        ]\n",
    "        return optim.AdamW(optim_groups, lr=self.lr)"
   ]
  },
  {
   "cell_type": "code",
   "execution_count": 8,
   "id": "0f61e563",
   "metadata": {},
   "outputs": [],
   "source": [
    "class SimCLR(ContrastivePretrainedModel):\n",
    "\n",
    "    def training_step(self, batch, batch_idx):\n",
    "        features, labels = self(batch)\n",
    "\n",
    "        # pairwise similarity\n",
    "        cos_sim = F.cosine_similarity(features[:, None, :], features[None, :, :], dim=-1) * self.temperature\n",
    "        # mask out itself from the calculation\n",
    "        self_mask = torch.eye(cos_sim.shape[0], dtype=torch.bool, device=cos_sim.device)\n",
    "        cos_sim = cos_sim.masked_fill(self_mask, -9e15)\n",
    "\n",
    "        # construct label positions\n",
    "        batch_size = labels.shape[0]\n",
    "        augmented_batch_size = features.shape[0]\n",
    "        labels = torch.cat([\n",
    "            torch.arange(batch_size, augmented_batch_size, device=features.device),\n",
    "            torch.arange(batch_size, device=features.device)\n",
    "        ])\n",
    "\n",
    "        loss = F.cross_entropy(cos_sim, labels)\n",
    "\n",
    "        # we can also manually compute cross entropy\n",
    "        # pos_mask = self_mask.roll(batch_size, dims=0)\n",
    "        # nll = -cos_sim[pos_mask] + torch.logsumexp(cos_sim, dim=-1)\n",
    "        # loss = nll.mean()\n",
    "        self.log(\"train_loss\", loss, prog_bar=True)\n",
    "        return loss"
   ]
  },
  {
   "cell_type": "code",
   "execution_count": 9,
   "id": "47338459",
   "metadata": {},
   "outputs": [
    {
     "name": "stdout",
     "output_type": "stream",
     "text": [
      "labels shape:  torch.Size([4])\n",
      "augmented images' feature shape:  torch.Size([8, 128])\n"
     ]
    }
   ],
   "source": [
    "sim_clr = SimCLR(model_name=\"resnet18\", pretrained=False, hidden_dim=128, lr=0.0001, weight_decay=0.0001)\n",
    "features, labels = sim_clr(aug_pair_batch)\n",
    "print(\"labels shape: \", labels.shape)\n",
    "print(\"augmented images' feature shape: \", features.shape)"
   ]
  },
  {
   "cell_type": "markdown",
   "id": "0dc46f7e",
   "metadata": {},
   "source": [
    "Given our model definition and dataset, we'll pass it through our trainer."
   ]
  },
  {
   "cell_type": "code",
   "execution_count": 10,
   "id": "a4cffc99",
   "metadata": {},
   "outputs": [
    {
     "name": "stderr",
     "output_type": "stream",
     "text": [
      "Using 16bit Automatic Mixed Precision (AMP)\n",
      "GPU available: True (cuda), used: True\n",
      "TPU available: False, using: 0 TPU cores\n",
      "IPU available: False, using: 0 IPUs\n",
      "HPU available: False, using: 0 HPUs\n",
      "LOCAL_RANK: 0 - CUDA_VISIBLE_DEVICES: [0]\n",
      "\n",
      "  | Name     | Type   | Params\n",
      "------------------------------------\n",
      "0 | backbone | ResNet | 36.1 M\n",
      "------------------------------------\n",
      "36.1 M    Trainable params\n",
      "0         Non-trainable params\n",
      "36.1 M    Total params\n",
      "144.384   Total estimated model params size (MB)\n"
     ]
    },
    {
     "name": "stdout",
     "output_type": "stream",
     "text": [
      "num decayed parameter tensors: 55, with 36,037,824 parameters\n",
      "num non-decayed parameter tensors: 109, with 58,241 parameters\n"
     ]
    },
    {
     "name": "stderr",
     "output_type": "stream",
     "text": [
      "`Trainer.fit` stopped: `max_epochs=20` reached.\n"
     ]
    },
    {
     "name": "stdout",
     "output_type": "stream",
     "text": [
      "sim clr training elapsed:  680.4121226710267\n"
     ]
    }
   ],
   "source": [
    "sim_clr = SimCLR(\n",
    "    model_name=config.model_name,\n",
    "    pretrained=config.pretrained,\n",
    "    hidden_dim=config.hidden_dim,\n",
    "    lr=config.lr,\n",
    "    weight_decay=config.weight_decay\n",
    ")\n",
    "if config.sim_clr_model_checkpoint:\n",
    "    sim_clr = sim_clr.load_from_checkpoint(config.sim_clr_model_checkpoint)\n",
    "\n",
    "if config.do_train:\n",
    "    checkpoint_callback = ModelCheckpoint(dirpath=\"sim_clr\")\n",
    "    trainer = pl.Trainer(\n",
    "        accelerator=\"gpu\",\n",
    "        devices=-1,\n",
    "        max_epochs=config.epochs,\n",
    "        precision=\"16-mixed\",\n",
    "        enable_progress_bar=config.enable_progress_bar,\n",
    "        log_every_n_steps=100,\n",
    "        callbacks=[checkpoint_callback]\n",
    "    )\n",
    "\n",
    "    data_loader_aug_pair_train = DataLoader(\n",
    "        dataset_aug_pair_train,\n",
    "        batch_size=config.batch_size,\n",
    "        num_workers=config.num_workers,\n",
    "        pin_memory=True,\n",
    "        shuffle=True\n",
    "    )\n",
    "\n",
    "    start = perf_counter()\n",
    "    trainer.fit(sim_clr, data_loader_aug_pair_train)\n",
    "    end = perf_counter()\n",
    "    print(\"sim clr training elapsed: \", end - start)"
   ]
  },
  {
   "cell_type": "markdown",
   "id": "42db6312",
   "metadata": {},
   "source": [
    "## Linear Evaluation"
   ]
  },
  {
   "cell_type": "markdown",
   "id": "46c6871a",
   "metadata": {},
   "source": [
    "One approach to evaluate our learned representation is to use a linear evaluation protocol, where a linear classifier is trained on top of frozen base model. By freezing our base/backbone encoder, only if our model has learned generalized representation will it be able to perform well on downstream task. Here, we'll be using CIFAR10 as our benchmark dataset."
   ]
  },
  {
   "cell_type": "code",
   "execution_count": 11,
   "id": "3c2e1cf2",
   "metadata": {},
   "outputs": [
    {
     "name": "stdout",
     "output_type": "stream",
     "text": [
      "Files already downloaded and verified\n",
      "Files already downloaded and verified\n"
     ]
    }
   ],
   "source": [
    "transform_test = transforms.Compose([\n",
    "    transforms.ToTensor(),\n",
    "    transforms.Normalize(mean=(0.4914, 0.4822, 0.4465), std=(0.2023, 0.1994, 0.2010))\n",
    "])\n",
    "dataset_benchmark_train = datasets.CIFAR10(\n",
    "    root=config.data_folder,\n",
    "    transform=transform_test,\n",
    "    train=True,\n",
    "    download=True\n",
    ")\n",
    "dataset_benchmark_test = datasets.CIFAR10(\n",
    "    root=config.data_folder,\n",
    "    transform=transform_test,\n",
    "    train=False,\n",
    "    download=True\n",
    ")"
   ]
  },
  {
   "cell_type": "markdown",
   "id": "520377ca",
   "metadata": {},
   "source": [
    "The following implementation performs linear evaluation in two steps, we first encode all the images into feature representation using our backbone layer, then our linear evaluation will directly take these image representation as inputs as opposed to raw images. This has the benefit of speeding up training over multiple epochs as it avoids re-computing image repesentation over and over again."
   ]
  },
  {
   "cell_type": "code",
   "execution_count": 12,
   "id": "c8e5b8c0",
   "metadata": {},
   "outputs": [],
   "source": [
    "class BackBone(pl.LightningModule):\n",
    "\n",
    "    def __init__(self, model_name, hidden_dim, pretrained=False, normalize=True):\n",
    "        super().__init__()\n",
    "        self.model_name = model_name\n",
    "        self.pretrained = pretrained\n",
    "        self.hidden_dim = hidden_dim\n",
    "        self.normalize = normalize\n",
    "        self.backbone = timm.create_model(model_name, pretrained=pretrained, num_classes=4 * hidden_dim)\n",
    "        # projection head is included as part of backbone's fc, during\n",
    "        # linear evaluation, we remove the projection head\n",
    "        self.backbone.fc = nn.Identity()\n",
    "\n",
    "    def forward(self, batch):\n",
    "        images, labels = batch\n",
    "        features = self.backbone(images)\n",
    "        if self.normalize:\n",
    "            features = F.normalize(features, p=2, dim=1)\n",
    "\n",
    "        return features, labels"
   ]
  },
  {
   "cell_type": "code",
   "execution_count": 13,
   "id": "7c1a2b9b",
   "metadata": {},
   "outputs": [],
   "source": [
    "def create_feature_dataset(model, dataset_benchmark):\n",
    "    backbone = BackBone(model.model_name, model.hidden_dim)\n",
    "    backbone.load_state_dict(model.state_dict(), strict=False)\n",
    "\n",
    "    data_loader_benchmark = DataLoader(\n",
    "        dataset_benchmark,\n",
    "        batch_size=64,\n",
    "        num_workers=4,\n",
    "        pin_memory=True,\n",
    "        shuffle=False\n",
    "    )\n",
    "\n",
    "    # pytorch lightning returns prediction in batches,\n",
    "    # we need to concatentate them together ourselves\n",
    "    trainer = pl.Trainer(accelerator=\"gpu\", devices=-1)\n",
    "    predictions = trainer.predict(backbone, data_loader_benchmark)\n",
    "\n",
    "    features_list = []\n",
    "    labels_list = []\n",
    "    for features, labels in predictions:\n",
    "        features_list.append(features)\n",
    "        labels_list.append(labels)\n",
    "\n",
    "    features = torch.cat(features_list, dim=0)\n",
    "    labels = torch.cat(labels_list, dim=0)\n",
    "    return Dataset.from_dict({\"features\": features, \"labels\": labels})"
   ]
  },
  {
   "cell_type": "code",
   "execution_count": 14,
   "id": "8f7a9f51",
   "metadata": {},
   "outputs": [
    {
     "name": "stderr",
     "output_type": "stream",
     "text": [
      "GPU available: True (cuda), used: True\n",
      "TPU available: False, using: 0 TPU cores\n",
      "IPU available: False, using: 0 IPUs\n",
      "HPU available: False, using: 0 HPUs\n",
      "LOCAL_RANK: 0 - CUDA_VISIBLE_DEVICES: [0]\n"
     ]
    },
    {
     "name": "stdout",
     "output_type": "stream",
     "text": [
      "Predicting DataLoader 0: 100%|█████████████████████████████████████████████████████████████████████████████████████████████████████████| 782/782 [00:10<00:00, 72.37it/s]\n"
     ]
    },
    {
     "name": "stderr",
     "output_type": "stream",
     "text": [
      "GPU available: True (cuda), used: True\n",
      "TPU available: False, using: 0 TPU cores\n",
      "IPU available: False, using: 0 IPUs\n",
      "HPU available: False, using: 0 HPUs\n",
      "LOCAL_RANK: 0 - CUDA_VISIBLE_DEVICES: [0]\n"
     ]
    },
    {
     "name": "stdout",
     "output_type": "stream",
     "text": [
      "Predicting DataLoader 0: 100%|█████████████████████████████████████████████████████████████████████████████████████████████████████████| 157/157 [00:02<00:00, 71.07it/s]\n",
      "Dataset({\n",
      "    features: ['features', 'labels'],\n",
      "    num_rows: 50000\n",
      "})\n",
      "Dataset({\n",
      "    features: ['features', 'labels'],\n",
      "    num_rows: 10000\n",
      "})\n"
     ]
    }
   ],
   "source": [
    "dataset_feature_train = create_feature_dataset(sim_clr, dataset_benchmark_train)\n",
    "dataset_feature_test = create_feature_dataset(sim_clr, dataset_benchmark_test)\n",
    "print(dataset_feature_train)\n",
    "print(dataset_feature_test)"
   ]
  },
  {
   "cell_type": "code",
   "execution_count": 15,
   "id": "474c9767",
   "metadata": {},
   "outputs": [
    {
     "data": {
      "text/plain": [
       "{'features': tensor([[0.0000, 0.2778, 0.0000,  ..., 0.0000, 0.0000, 0.0000],\n",
       "         [0.0000, 0.0000, 0.0000,  ..., 0.0000, 0.0000, 0.0000],\n",
       "         [0.0554, 0.0000, 0.0000,  ..., 0.0000, 0.0000, 0.0000],\n",
       "         ...,\n",
       "         [0.0000, 0.0000, 0.0000,  ..., 0.0000, 0.0000, 0.0000],\n",
       "         [0.0000, 0.0000, 0.0000,  ..., 0.0000, 0.0000, 0.0000],\n",
       "         [0.0000, 0.0000, 0.0000,  ..., 0.0000, 0.0000, 0.0000]]),\n",
       " 'labels': tensor([0, 8, 2, 1, 0, 8, 4, 7, 9, 2, 7, 0, 2, 7, 0, 1, 0, 7, 9, 2, 7, 9, 3, 2,\n",
       "         2, 5, 5, 3, 3, 4, 2, 9, 9, 5, 7, 9, 8, 8, 2, 9, 8, 1, 4, 4, 9, 6, 3, 1,\n",
       "         8, 7, 7, 9, 4, 4, 0, 6, 5, 9, 3, 4, 1, 8, 2, 2, 2, 7, 2, 2, 1, 8, 5, 9,\n",
       "         8, 8, 8, 4, 3, 1, 2, 1, 0, 5, 1, 2, 6, 0, 4, 1, 3, 6, 6, 9, 4, 0, 0, 7,\n",
       "         7, 6, 8, 0, 6, 7, 8, 2, 0, 2, 3, 2, 0, 2, 1, 3, 3, 2, 4, 4, 1, 2, 4, 0,\n",
       "         6, 5, 9, 1, 8, 3, 9, 9, 1, 2, 2, 9, 1, 0, 1, 8, 1, 6, 5, 5, 4, 1, 7, 1,\n",
       "         0, 1, 5, 0, 3, 2, 5, 5, 6, 3, 4, 9, 3, 1, 3, 1, 4, 8, 7, 3, 4, 8, 6, 1,\n",
       "         5, 9, 3, 9, 8, 9, 1, 1, 1, 9, 9, 2, 2, 7, 8, 3, 8, 1, 5, 4, 5, 9, 9, 9,\n",
       "         8, 8, 0, 7, 7, 7, 3, 5, 9, 7, 5, 6, 1, 7, 9, 1, 0, 5, 9, 7, 8, 0, 4, 3,\n",
       "         3, 2, 4, 5, 5, 9, 8, 4, 3, 4, 8, 5, 1, 9, 9, 3, 3, 2, 5, 9, 5, 2, 0, 5,\n",
       "         7, 0, 9, 3, 2, 7, 1, 9, 5, 1, 5, 5, 5, 0, 9, 9])}"
      ]
     },
     "execution_count": 15,
     "metadata": {},
     "output_type": "execute_result"
    }
   ],
   "source": [
    "data_loader_feature_train = DataLoader(\n",
    "    dataset_feature_train,\n",
    "    batch_size=config.linear_eval_batch_size,\n",
    "    num_workers=config.linear_eval_num_workers,\n",
    "    pin_memory=True,\n",
    "    shuffle=True,\n",
    "    collate_fn=DefaultDataCollator()\n",
    ")\n",
    "data_loader_feature_test = DataLoader(\n",
    "    dataset_feature_test,\n",
    "    batch_size=config.linear_eval_batch_size,\n",
    "    num_workers=config.linear_eval_num_workers,\n",
    "    pin_memory=True,\n",
    "    shuffle=False,\n",
    "    collate_fn=DefaultDataCollator()\n",
    ")\n",
    "sample = next(iter(data_loader_feature_train))\n",
    "feature_dim = sample[\"features\"].shape[1]\n",
    "sample"
   ]
  },
  {
   "cell_type": "code",
   "execution_count": 16,
   "id": "8fe5d139",
   "metadata": {},
   "outputs": [],
   "source": [
    "class LinearClassifier(pl.LightningModule):\n",
    "\n",
    "    def __init__(self, num_classes, feature_dim, lr, weight_decay):\n",
    "        super().__init__()\n",
    "        self.lr = lr\n",
    "        self.weight_decay = weight_decay\n",
    "        self.feature_dim = feature_dim\n",
    "        self.num_classes = num_classes\n",
    "        self.linear = nn.Linear(feature_dim, num_classes)\n",
    "        self.accuracy_train = Accuracy(task=\"multiclass\", num_classes=num_classes)\n",
    "\n",
    "        self.save_hyperparameters()\n",
    "\n",
    "    def forward(self, batch):\n",
    "        features = batch[\"features\"]\n",
    "        labels = batch[\"labels\"]\n",
    "        logits = self.linear(features)\n",
    "        return logits, labels\n",
    "\n",
    "    def compute_loss(self, batch, mode):\n",
    "        logits, labels = self(batch)\n",
    "        loss = F.cross_entropy(logits, labels)\n",
    "\n",
    "        predictions = logits.argmax(dim=-1)\n",
    "        accuracy = self.accuracy_train(predictions, labels)\n",
    "\n",
    "        self.log(f\"{mode}_loss\", loss, prog_bar=True)\n",
    "        self.log(f\"{mode}_accuracy\", accuracy, prog_bar=True)\n",
    "        return loss\n",
    "\n",
    "    def training_step(self, batch, batch_idx):\n",
    "        return self.compute_loss(batch, mode=\"train\")\n",
    "\n",
    "    def test_step(self, batch, batch_idx):\n",
    "        return self.compute_loss(batch, mode=\"test\")\n",
    "\n",
    "    def configure_optimizers(self):\n",
    "        return optim.AdamW(self.parameters(), lr=self.lr, weight_decay=self.weight_decay)"
   ]
  },
  {
   "cell_type": "code",
   "execution_count": 17,
   "id": "0dda5c46",
   "metadata": {},
   "outputs": [
    {
     "name": "stderr",
     "output_type": "stream",
     "text": [
      "Using 16bit Automatic Mixed Precision (AMP)\n",
      "GPU available: True (cuda), used: True\n",
      "TPU available: False, using: 0 TPU cores\n",
      "IPU available: False, using: 0 IPUs\n",
      "HPU available: False, using: 0 HPUs\n",
      "LOCAL_RANK: 0 - CUDA_VISIBLE_DEVICES: [0]\n",
      "\n",
      "  | Name           | Type               | Params\n",
      "------------------------------------------------------\n",
      "0 | linear         | Linear             | 20.5 K\n",
      "1 | accuracy_train | MulticlassAccuracy | 0     \n",
      "------------------------------------------------------\n",
      "20.5 K    Trainable params\n",
      "0         Non-trainable params\n",
      "20.5 K    Total params\n",
      "0.082     Total estimated model params size (MB)\n",
      "`Trainer.fit` stopped: `max_epochs=10` reached.\n"
     ]
    }
   ],
   "source": [
    "linear_classifier = LinearClassifier(\n",
    "    num_classes=10,\n",
    "    feature_dim=feature_dim,\n",
    "    lr=config.linear_eval_lr,\n",
    "    weight_decay=config.linear_eval_weight_decay\n",
    ")\n",
    "\n",
    "trainer = pl.Trainer(\n",
    "    accelerator=\"gpu\",\n",
    "    devices=-1,\n",
    "    max_epochs=config.linear_eval_epochs,\n",
    "    precision=\"16-mixed\",\n",
    "    enable_progress_bar=config.enable_progress_bar\n",
    ")\n",
    "trainer.fit(linear_classifier, data_loader_feature_train)"
   ]
  },
  {
   "cell_type": "code",
   "execution_count": 18,
   "id": "998a37aa",
   "metadata": {},
   "outputs": [
    {
     "name": "stderr",
     "output_type": "stream",
     "text": [
      "LOCAL_RANK: 0 - CUDA_VISIBLE_DEVICES: [0]\n"
     ]
    },
    {
     "name": "stdout",
     "output_type": "stream",
     "text": [
      "────────────────────────────────────────────────────────────────────────────────────────────────────────────────────────\n",
      "       Test metric             DataLoader 0\n",
      "────────────────────────────────────────────────────────────────────────────────────────────────────────────────────────\n",
      "      test_accuracy         0.5670999884605408\n",
      "        test_loss            1.702192783355713\n",
      "────────────────────────────────────────────────────────────────────────────────────────────────────────────────────────\n"
     ]
    },
    {
     "data": {
      "text/plain": [
       "[{'test_loss': 1.702192783355713, 'test_accuracy': 0.5670999884605408}]"
      ]
     },
     "execution_count": 18,
     "metadata": {},
     "output_type": "execute_result"
    }
   ],
   "source": [
    "trainer.test(linear_classifier, data_loader_feature_test)"
   ]
  },
  {
   "cell_type": "markdown",
   "id": "bd8932e1",
   "metadata": {},
   "source": [
    "## Supervised Contrastive Learning"
   ]
  },
  {
   "cell_type": "markdown",
   "id": "fbe21fcf",
   "metadata": {},
   "source": [
    "The fundamental idea of supervised contrastive learning [[4]](https://ai.googleblog.com/2021/06/extending-contrastive-learning-to.html) [[6]](https://arxiv.org/abs/2004.11362) is to combine label information with self-supervised contrastive learning. In self-supervised learning, a positive example is created by applying data augmentation to the anchor, and it is contrasted against a set of negative samples. These negative samples are typically obtained from in-batch negatives, assuming a low likelihood of them being false negatives. Supervised contrastive learning \"enhances\" this by leveraging class labels on top of augmented views to contrast against negatives from the remaining samples.\n",
    "\n",
    "<img src=\"imgs/supervised_contrastive.png\" width=\"70%\" height=\"70%\">\n",
    "\n",
    "This generates a representation where samples from the same class will be aligned better when compared against self supervised learning based methods. Note, with supervised contrastive learning, we will have to extend our contrastive loss to handle cases where there're more than 1 postives.\n",
    "\n",
    "\n",
    "\\begin{align}\n",
    "-\\sum_{i \\in I} \\frac{1}{|P(i)|} \\sum_{p \\in P(i)} \\log \\frac{\\exp \\left(\\operatorname{sim}\\left(\\boldsymbol{z}_i, \\boldsymbol{z}_p\\right) / \\tau\\right)}{\\sum_{k=1}^{2 N} \\mathbb{1}_{[k \\neq i]} \\exp \\left(\\operatorname{sim}\\left(\\boldsymbol{z}_i, \\boldsymbol{z}_k\\right) / \\tau\\right)}\n",
    "\\end{align}\n",
    "\n",
    "Where $P(i)$ is the indices of all positives in the multi-viewed batch.\n",
    "\n",
    "This particular formula has the benefit of generalizing to arbitrary number of positives. Meaning for a given anchor, all positives, including the data augmentation based samples, as well as any remaining samples with the same label will contribute to the numerator of this equation. "
   ]
  },
  {
   "cell_type": "code",
   "execution_count": 19,
   "id": "f0b3322c",
   "metadata": {},
   "outputs": [],
   "source": [
    "class SupervisedContrastiveModel(ContrastivePretrainedModel):\n",
    "\n",
    "    def training_step(self, batch, batch_idx):\n",
    "        features, labels = self(batch)\n",
    "\n",
    "        # pairwise label equivalence, we also expand/repeat the pairwise\n",
    "        # equivalence to be of the same size as the pairwise similarity\n",
    "        # from the two augmented views\n",
    "        labels_view = labels.view(-1, 1)\n",
    "        labels_mask = torch.eq(labels_view, labels_view.T).float()\n",
    "        labels_mask = labels_mask.repeat(2, 2)\n",
    "\n",
    "        # pairwise similarity\n",
    "        cos_sim = F.cosine_similarity(features[:, None, :], features[None, :, :], dim=-1) * self.temperature\n",
    "        # mask out itself from the calculation\n",
    "        self_mask = torch.eye(cos_sim.shape[0], dtype=torch.bool, device=cos_sim.device)\n",
    "        cos_sim = cos_sim.masked_fill(self_mask, -9e15)\n",
    "\n",
    "        # positive includes augmented samples and samples with the same label\n",
    "        aug_pairs_mask = self_mask.roll(features.shape[0] // 2, dims=0)\n",
    "        positive_mask = labels_mask * aug_pairs_mask\n",
    "\n",
    "        # compute mean of log-likelihood over positive\n",
    "        log_prob = cos_sim - torch.logsumexp(cos_sim, dim=-1, keepdim=True)\n",
    "        mean_log_prob_positive = (log_prob * positive_mask).sum(dim=1) / positive_mask.sum(dim=1)\n",
    "        loss = -1.0 * mean_log_prob_positive.mean()\n",
    "        self.log(\"train_loss\", loss, prog_bar=True)\n",
    "        return loss"
   ]
  },
  {
   "cell_type": "code",
   "execution_count": 20,
   "id": "05568768",
   "metadata": {},
   "outputs": [],
   "source": [
    "supervised_contrastive = SupervisedContrastiveModel(\n",
    "    model_name=\"resnet18\",\n",
    "    pretrained=False,\n",
    "    hidden_dim=1024,\n",
    "    lr=0.0001,\n",
    "    weight_decay=0.0001\n",
    ")\n",
    "features, labels = supervised_contrastive(aug_pair_batch)"
   ]
  },
  {
   "cell_type": "code",
   "execution_count": 21,
   "id": "25975f52",
   "metadata": {},
   "outputs": [
    {
     "name": "stderr",
     "output_type": "stream",
     "text": [
      "Using 16bit Automatic Mixed Precision (AMP)\n",
      "GPU available: True (cuda), used: True\n",
      "TPU available: False, using: 0 TPU cores\n",
      "IPU available: False, using: 0 IPUs\n",
      "HPU available: False, using: 0 HPUs\n",
      "LOCAL_RANK: 0 - CUDA_VISIBLE_DEVICES: [0]\n",
      "\n",
      "  | Name     | Type   | Params\n",
      "------------------------------------\n",
      "0 | backbone | ResNet | 36.1 M\n",
      "------------------------------------\n",
      "36.1 M    Trainable params\n",
      "0         Non-trainable params\n",
      "36.1 M    Total params\n",
      "144.384   Total estimated model params size (MB)\n"
     ]
    },
    {
     "name": "stdout",
     "output_type": "stream",
     "text": [
      "num decayed parameter tensors: 55, with 36,037,824 parameters\n",
      "num non-decayed parameter tensors: 109, with 58,241 parameters\n"
     ]
    },
    {
     "name": "stderr",
     "output_type": "stream",
     "text": [
      "`Trainer.fit` stopped: `max_epochs=20` reached.\n"
     ]
    },
    {
     "name": "stdout",
     "output_type": "stream",
     "text": [
      "model training elapsed:  683.5580533358734\n"
     ]
    }
   ],
   "source": [
    "supervised_contrastive = SupervisedContrastiveModel(\n",
    "    model_name=config.model_name,\n",
    "    pretrained=config.pretrained,\n",
    "    hidden_dim=config.hidden_dim,\n",
    "    lr=config.lr,\n",
    "    weight_decay=config.weight_decay\n",
    ")\n",
    "if config.supervised_contrastive_model_checkpoint:\n",
    "    supervised_contrastive = supervised_contrastive.load_from_checkpoint(\n",
    "        config.supervised_contrastive_model_checkpoint\n",
    "    )\n",
    "\n",
    "if config.do_train:\n",
    "    checkpoint_callback = ModelCheckpoint(dirpath=\"supervised_contrastive\")\n",
    "    trainer = pl.Trainer(\n",
    "        accelerator=\"gpu\",\n",
    "        devices=-1,\n",
    "        max_epochs=config.epochs,\n",
    "        precision=\"16-mixed\",\n",
    "        # note, we purpose-fully disabled the progress bar to prevent flooding our notebook's console\n",
    "        # in normal settings, we can/should definitely turn it on\n",
    "        enable_progress_bar=config.enable_progress_bar,\n",
    "        log_every_n_steps=100,\n",
    "        callbacks=[checkpoint_callback]\n",
    "    )\n",
    "\n",
    "    data_loader_aug_pair_train = DataLoader(\n",
    "        dataset_aug_pair_train,\n",
    "        batch_size=config.batch_size,\n",
    "        num_workers=config.num_workers,\n",
    "        pin_memory=True,\n",
    "        shuffle=True\n",
    "    )\n",
    "\n",
    "    start = perf_counter()\n",
    "    trainer.fit(supervised_contrastive, data_loader_aug_pair_train)\n",
    "    end = perf_counter()\n",
    "    print(\"model training elapsed: \", end - start)"
   ]
  },
  {
   "cell_type": "code",
   "execution_count": 22,
   "id": "5de5c919",
   "metadata": {},
   "outputs": [
    {
     "name": "stderr",
     "output_type": "stream",
     "text": [
      "GPU available: True (cuda), used: True\n",
      "TPU available: False, using: 0 TPU cores\n",
      "IPU available: False, using: 0 IPUs\n",
      "HPU available: False, using: 0 HPUs\n",
      "LOCAL_RANK: 0 - CUDA_VISIBLE_DEVICES: [0]\n"
     ]
    },
    {
     "name": "stdout",
     "output_type": "stream",
     "text": [
      "Predicting DataLoader 0: 100%|█████████████████████████████████████████████████████████████████████████████████████████████████████████| 782/782 [00:10<00:00, 73.59it/s]\n"
     ]
    },
    {
     "name": "stderr",
     "output_type": "stream",
     "text": [
      "GPU available: True (cuda), used: True\n",
      "TPU available: False, using: 0 TPU cores\n",
      "IPU available: False, using: 0 IPUs\n",
      "HPU available: False, using: 0 HPUs\n",
      "LOCAL_RANK: 0 - CUDA_VISIBLE_DEVICES: [0]\n"
     ]
    },
    {
     "name": "stdout",
     "output_type": "stream",
     "text": [
      "Predicting DataLoader 0: 100%|█████████████████████████████████████████████████████████████████████████████████████████████████████████| 157/157 [00:02<00:00, 74.04it/s]\n"
     ]
    },
    {
     "name": "stderr",
     "output_type": "stream",
     "text": [
      "Using 16bit Automatic Mixed Precision (AMP)\n",
      "GPU available: True (cuda), used: True\n",
      "TPU available: False, using: 0 TPU cores\n",
      "IPU available: False, using: 0 IPUs\n",
      "HPU available: False, using: 0 HPUs\n",
      "LOCAL_RANK: 0 - CUDA_VISIBLE_DEVICES: [0]\n",
      "\n",
      "  | Name           | Type               | Params\n",
      "------------------------------------------------------\n",
      "0 | linear         | Linear             | 20.5 K\n",
      "1 | accuracy_train | MulticlassAccuracy | 0     \n",
      "------------------------------------------------------\n",
      "20.5 K    Trainable params\n",
      "0         Non-trainable params\n",
      "20.5 K    Total params\n",
      "0.082     Total estimated model params size (MB)\n"
     ]
    },
    {
     "name": "stdout",
     "output_type": "stream",
     "text": [
      "Dataset({\n",
      "    features: ['features', 'labels'],\n",
      "    num_rows: 50000\n",
      "})\n",
      "Dataset({\n",
      "    features: ['features', 'labels'],\n",
      "    num_rows: 10000\n",
      "})\n"
     ]
    },
    {
     "name": "stderr",
     "output_type": "stream",
     "text": [
      "`Trainer.fit` stopped: `max_epochs=10` reached.\n"
     ]
    }
   ],
   "source": [
    "dataset_feature_train = create_feature_dataset(supervised_contrastive, dataset_benchmark_train)\n",
    "dataset_feature_test = create_feature_dataset(supervised_contrastive, dataset_benchmark_test)\n",
    "print(dataset_feature_train)\n",
    "print(dataset_feature_test)\n",
    "\n",
    "data_loader_feature_train = DataLoader(\n",
    "    dataset_feature_train,\n",
    "    batch_size=config.linear_eval_batch_size,\n",
    "    num_workers=config.linear_eval_num_workers,\n",
    "    pin_memory=True,\n",
    "    shuffle=True,\n",
    "    collate_fn=DefaultDataCollator()\n",
    ")\n",
    "data_loader_feature_test = DataLoader(\n",
    "    dataset_feature_test,\n",
    "    batch_size=config.linear_eval_batch_size,\n",
    "    num_workers=config.linear_eval_num_workers,\n",
    "    pin_memory=True,\n",
    "    shuffle=False,\n",
    "    collate_fn=DefaultDataCollator()\n",
    ")\n",
    "\n",
    "linear_classifier = LinearClassifier(\n",
    "    num_classes=10,\n",
    "    feature_dim=feature_dim,\n",
    "    lr=config.linear_eval_lr,\n",
    "    weight_decay=config.linear_eval_weight_decay\n",
    ")\n",
    "\n",
    "trainer = pl.Trainer(\n",
    "    accelerator=\"gpu\",\n",
    "    devices=-1,\n",
    "    max_epochs=config.linear_eval_epochs,\n",
    "    precision=\"16-mixed\",\n",
    "    enable_progress_bar=config.enable_progress_bar\n",
    ")\n",
    "trainer.fit(linear_classifier, data_loader_feature_train)"
   ]
  },
  {
   "cell_type": "code",
   "execution_count": 23,
   "id": "02b79a35",
   "metadata": {},
   "outputs": [
    {
     "name": "stderr",
     "output_type": "stream",
     "text": [
      "LOCAL_RANK: 0 - CUDA_VISIBLE_DEVICES: [0]\n"
     ]
    },
    {
     "name": "stdout",
     "output_type": "stream",
     "text": [
      "────────────────────────────────────────────────────────────────────────────────────────────────────────────────────────\n",
      "       Test metric             DataLoader 0\n",
      "────────────────────────────────────────────────────────────────────────────────────────────────────────────────────────\n",
      "      test_accuracy         0.5698000192642212\n",
      "        test_loss           1.7018996477127075\n",
      "────────────────────────────────────────────────────────────────────────────────────────────────────────────────────────\n"
     ]
    },
    {
     "data": {
      "text/plain": [
       "[{'test_loss': 1.7018996477127075, 'test_accuracy': 0.5698000192642212}]"
      ]
     },
     "execution_count": 23,
     "metadata": {},
     "output_type": "execute_result"
    }
   ],
   "source": [
    "trainer.test(linear_classifier, data_loader_feature_test)"
   ]
  },
  {
   "cell_type": "markdown",
   "id": "f8971bf5",
   "metadata": {},
   "source": [
    "### Final Notes"
   ]
  },
  {
   "cell_type": "markdown",
   "id": "5288e751",
   "metadata": {},
   "source": [
    "Contrastive learning based techniques benefits more from bigger models, stronger data augmentation as well as larger batch size compared to supervised learning counterparts:\n",
    "\n",
    "- When composing multiple data augmentation methods together, the contrastive prediction task becomes harder, however, quality of learned representation also substantially improves. One combination that stood out was random cropping and color distortion. Reason being different crops of the same image often exhibit strong similarities in terms of color distribution. If the colors remain unaltered, a model can simply match the color histograms of the crops to maximize agreement, potentially overlooking other crucial and more generalizable representation. \n",
    "- Introducing a learnable nonlinear transformation between the respresentation and contrastive loss substantially improves the quality of learned representation. Even when introducing nonlinear transformation layer, backbone layer's representation is still a superior representation. Reason is nonlinear transformation has been trained to be invariant to data transformation. This invariance, while beneficial for contrastive learning settings, may lead to the removal of certain information that could be useful for downstream applications. By leveraging nonlinear transformations, more information can be preserved in the representations learned by the backbone layer.\n",
    "    \n",
    "As for supervised contrastive learning, authors from the paper claims this is the first contrastive loss to consistenly perform better than cross-entropy loss on large scale image classification problems."
   ]
  },
  {
   "cell_type": "markdown",
   "id": "97339b14",
   "metadata": {},
   "source": [
    "# Reference"
   ]
  },
  {
   "cell_type": "markdown",
   "id": "d3cfdd74",
   "metadata": {},
   "source": [
    "- [[1]](https://uvadlc-notebooks.readthedocs.io/en/latest/tutorial_notebooks/tutorial17/SimCLR.html) Tutorial 17: Self-Supervised Contrastive Learning with SimCLR\n",
    "- [[2]](https://theaisummer.com/simclr/) Self-supervised learning tutorial: Implementing SimCLR with pytorch lightning\n",
    "- [[3]](https://ai.googleblog.com/2020/04/advancing-self-supervised-and-semi.html) Advancing Self-Supervised and Semi-Supervised Learning with SimCLR\n",
    "- [[4]](https://ai.googleblog.com/2021/06/extending-contrastive-learning-to.html) Extending Contrastive Learning to the Supervised Setting\n",
    "- [[5]](https://arxiv.org/abs/2002.05709) Ting Chen, Simon Kornblith, Mohammad Norouzi, Geoffrey Hinton - A Simple Framework for Contrastive Learning of Visual Representations - 2020\n",
    "- [[6]](https://arxiv.org/abs/2004.11362) Prannay Khosla, Piotr Teterwak, et al. - Supervised Contrastive Learning - 2020"
   ]
  }
 ],
 "metadata": {
  "kernelspec": {
   "display_name": "Python 3 (ipykernel)",
   "language": "python",
   "name": "python3"
  },
  "language_info": {
   "codemirror_mode": {
    "name": "ipython",
    "version": 3
   },
   "file_extension": ".py",
   "mimetype": "text/x-python",
   "name": "python",
   "nbconvert_exporter": "python",
   "pygments_lexer": "ipython3",
   "version": "3.9.12"
  }
 },
 "nbformat": 4,
 "nbformat_minor": 5
}
