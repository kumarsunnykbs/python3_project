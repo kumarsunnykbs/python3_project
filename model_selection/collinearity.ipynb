{
 "cells": [
  {
   "cell_type": "markdown",
   "metadata": {
    "toc": "true"
   },
   "source": [
    "<h1>Table of Contents<span class=\"tocSkip\"></span></h1>\n",
    "<div class=\"toc\"><ul class=\"toc-item\"><li><span><a href=\"#Multicollearity\" data-toc-modified-id=\"Multicollearity-1\"><span class=\"toc-item-num\">1&nbsp;&nbsp;</span>Multicollearity</a></span><ul class=\"toc-item\"><li><span><a href=\"#Linear-Regression\" data-toc-modified-id=\"Linear-Regression-1.1\"><span class=\"toc-item-num\">1.1&nbsp;&nbsp;</span>Linear Regression</a></span><ul class=\"toc-item\"><li><span><a href=\"#Maximum-Likelihood---Primer\" data-toc-modified-id=\"Maximum-Likelihood---Primer-1.1.1\"><span class=\"toc-item-num\">1.1.1&nbsp;&nbsp;</span>Maximum Likelihood - Primer</a></span></li><li><span><a href=\"#Maximum-Likelihood---Linear-Regression\" data-toc-modified-id=\"Maximum-Likelihood---Linear-Regression-1.1.2\"><span class=\"toc-item-num\">1.1.2&nbsp;&nbsp;</span>Maximum Likelihood - Linear Regression</a></span></li></ul></li><li><span><a href=\"#R-squared\" data-toc-modified-id=\"R-squared-1.2\"><span class=\"toc-item-num\">1.2&nbsp;&nbsp;</span>R-squared</a></span></li><li><span><a href=\"#Variance-Inflation-Factor\" data-toc-modified-id=\"Variance-Inflation-Factor-1.3\"><span class=\"toc-item-num\">1.3&nbsp;&nbsp;</span>Variance Inflation Factor</a></span></li><li><span><a href=\"#Cramer's-V\" data-toc-modified-id=\"Cramer's-V-1.4\"><span class=\"toc-item-num\">1.4&nbsp;&nbsp;</span>Cramer's V</a></span></li></ul></li><li><span><a href=\"#Reference\" data-toc-modified-id=\"Reference-2\"><span class=\"toc-item-num\">2&nbsp;&nbsp;</span>Reference</a></span></li></ul></div>"
   ]
  },
  {
   "cell_type": "code",
   "execution_count": 1,
   "metadata": {},
   "outputs": [
    {
     "data": {
      "text/html": [
       "<style>\n",
       "@import url('http://fonts.googleapis.com/css?family=Source+Code+Pro');\n",
       "@import url('http://fonts.googleapis.com/css?family=Vollkorn');\n",
       "@import url('http://fonts.googleapis.com/css?family=Arimo');\n",
       "@import url('http://fonts.googleapis.com/css?family=Fira_sans');\n",
       "    \n",
       "    div.cell {\n",
       "        width: 1000px;\n",
       "        margin-left: 0% !important;\n",
       "        margin-right: auto;\n",
       "    }\n",
       "    div.text_cell code {\n",
       "        background: transparent;\n",
       "        color: #000000;\n",
       "        font-weight: 600;\n",
       "        font-size: 12pt;\n",
       "        font-style: bold;\n",
       "        font-family:  'Source Code Pro', Consolas, monocco, monospace;\n",
       "    }\n",
       "    h1 {\n",
       "        font-family: 'Open sans',verdana,arial,sans-serif;\n",
       "\t}\n",
       "\t\n",
       "    div.input_area {\n",
       "        background: #F6F6F9;\n",
       "        border: 1px solid #586e75;\n",
       "    }\n",
       "\n",
       "    .text_cell_render h1 {\n",
       "        font-weight: 200;\n",
       "        font-size: 30pt;\n",
       "        line-height: 100%;\n",
       "        color:#c76c0c;\n",
       "        margin-bottom: 0.5em;\n",
       "        margin-top: 1em;\n",
       "        display: block;\n",
       "        white-space: wrap;\n",
       "        text-align: left;\n",
       "    } \n",
       "    h2 {\n",
       "        font-family: 'Open sans',verdana,arial,sans-serif;\n",
       "        text-align: left;\n",
       "    }\n",
       "    .text_cell_render h2 {\n",
       "        font-weight: 200;\n",
       "        font-size: 16pt;\n",
       "        font-style: italic;\n",
       "        line-height: 100%;\n",
       "        color:#c76c0c;\n",
       "        margin-bottom: 0.5em;\n",
       "        margin-top: 1.5em;\n",
       "        display: block;\n",
       "        white-space: wrap;\n",
       "        text-align: left;\n",
       "    } \n",
       "    h3 {\n",
       "        font-family: 'Open sans',verdana,arial,sans-serif;\n",
       "    }\n",
       "    .text_cell_render h3 {\n",
       "        font-weight: 200;\n",
       "        font-size: 14pt;\n",
       "        line-height: 100%;\n",
       "        color:#d77c0c;\n",
       "        margin-bottom: 0.5em;\n",
       "        margin-top: 2em;\n",
       "        display: block;\n",
       "        white-space: wrap;\n",
       "        text-align: left;\n",
       "    }\n",
       "    h4 {\n",
       "        font-family: 'Open sans',verdana,arial,sans-serif;\n",
       "    }\n",
       "    .text_cell_render h4 {\n",
       "        font-weight: 100;\n",
       "        font-size: 14pt;\n",
       "        color:#d77c0c;\n",
       "        margin-bottom: 0.5em;\n",
       "        margin-top: 0.5em;\n",
       "        display: block;\n",
       "        white-space: nowrap;\n",
       "    }\n",
       "    h5 {\n",
       "        font-family: 'Open sans',verdana,arial,sans-serif;\n",
       "    }\n",
       "    .text_cell_render h5 {\n",
       "        font-weight: 200;\n",
       "        font-style: normal;\n",
       "        color: #1d3b84;\n",
       "        font-size: 16pt;\n",
       "        margin-bottom: 0em;\n",
       "        margin-top: 0.5em;\n",
       "        display: block;\n",
       "        white-space: nowrap;\n",
       "    }\n",
       "    div.text_cell_render{\n",
       "        font-family: 'Fira sans', verdana,arial,sans-serif;\n",
       "        line-height: 125%;\n",
       "        font-size: 115%;\n",
       "        text-align:justify;\n",
       "        text-justify:inter-word;\n",
       "    }\n",
       "    div.output_wrapper{\n",
       "        margin-top:0.2em;\n",
       "        margin-bottom:0.2em;\n",
       "    }\n",
       "\n",
       "    code{\n",
       "      font-size: 70%;\n",
       "    }\n",
       "    .rendered_html code{\n",
       "    background-color: transparent;\n",
       "    }\n",
       "    ul{\n",
       "        margin: 2em;\n",
       "    }\n",
       "    ul li{\n",
       "        padding-left: 0.5em; \n",
       "        margin-bottom: 0.5em; \n",
       "        margin-top: 0.5em; \n",
       "    }\n",
       "    ul li li{\n",
       "        padding-left: 0.2em; \n",
       "        margin-bottom: 0.2em; \n",
       "        margin-top: 0.2em; \n",
       "    }\n",
       "    ol{\n",
       "        margin: 2em;\n",
       "    }\n",
       "    ol li{\n",
       "        padding-left: 0.5em; \n",
       "        margin-bottom: 0.5em; \n",
       "        margin-top: 0.5em; \n",
       "    }\n",
       "    ul li{\n",
       "        padding-left: 0.5em; \n",
       "        margin-bottom: 0.5em; \n",
       "        margin-top: 0.2em; \n",
       "    }\n",
       "    a:link{\n",
       "       font-weight: bold;\n",
       "       color:#447adb;\n",
       "    }\n",
       "    a:visited{\n",
       "       font-weight: bold;\n",
       "       color: #1d3b84;\n",
       "    }\n",
       "    a:hover{\n",
       "       font-weight: bold;\n",
       "       color: #1d3b84;\n",
       "    }\n",
       "    a:focus{\n",
       "       font-weight: bold;\n",
       "       color:#447adb;\n",
       "    }\n",
       "    a:active{\n",
       "       font-weight: bold;\n",
       "       color:#447adb;\n",
       "    }\n",
       "    .rendered_html :link {\n",
       "       text-decoration: underline; \n",
       "    }\n",
       "    .rendered_html :hover {\n",
       "       text-decoration: none; \n",
       "    }\n",
       "    .rendered_html :visited {\n",
       "      text-decoration: none;\n",
       "    }\n",
       "    .rendered_html :focus {\n",
       "      text-decoration: none;\n",
       "    }\n",
       "    .rendered_html :active {\n",
       "      text-decoration: none;\n",
       "    }\n",
       "    .warning{\n",
       "        color: rgb( 240, 20, 20 )\n",
       "    } \n",
       "    hr {\n",
       "      color: #f3f3f3;\n",
       "      background-color: #f3f3f3;\n",
       "      height: 1px;\n",
       "    }\n",
       "    blockquote{\n",
       "      display:block;\n",
       "      background: #fcfcfc;\n",
       "      border-left: 5px solid #c76c0c;\n",
       "      font-family: 'Open sans',verdana,arial,sans-serif;\n",
       "      width:680px;\n",
       "      padding: 10px 10px 10px 10px;\n",
       "      text-align:justify;\n",
       "      text-justify:inter-word;\n",
       "      }\n",
       "      blockquote p {\n",
       "        margin-bottom: 0;\n",
       "        line-height: 125%;\n",
       "        font-size: 100%;\n",
       "      }\n",
       "</style>\n",
       "<script>\n",
       "    MathJax.Hub.Config({\n",
       "                        TeX: {\n",
       "                           extensions: [\"AMSmath.js\"]\n",
       "                           },\n",
       "                tex2jax: {\n",
       "                    inlineMath: [ ['$','$'], [\"\\\\(\",\"\\\\)\"] ],\n",
       "                    displayMath: [ ['$$','$$'], [\"\\\\[\",\"\\\\]\"] ]\n",
       "                },\n",
       "                displayAlign: 'center', // Change this to 'center' to center equations.\n",
       "                \"HTML-CSS\": {\n",
       "                    scale:100,\n",
       "                        availableFonts: [],\n",
       "                        preferredFont:null,\n",
       "                        webFont: \"TeX\",\n",
       "                    styles: {'.MathJax_Display': {\"margin\": 4}}\n",
       "                }\n",
       "        });\n",
       "</script>\n"
      ],
      "text/plain": [
       "<IPython.core.display.HTML object>"
      ]
     },
     "execution_count": 1,
     "metadata": {},
     "output_type": "execute_result"
    }
   ],
   "source": [
    "# code for loading the format for the notebook\n",
    "import os\n",
    "\n",
    "# path : store the current path to convert back to it later\n",
    "path = os.getcwd()\n",
    "os.chdir(os.path.join('..', 'notebook_format'))\n",
    "from formats import load_style\n",
    "load_style()"
   ]
  },
  {
   "cell_type": "code",
   "execution_count": 2,
   "metadata": {},
   "outputs": [
    {
     "name": "stdout",
     "output_type": "stream",
     "text": [
      "Ethen 2017-12-23 09:28:58 \n",
      "\n",
      "CPython 3.5.2\n",
      "IPython 6.2.1\n",
      "\n",
      "scipy 1.0.0\n",
      "numpy 1.13.3\n",
      "pandas 0.20.3\n",
      "sklearn 0.19.1\n",
      "matplotlib 2.1.0\n"
     ]
    }
   ],
   "source": [
    "os.chdir(path)\n",
    "\n",
    "# 1. magic for inline plot\n",
    "# 2. magic to print version\n",
    "# 3. magic so that the notebook will reload external python modules\n",
    "# 4. magic to enable retina (high resolution) plots\n",
    "# https://gist.github.com/minrk/3301035\n",
    "%matplotlib inline\n",
    "%load_ext watermark\n",
    "%load_ext autoreload\n",
    "%autoreload 2\n",
    "%config InlineBackend.figure_format = 'retina'\n",
    "\n",
    "import warnings\n",
    "import numpy as np\n",
    "import pandas as pd\n",
    "import matplotlib.pyplot as plt\n",
    "from scipy.stats import chi2_contingency\n",
    "from sklearn.linear_model import LinearRegression\n",
    "from sklearn.metrics import r2_score, mean_squared_error\n",
    "\n",
    "%watermark -a 'Ethen' -d -t -v -p scipy,numpy,pandas,sklearn,matplotlib"
   ]
  },
  {
   "cell_type": "markdown",
   "metadata": {},
   "source": [
    "# Multicollearity"
   ]
  },
  {
   "cell_type": "markdown",
   "metadata": {},
   "source": [
    "Many machine learning models have either some inherent internal ranking of features or it is not extremely complicated to generate/access the ranking from the structure of the model. This document discusses the issue of multicollinearity, i.e. how multicollinearity can affect the feature ranking and potential methods that can be used to address them. As we'll be looking at the coefficients of linear regression model for selecting and interpreting features, the next section contains a introduction to this method/algorithm.\n",
    "\n",
    "\n",
    "## Linear Regression\n",
    "\n",
    "Unlike a lot of other tutorials, we'll introduce linear regression from a **maximum likelihood** perspective. The principle of maximum likelihood is at the heart of machine learning. It guides us to find the best model in a search space of all models. In simple terms, Maximum Likelihood Estimation (MLE) lets us choose a model (parameters) that explains the data (training set) better than all other models.\n",
    "\n",
    "### Maximum Likelihood - Primer\n",
    "\n",
    "The process of sampling from a normal distribution is expressed as, $x \\sim \\mathcal{N}(\\mu, \\sigma^{2})$. $x$ is a random variable sampled or generated or simulated from the gaussian distribution. As we sample from this distribution, most samples will fall around the center, near the mean, because of higher probability density in the center.\n",
    "\n",
    "<img src=\"img/normal_random_sample.png\" width=\"60%\" height=\"60%\">\n",
    "\n",
    "Let's consider 3 data points, $y1=1,y2=0.5,y3=1.5$, which are independent and drawn from a gaussian with unknown mean $\\theta$ and constant variance of 1. Suppose we now have two choices for $\\theta$: {1, 2.5}. Which one should we choose? Which model $\\theta$ would explain the data better? In general, any data point drawn from a gaussian with mean $\\theta$ and and variance 1, can be written as,\n",
    "\n",
    "$$\n",
    "\\begin{align}\n",
    "y_i \\sim \\mathcal{N}(\\theta, 1) = \\theta + \\mathcal{N}(0,1)\n",
    "\\end{align}\n",
    "$$\n",
    "\n",
    "This can be read as $\\theta$ the mean, shifts the center of the standard normal distribution ($\\mu = 0$ and $\\sigma^2=1$) The likelihood of data (y1,y2,y3) having been drawn from $\\mathcal{N}(\\theta,1)$, can be expressed as:\n",
    "\n",
    "$$\n",
    "\\begin{align}\n",
    "P(y1,y2,y3 \\vert \\theta) = P(y1 \\vert \\theta) P(y2 \\vert \\theta) P(y3 \\vert \\theta)\n",
    "\\end{align}\n",
    "$$\n",
    "\n",
    "as the data points are assumed to be independent of one another.\n",
    "\n",
    "Now, we have two normal distributions defined by $\\theta = 1$ and $\\theta = 2.5$. Let us draw both and plot the data points. In the figure below, notice the dotted lines that connect the bell curve to the data points. Consider the point $y2=0.5$ in the first distribution $\\mathcal{N}(\\mu=1, \\sigma^2=1)$. The length of the dotted line gives the probability of the $y2=0.5$ being drawn from $\\mathcal{N}(\\mu=1, \\sigma^2=1)$. And the same goes for the second distribution $\\mathcal{N}(\\mu=2.5, \\sigma^2=1)$.\n",
    "\n",
    "<img src=\"img/two_normal_sample.png\" width=\"60%\" height=\"60%\">\n",
    "\n",
    "Knowing that the likelihood of data (y1,y2,y3) having been drawn from $\\mathcal{N}(\\mu=1,\\sigma^2=1)$ is given by:\n",
    "\n",
    "$$\n",
    "\\begin{align}\n",
    "P(y1,y2,y3 \\vert \\theta=1) = P(y1 \\vert \\theta=1) P(y2 \\vert \\theta=1) P(y3 \\vert \\theta=1)\n",
    "\\end{align}\n",
    "$$\n",
    "\n",
    "The individual probabilities in the equation above are equal to the heights of corresponding dotted lines in the figure. We see that the likelihood, computed by the product of individual probabilities of data points given model, is essentially the product of lengths of dotted lines. In this toy example, the likelihood of model $\\theta = 1$ seems to higher than $\\theta = 2.5$, so that's the model we'll be going with."
   ]
  },
  {
   "cell_type": "markdown",
   "metadata": {},
   "source": [
    "### Maximum Likelihood - Linear Regression\n",
    "\n",
    "For linear regression we assume the relationship between our input variable $X$ and our output label $Y$ can be modeled by a linear function.\n",
    "\n",
    "$$\n",
    "\\begin{align}\n",
    "Y = \\theta_0 + \\theta_1X_1 + \\theta_2X_2 + \\ldots + \\theta_pX_p + \\epsilon\n",
    "\\end{align}\n",
    "$$\n",
    "\n",
    "The model assumes the label for each observation, $y_i$, is gaussian distributed with mean, $x_i^T\\theta$ and variance, $\\sigma^2$, which can be written as:\n",
    "\n",
    "$$\n",
    "\\begin{align}\n",
    "y_i &= \\mathcal{N}(x_i^{T}\\theta, \\sigma^{2}) = x_i^{T}\\theta + \\mathcal{N}(0, \\sigma^{2})\\\\\n",
    "prediction, \\hat{y_i} &= x_i^T\\theta\n",
    "\\end{align}\n",
    "$$\n",
    "\n",
    "The mean $x_i^{T}\\theta$ represents the best fitted line with all data points varying around that line, and the term $\\epsilon$, captures this varying variance $\\mathcal{N}(0, \\sigma^{2})$.\n",
    "\n",
    "<img src=\"img/linear_regression.png\" width=\"60%\" height=\"60%\">\n",
    "\n",
    "Now, recall that the formula for the gaussian/normal distribution is:\n",
    "\n",
    "$$\n",
    "\\begin{align}\n",
    "p(x) = \\frac{1}{\\sigma\\sqrt{2\\pi}}e^{-(x-\\mu)^2/2\\sigma^2}\n",
    "\\end{align}\n",
    "$$\n",
    "\n",
    "Given that linear regression assumes each point $y_i$ to be gaussian distributed, the process of learning becomes the process of maximizing the product of the individual probabilities:\n",
    "\n",
    "$$\n",
    "\\begin{align}\n",
    "p(y \\vert X, \\theta, \\sigma)\n",
    "&= \\prod_{i=1}^{n} p(y_i \\vert x_i, \\theta, \\sigma) \\\\\n",
    "&= \\prod_{i=1}^{n} (2\\pi\\sigma^2)^{-1/2} e^{-\\frac{1}{2\\sigma^2}(y_i - x_i^T\\theta)^2}\n",
    "\\end{align}\n",
    "$$\n",
    "\n",
    "Next we rewrite the equation in vector form and due to the fact that the original maximization problem is equivalent to maximizing its log likelihood (log is a monotonic transformation thus does not affect that learned parameters). Thus we take the log to make the derivation later easier.\n",
    "\n",
    "$$\n",
    "\\begin{align}\n",
    "p(y \\vert X, \\theta, \\sigma)\n",
    "&= (2\\pi\\sigma^2)^{-n/2} e^{-\\frac{1}{2\\sigma^2}(y - X\\theta)^2} \\\\\n",
    "&= -\\frac{n}{2}log(2\\pi\\sigma^2) -\\frac{1}{2\\sigma^2}(y-X\\theta)^2\n",
    "\\end{align}\n",
    "$$\n",
    "\n",
    "Our current interest right now is to solve for the unknown parameter $\\theta$ (we can use similar idea to solve for the unknown $\\sigma$), thus we can further simplify the equation above, to remove all the terms that are not relevant to $\\theta$, and in machine learning problems, we're often interested in minimizing the objective function, thus we negate the negative sign and turn the maximization problem into a minimization one.\n",
    "\n",
    "$$\n",
    "\\begin{align}\n",
    "L = \\frac{1}{2}(y-X\\theta)^2\n",
    "\\end{align}\n",
    "$$\n",
    "\n",
    "When introducing linear regression, an alternative way of viewing it is from a least squares perspective. The objective of least squares is to minimize the squared distance between the prediciton and the ground truth. So, we want to minimize the mean squared error: $\\frac{1}{2} (y - X\\theta)^2$. We now see that we can come to the same objective from two different perspective. The following section lists out the derivation for solving $\\theta$."
   ]
  },
  {
   "cell_type": "markdown",
   "metadata": {},
   "source": [
    "We'll first expand this equation:\n",
    "\n",
    "$$\n",
    "\\begin{align}\n",
    "L &= \\frac{1}{2} (y - X\\theta)^2 \\\\\n",
    "  &= \\frac{1}{2} (y - X\\theta)^T(y - X\\theta) \\\\\n",
    "  &= \\frac{1}{2} (y^Ty - 2\\theta^TX^Ty + \\theta^TX^TX\\theta)\n",
    "\\end{align}\n",
    "$$\n",
    "\n",
    "Using the standard rule of minimization in calculus, if we wish to solve for the weight $\\theta$, we would take the derivative w.r.t. $\\theta$ and set it to zero.\n",
    "\n",
    "$$\n",
    "\\begin{align}\n",
    "\\frac{\\partial}{\\partial{\\theta}} \\frac{1}{2} (y^Ty - 2\\theta^TX^Ty + \\theta^TX^TX\\theta) &= 0 \\\\\n",
    "\\frac{1}{2} (2X^Ty - 2X^TX\\theta) &= 0 \\\\\n",
    "X^Ty - X^TX\\theta &= 0\n",
    "\\end {align}\n",
    "$$\n",
    "\n",
    "In the steps above, $y^Ty$ vanished as there’s no $\\theta$ dependence, and $\\theta^TX^TX\\theta$ becomes $2X^TX\\theta$ as $\\theta^T\\theta$ is analogous to $\\theta^2$. As the final step, we will perform some rearrangement of the formula:\n",
    "\n",
    "$$\n",
    "\\begin{align}\n",
    "X^Ty - X^TX\\theta &= 0 \\\\\n",
    "X^TX\\theta &= X^Ty \\\\\n",
    "\\theta &= (X^TX)^{-1}X^Ty\n",
    "\\end {align}\n",
    "$$\n",
    "\n",
    "Matrix calculus can feel a bit handwavy sometimes, if you're not convinced by the derivation above, the following link walks through each individual steps in much more detail. [Blog: The Normal Equation and matrix calculus](https://eli.thegreenplace.net/2015/the-normal-equation-and-matrix-calculus/)\n",
    "\n",
    "---\n",
    "\n",
    "After solving for the coefficients of the regression model, we can use it for selecting and interpreting features, if all features are on the same scale, the most important features should have the highest coefficients in the model, while features uncorrelated with the output variables should have coefficient values close to zero. This approach can work well when the data is not very noisy (or there is a lot of data compared to the number of features) and the features are (relatively) independent:"
   ]
  },
  {
   "cell_type": "code",
   "execution_count": 3,
   "metadata": {},
   "outputs": [
    {
     "name": "stdout",
     "output_type": "stream",
     "text": [
      "Linear model: 0.984 * X1 + 1.995 * X2 + -0.041 * X3\n"
     ]
    }
   ],
   "source": [
    "# sklearn's LinearRegression may give harmless errors\n",
    "# https://github.com/scipy/scipy/issues/5998\n",
    "warnings.filterwarnings(\n",
    "    action = 'ignore', module = 'scipy', message = '^internal gelsd')\n",
    " \n",
    "\n",
    "def pretty_print_linear(estimator, names = None, sort = False):\n",
    "    \"\"\"A helper method for pretty-printing linear models' coefficients\"\"\"\n",
    "    coef = estimator.coef_\n",
    "    if names is None:\n",
    "        names = ['X%s' % x for x in range(1, len(coef) + 1)]\n",
    "\n",
    "    info = zip(coef, names)\n",
    "    if sort:\n",
    "        info = sorted(info, key = lambda x: -np.abs(x[0]))\n",
    "    \n",
    "    output = ['{} * {}'.format(round(coef, 3), name) for coef, name in info]\n",
    "    output = ' + '.join(output)\n",
    "    return output\n",
    " \n",
    "\n",
    "# A dataset with 3 features\n",
    "size = 5000\n",
    "np.random.seed(0)\n",
    "X = np.random.normal(0, 1, (size, 3))\n",
    "\n",
    "# y = X0 + 2 * X1 + noise\n",
    "y = X[:, 0] + 2 * X[:, 1] + np.random.normal(0, 2, size)\n",
    "linear = LinearRegression()\n",
    "linear.fit(X, y)\n",
    "print('Linear model:', pretty_print_linear(linear))"
   ]
  },
  {
   "cell_type": "markdown",
   "metadata": {},
   "source": [
    "As we can see in this example, the model indeed recovers the underlying structure of the data very well, despite quite significant noise in the data. Given that the the predictors are on the same scale, we can compare the coefficients directly to determine variable importance, we can see here that when using linear regression, X2 is the most important predictor for this given dataset. To be explicit, standardized coefficients represent the mean change in the response given one standard deviation change in the predictor.\n",
    "\n",
    "\n",
    "## R-squared\n",
    "\n",
    "After fitting our predictive model, we would most likely wish to evaluate its performance and **R-squared** is a statistic that is often used to evaluate a regression model's performance. It takes a value ranging from 0 to 1 and is usually interpreted as summarizing the percent of variation in the response that the regression model is capable of explaining. So a R-squared of 0.65 means the model explains about 65% of the variation in our dependent variable. Given this logic, we prefer our regression models have a high R-squared, since we want the model we've trained to capture the output's variance as much as possible. One way to compute R-squared is the sum of squared fitted-value deviations divided by the sum of squared original-value deviations:\n",
    "\n",
    "$$\n",
    "\\begin{align}\n",
    "R^{2} =  \\frac{\\sum (\\hat{y} - \\bar{\\hat{y}})^{2}}{\\sum (y - \\bar{y})^{2}}\n",
    "\\end{align}\n",
    "$$\n",
    "\n",
    "- $y$: original reponse variable.\n",
    "- $\\hat{y}$: predicted value for the reponse variable.\n",
    "- $\\bar{y}$: The average of reponse variable (pronounced as y bar).\n",
    "\n",
    "An alternative form is:\n",
    "\n",
    "$$\n",
    "\\begin{align}\n",
    "R^2 = 1 - \\frac{RSS}{TSS} = 1- \\frac{\\sum (y - \\hat{y})^2}{\\sum (y - \\bar{y})^2}\n",
    "\\end{align}\n",
    "$$\n",
    "\n",
    "- RSS: Stands for Residual Sum of Squares or referred to as sum of squared error (the measurement that linear model tries of minimize). This value captures the variance that is left between our prediction and the actual values of the output.\n",
    "- TSS: Stands for Total Sum of Squares, which measures the total variance in the output variable."
   ]
  },
  {
   "cell_type": "code",
   "execution_count": 4,
   "metadata": {},
   "outputs": [
    {
     "name": "stdout",
     "output_type": "stream",
     "text": [
      "rsquared: 0.551603126683\n",
      "rsquared: 0.551603126683\n",
      "rsquared: 0.551603126683\n"
     ]
    }
   ],
   "source": [
    "def rsquared_score(y_true, y_pred):\n",
    "    \"\"\"rsquared evaluation metric\"\"\"\n",
    "    rss = np.sum((y_true - y_pred) ** 2)\n",
    "    tss = np.sum((y_true - np.mean(y_true)) ** 2)\n",
    "    rsquared = 1 - rss / tss\n",
    "    return rsquared\n",
    "\n",
    "\n",
    "y_pred = linear.predict(X)\n",
    "print('rsquared:', rsquared_score(y, y_pred))\n",
    "\n",
    "# we can use scikit-learn's r2_score function\n",
    "# by passing in the predicted value and the true label\n",
    "print('rsquared:', r2_score(y, y_pred))\n",
    "\n",
    "# or for regression models, the default evaluation\n",
    "# metric is set to be rsquared and can be accessed\n",
    "# through the .score method\n",
    "print('rsquared:', linear.score(X, y))"
   ]
  },
  {
   "cell_type": "markdown",
   "metadata": {},
   "source": [
    "Though widely used, this is actually a measurement that requires some context for it to be a valid evaluation metric. We'll give some examples of why:\n",
    "\n",
    "> R-squared can be arbitrarily close to 1 when the model is totally wrong."
   ]
  },
  {
   "cell_type": "code",
   "execution_count": 5,
   "metadata": {},
   "outputs": [
    {
     "name": "stdout",
     "output_type": "stream",
     "text": [
      "rsquared: 0.899545630046\n"
     ]
    },
    {
     "data": {
      "image/png": "[encoded data removed]",
      "text/plain": [
       "<matplotlib.figure.Figure at 0x1149af5c0>"
      ]
     },
     "metadata": {
      "image/png": {
       "height": 361,
       "width": 515
      }
     },
     "output_type": "display_data"
    }
   ],
   "source": [
    "# change default style figure and font size\n",
    "plt.rcParams['figure.figsize'] = 8, 6\n",
    "plt.rcParams['font.size'] = 12\n",
    "\n",
    "# generate some exponential data and fit a linear regression to it\n",
    "rstate = np.random.RandomState(1)\n",
    "x = rstate.exponential(scale = 1 / 0.005, size = 50)\n",
    "y = (x - 1) ** 2 * rstate.uniform(low = 0.8, high = 1.2, size = 50)\n",
    "\n",
    "# scikit-learn model expects a 2d ndarray\n",
    "# even if the data only contains 1 feature\n",
    "X = x.reshape(-1, 1)\n",
    "linear = LinearRegression()\n",
    "linear.fit(X, y)\n",
    "print('rsquared:', linear.score(X, y))\n",
    "\n",
    "y_pred = linear.predict(X)\n",
    "plt.plot(x, y_pred, 'r')\n",
    "plt.scatter(x, y)\n",
    "plt.show()"
   ]
  },
  {
   "cell_type": "markdown",
   "metadata": {},
   "source": [
    "When checking the R-squared value for this model, it’s very high at about 0.90, but the model is completely wrong as this data follows a nonlinear distribution. Using R-squared to justify the \"goodness\" of our model in this instance would be a mistake. Hopefully one would plot the data first and recognize that a simple linear regression in this case would be inappropriate.\n",
    "\n",
    "> We’re better off using Mean Square Error (MSE) or other error-based metric as a measure of prediction error. As R-squared can be anywhere between 0 and 1 just by changing the range of X.\n",
    "\n",
    "Let’s demonstrate this statement by first generating data that meets all simple linear regression assumptions and then regressing y on x to assess both R-squared and MSE."
   ]
  },
  {
   "cell_type": "code",
   "execution_count": 6,
   "metadata": {},
   "outputs": [
    {
     "name": "stdout",
     "output_type": "stream",
     "text": [
      "rsquared: 0.939955704786\n",
      "mse: 0.652556072211\n"
     ]
    },
    {
     "data": {
      "image/png": "[encoded data removed]",
      "text/plain": [
       "<matplotlib.figure.Figure at 0x1149af0f0>"
      ]
     },
     "metadata": {
      "image/png": {
       "height": 361,
       "width": 484
      }
     },
     "output_type": "display_data"
    }
   ],
   "source": [
    "x = np.linspace(1, 10, 100)\n",
    "y = 2 + 1.2 * x + rstate.normal(loc = 0, scale = 0.9, size = 100)\n",
    "X = x.reshape(-1, 1)\n",
    "linear = LinearRegression()\n",
    "linear.fit(X, y)\n",
    "\n",
    "y_pred = linear.predict(X)\n",
    "print('rsquared:', r2_score(y, y_pred))\n",
    "print('mse:', mean_squared_error(y, y_pred))\n",
    "\n",
    "plt.plot(x, y_pred, 'r')\n",
    "plt.scatter(x, y)\n",
    "plt.show()"
   ]
  },
  {
   "cell_type": "markdown",
   "metadata": {},
   "source": [
    "We repeat the above code, but this time with a different range of x. Leaving everything else the same:"
   ]
  },
  {
   "cell_type": "code",
   "execution_count": 7,
   "metadata": {},
   "outputs": [
    {
     "name": "stdout",
     "output_type": "stream",
     "text": [
      "rsquared: 0.113636419988\n",
      "mse: 0.853185480419\n"
     ]
    },
    {
     "data": {
      "image/png": "[encoded data removed]",
      "text/plain": [
       "<matplotlib.figure.Figure at 0x1149a6470>"
      ]
     },
     "metadata": {
      "image/png": {
       "height": 361,
       "width": 477
      }
     },
     "output_type": "display_data"
    }
   ],
   "source": [
    "# smaller range for x\n",
    "x = np.linspace(1, 2, 100)\n",
    "y = 2 + 1.2 * x + rstate.normal(loc = 0, scale = 0.9, size = 100)\n",
    "X = x.reshape(-1, 1)\n",
    "linear = LinearRegression()\n",
    "linear.fit(X, y)\n",
    "\n",
    "y_pred = linear.predict(X)\n",
    "print('rsquared:', r2_score(y, y_pred))\n",
    "print('mse:', mean_squared_error(y, y_pred))\n",
    "\n",
    "plt.plot(x, y_pred, 'r')\n",
    "plt.scatter(x, y)\n",
    "plt.show()"
   ]
  },
  {
   "cell_type": "markdown",
   "metadata": {},
   "source": [
    "R-squared falls from around 0.9 to around 0.2, but the MSE remains fairly the same. In other words the predictive ability is the same for both data sets, but the R-squared would lead you to believe the first example somehow had a model with more predictive power.\n",
    "\n",
    "---\n",
    "\n",
    "The problem we just tackled was particularly well suited for a linear model: purely linear relationship between features and the response variable, and no correlations between features. The issue arises when there are multiple (linearly) correlated features (as is the case with very many real life datasets), the model then becomes unstable, meaning small changes in the data can cause large changes in the model (i.e. coefficient values), making model interpretation very difficult.\n",
    "\n",
    "For example, assume we have a dataset where the \"true\" model for the data is $Y = X1 + X2$, while we observe $\\hat{Y} = X1 + X2 + \\epsilon$, with $\\epsilon$ being the error term. On top of that let's say $X1$ and $X2$ are linearly correlated such that $X1 \\approx X2$. Ideally the learned model will be $Y = X1 + X2$. But depending on the amount of noise $\\epsilon$, the amount of data at hand and the correlation between $X1$ and $X2$, it could also be $Y = 2X1$ (i.e. using only $X1$ as the predictor) or $Y = −X1 + 3X2$ (shifting of the coefficients might happen to give a better fit in the noisy training set) etc."
   ]
  },
  {
   "cell_type": "code",
   "execution_count": 8,
   "metadata": {},
   "outputs": [
    {
     "name": "stdout",
     "output_type": "stream",
     "text": [
      "Linear model: -1.291 * X1 + 1.591 * X2 + 2.747 * X3\n",
      "rsquared: 0.907885896631\n"
     ]
    }
   ],
   "source": [
    "def generate_random_data(size, seed):\n",
    "    \"\"\"Example of collinear features existing within the data\"\"\"\n",
    "    rstate = np.random.RandomState(seed)\n",
    "    X_seed = rstate.normal(0, 1, size)\n",
    "    X1 = X_seed + rstate.normal(0, .1, size)\n",
    "    X2 = X_seed + rstate.normal(0, .1, size)\n",
    "    X3 = X_seed + rstate.normal(0, .1, size)\n",
    "    y = X1 + X2 + X3 + rstate.normal(0, 1, size)\n",
    "    X = np.array([X1, X2, X3]).T\n",
    "    return X, y\n",
    "    \n",
    "\n",
    "seed = 5\n",
    "size = 100\n",
    "X, y = generate_random_data(size, seed)\n",
    "\n",
    "linear = LinearRegression()\n",
    "linear.fit(X, y)\n",
    "print('Linear model:', pretty_print_linear(linear))\n",
    "print('rsquared:', linear.score(X, y))"
   ]
  },
  {
   "cell_type": "markdown",
   "metadata": {},
   "source": [
    "The coefficients of our fitted linear model sums up to ~3, so we can expect it to perform well. On the other hand, if we were to interpret the coefficients at face value, then according to the model $X3$ has a strong positive impact on the output variable, while $X1$ has a negative one, when in fact all the features are correlated and should have equal effects to the output variable. This multicollearity issue also applies to other methods/algorithms and should be addressed before feeding our data to a machine learning method/algorithm.\n",
    "\n",
    "## Variance Inflation Factor\n",
    "\n",
    "One of the most widely used statistical measure of detecting multicollinearity amongst numerical variable is the **Variance Inflation Factor (VIF)**. The VIF may be calculated for each predictor by performing a linear regression of that predictor on all the other predictors, i.e. if we wish to calculate the VIF for predictor $x_k$, then we would use that column as the response variable and use all other columns excluding $x_k$ as the input. After fitted the linear regression, we would then obtain the rsquared value, $R^2$, which tells us how much variance in our predictor $x_k$ can be explained by all the other predictors. Lastly the VIF can be computed using:\n",
    "\n",
    "$$\n",
    "\\begin{align}\n",
    "VIF = \\frac{1}{1 - R^2}\n",
    "\\end{align}\n",
    "$$\n",
    "\n",
    "It’s called the variance inflation factor because it estimates how much the variance of a coefficient is \"inflated\" because of linear dependence with other predictors. Thus, a VIF of 1.8 tells us that the variance (the square of the standard error) of a particular coefficient is 80% larger than it would be if that predictor was completely uncorrelated with all the other predictors."
   ]
  },
  {
   "cell_type": "code",
   "execution_count": 9,
   "metadata": {
    "collapsed": true
   },
   "outputs": [],
   "source": [
    "def remove_collinearity(X, colnames = None, threshold = 5.0):\n",
    "    \"\"\"\n",
    "    Identify multi-collinearity between the numeric variables\n",
    "    using variance inflation factor (vif)\n",
    "    \"\"\"\n",
    "    if colnames is None:\n",
    "        colnames = ['feature' + str(j) for j in range(1, X.shape[1] + 1)]\n",
    "\n",
    "    while True:\n",
    "        n_features = X.shape[1]\n",
    "        if n_features == 1:\n",
    "            break\n",
    "\n",
    "        vif = [compute_vif(X, index) for index in range(n_features)]\n",
    "        max_index = np.argmax(vif)\n",
    "        if vif[max_index] >= threshold:\n",
    "            removed = colnames[max_index]\n",
    "            colnames.remove(removed)\n",
    "            X = np.delete(X, max_index, axis = 1)\n",
    "        else:\n",
    "            break\n",
    "\n",
    "    return X, colnames\n",
    "\n",
    "\n",
    "def compute_vif(X, target_index):\n",
    "    \"\"\"\n",
    "    Similar implementation as statsmodel's variance_inflation_factor\n",
    "    with some enhancemants:\n",
    "    1. includes the intercept by default\n",
    "    2. prevents float division errors (dividing by 0)\n",
    "\n",
    "    References\n",
    "    ----------\n",
    "    http://www.statsmodels.org/dev/generated/statsmodels.stats.outliers_influence.variance_inflation_factor.html\n",
    "    \"\"\"\n",
    "    n_features = X.shape[1]\n",
    "    X_target = X[:, target_index]\n",
    "    mask = np.arange(n_features) != target_index\n",
    "    X_not_target = X[:, mask]\n",
    "\n",
    "    linear = LinearRegression()\n",
    "    linear.fit(X_not_target, X_target)\n",
    "    rsquared = linear.score(X_not_target, X_target)\n",
    "    vif = 1. / (1. - rsquared + 1e-5)\n",
    "    return vif"
   ]
  },
  {
   "cell_type": "code",
   "execution_count": 10,
   "metadata": {},
   "outputs": [
    {
     "name": "stdout",
     "output_type": "stream",
     "text": [
      "remaining feature: ['feature3']\n",
      "Linear model: 3.024 * X1\n",
      "rsquared: 0.903735567258\n"
     ]
    }
   ],
   "source": [
    "# removing collinearity, thus redundant features\n",
    "# while still retaining predictive power\n",
    "X, colnames = remove_collinearity(X)\n",
    "print('remaining feature:', colnames)\n",
    "\n",
    "linear = LinearRegression()\n",
    "linear.fit(X, y)\n",
    "print('Linear model:', pretty_print_linear(linear))\n",
    "print('rsquared:', linear.score(X, y))"
   ]
  },
  {
   "cell_type": "markdown",
   "metadata": {},
   "source": [
    "## Cramer's V\n",
    "\n",
    "Now that we've discussed the method for detecting collinearity amongst numerical variables, we will shift our gears towards categorical variables. **Cramer’s V** is a statistic measuring the strength of association or dependency between two (nominal) categorical variables.\n",
    "\n",
    "Suppose $X$ and $Y$ are two categorical variables that are to be analyzed in a some experimental or observational data with the following information: \n",
    "\n",
    "- $X$ has $M$ distinct categories or classes, labeled $X_1,\\ldots,X_M$.\n",
    "- $Y$ has $N$ distinct categories, labeled $Y_1,\\ldots,Y_N$.\n",
    "- Form a $M\\times N$ contingency table such that cell $(i,j)$ contains the count $n_{ij}$ of occurrences of category $X_i$ in $X$ and category $Y_j$ in $Y$. This would give us $n$ total pairs of observations.\n",
    "\n",
    "We start of with the null hypothesis that $X$ and $Y$ are independent random variables, then based on the table and the null hypothesis, the chi-squared statistic $\\chi^2$ can be computed. After that, Cramer's V is defined to be:\n",
    "\n",
    "$$\n",
    "\\begin{align}\n",
    "V=V(X,Y)=\\sqrt{\\frac{\\chi^2}{n\\operatorname{min}(M-1,N-1)}}\n",
    "\\end{align}\n",
    "$$\n",
    "\n",
    "Remarks:\n",
    "\n",
    "- $0\\leq V\\leq 1$.  The closer $V$ is to 0, the smaller the association between the categorical variables $X$ and $Y$.  On the other hand, $V$ being close to 1 is an indication of a strong association between $X$ and $Y$. If $X=Y$, then $V(X,Y)=1$.\n",
    "- In order for $V$ to make sense, each categorical variable must have at least 2 categories.\n",
    "- If one of the categorical variables is dichotomous, i.e. either $M$ or $N=2$, Cramer's V is equal to the **phi statistic** ($\\Phi$), which is defined to be $\\Phi=\\sqrt{\\frac{\\chi^2}{n}}$.\n",
    "- Cramer's V is a chi-square based measure of association. The chi-square value depends on the strength of the relationship and sample size, while eliminates the sample size by dividing chi-square by $n$, the sample size, and taking the square root."
   ]
  },
  {
   "cell_type": "code",
   "execution_count": 11,
   "metadata": {},
   "outputs": [
    {
     "data": {
      "text/html": [
       "<div>\n",
       "<style>\n",
       "    .dataframe thead tr:only-child th {\n",
       "        text-align: right;\n",
       "    }\n",
       "\n",
       "    .dataframe thead th {\n",
       "        text-align: left;\n",
       "    }\n",
       "\n",
       "    .dataframe tbody tr th {\n",
       "        vertical-align: top;\n",
       "    }\n",
       "</style>\n",
       "<table border=\"1\" class=\"dataframe\">\n",
       "  <thead>\n",
       "    <tr style=\"text-align: right;\">\n",
       "      <th>b</th>\n",
       "      <th>cat</th>\n",
       "      <th>dog</th>\n",
       "    </tr>\n",
       "    <tr>\n",
       "      <th>a</th>\n",
       "      <th></th>\n",
       "      <th></th>\n",
       "    </tr>\n",
       "  </thead>\n",
       "  <tbody>\n",
       "    <tr>\n",
       "      <th>chat</th>\n",
       "      <td>3</td>\n",
       "      <td>0</td>\n",
       "    </tr>\n",
       "    <tr>\n",
       "      <th>chicken</th>\n",
       "      <td>0</td>\n",
       "      <td>4</td>\n",
       "    </tr>\n",
       "  </tbody>\n",
       "</table>\n",
       "</div>"
      ],
      "text/plain": [
       "b        cat  dog\n",
       "a                \n",
       "chat       3    0\n",
       "chicken    0    4"
      ]
     },
     "execution_count": 11,
     "metadata": {},
     "output_type": "execute_result"
    }
   ],
   "source": [
    "# generate a correlated categorical variable\n",
    "# and see if cramer's v method will detect it\n",
    "df = pd.DataFrame(index = range(1, 8))\n",
    "df['a'] = ['chicken', 'chicken', 'chicken', 'chicken', 'chat', 'chat', 'chat']\n",
    "df['b'] = ['dog', 'dog', 'dog', 'dog', 'cat', 'cat', 'cat']\n",
    "observed = pd.crosstab(df['a'], df['b'])\n",
    "observed"
   ]
  },
  {
   "cell_type": "code",
   "execution_count": 12,
   "metadata": {},
   "outputs": [
    {
     "data": {
      "text/plain": [
       "1.0"
      ]
     },
     "execution_count": 12,
     "metadata": {},
     "output_type": "execute_result"
    }
   ],
   "source": [
    "def compute_cramersv(observed, correction = False):\n",
    "    \"\"\"\n",
    "    Parameters\n",
    "    ----------\n",
    "    observed : 2d ndarray\n",
    "        The contingency table. The table contains the observed frequencies\n",
    "        (i.e. number of occurrences) for each category.\n",
    "\n",
    "    correction : bool, default False\n",
    "        If True, and the degrees of freedom is 1, apply Yates’ correction for continuity.\n",
    "        The effect of the correction is to adjust each observed value by 0.5 towards the\n",
    "        corresponding expected value. This is set to False by defualt as the effect of\n",
    "        Yates' correction is to prevent overestimation of statistical significance for small\n",
    "        data. i.e. It is chiefly used when at least one cell of the table has an expected\n",
    "        count smaller than 5. And most people probably aren't working with a data size that's\n",
    "        that small.\n",
    "\n",
    "    Returns\n",
    "    -------\n",
    "    cramersv : float\n",
    "    \"\"\"\n",
    "    n_obs = observed.sum()\n",
    "    n_row, n_col = observed.shape\n",
    "    chi2 = chi2_contingency(observed, correction = correction)[0]\n",
    "    cramersv = np.sqrt(chi2 / (n_obs * min(n_row - 1, n_col - 1)))\n",
    "    return cramersv\n",
    "\n",
    "\n",
    "correction = False\n",
    "observed = observed.values\n",
    "compute_cramersv(observed, correction)"
   ]
  },
  {
   "cell_type": "markdown",
   "metadata": {},
   "source": [
    "# Reference\n",
    "\n",
    "\n",
    "- [Blog: Cramer’s V](http://planetmath.org/cramersv)\n",
    "- [Blog: Is R-squared Useless?](http://data.library.virginia.edu/is-r-squared-useless/)\n",
    "- [Blog: Deriving normal equation](https://wiseodd.github.io/techblog/2017/04/14/normal-equation/)\n",
    "- [Blog: The Principle of Maximum Likelihood](http://suriyadeepan.github.io/2017-01-22-mle-linear-regression/)\n",
    "- [Blog: The Normal Equation and matrix calculus](https://eli.thegreenplace.net/2015/the-normal-equation-and-matrix-calculus/)\n",
    "- [Blog: When Can You Safely Ignore Multicollinearity?](https://statisticalhorizons.com/multicollinearity)\n",
    "- [Blog: Selecting good features – Part II: linear models and regularization\n",
    "](http://blog.datadive.net/selecting-good-features-part-ii-linear-models-and-regularization/)\n",
    "- [Blog: How to Identify the Most Important Predictor Variables in Regression Models](http://blog.minitab.com/blog/adventures-in-statistics-2/how-to-identify-the-most-important-predictor-variables-in-regression-models)\n",
    "- [Github: Duplicate (and highly correlated) categoricals](https://github.com/JosPolfliet/pandas-profiling/issues/40)"
   ]
  }
 ],
 "metadata": {
  "kernelspec": {
   "display_name": "Python 3",
   "language": "python",
   "name": "python3"
  },
  "language_info": {
   "codemirror_mode": {
    "name": "ipython",
    "version": 3
   },
   "file_extension": ".py",
   "mimetype": "text/x-python",
   "name": "python",
   "nbconvert_exporter": "python",
   "pygments_lexer": "ipython3",
   "version": "3.6.3"
  },
  "toc": {
   "nav_menu": {
    "height": "12px",
    "width": "252px"
   },
   "number_sections": true,
   "sideBar": true,
   "skip_h1_title": false,
   "title_cell": "Table of Contents",
   "title_sidebar": "Contents",
   "toc_cell": true,
   "toc_position": {},
   "toc_section_display": "block",
   "toc_window_display": true
  },
  "varInspector": {
   "cols": {
    "lenName": 16,
    "lenType": 16,
    "lenVar": 40
   },
   "kernels_config": {
    "python": {
     "delete_cmd_postfix": "",
     "delete_cmd_prefix": "del ",
     "library": "var_list.py",
     "varRefreshCmd": "print(var_dic_list())"
    },
    "r": {
     "delete_cmd_postfix": ") ",
     "delete_cmd_prefix": "rm(",
     "library": "var_list.r",
     "varRefreshCmd": "cat(var_dic_list()) "
    }
   },
   "types_to_exclude": [
    "module",
    "function",
    "builtin_function_or_method",
    "instance",
    "_Feature"
   ],
   "window_display": false
  }
 },
 "nbformat": 4,
 "nbformat_minor": 2
}
